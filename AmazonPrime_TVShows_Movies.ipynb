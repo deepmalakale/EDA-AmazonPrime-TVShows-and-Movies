{
  "nbformat": 4,
  "nbformat_minor": 0,
  "metadata": {
    "colab": {
      "private_outputs": true,
      "provenance": [],
      "collapsed_sections": [
        "GF8Ens_Soomf"
      ],
      "toc_visible": true,
      "include_colab_link": true
    },
    "kernelspec": {
      "name": "python3",
      "display_name": "Python 3"
    },
    "language_info": {
      "name": "python"
    }
  },
  "cells": [
    {
      "cell_type": "markdown",
      "metadata": {
        "id": "view-in-github",
        "colab_type": "text"
      },
      "source": [
        "<a href=\"https://colab.research.google.com/github/deepmalakale/EDA-AmazonPrime-TVShows-and-Movies/blob/main/AmazonPrime_TVShows_Movies.ipynb\" target=\"_parent\"><img src=\"https://colab.research.google.com/assets/colab-badge.svg\" alt=\"Open In Colab\"/></a>"
      ]
    },
    {
      "cell_type": "markdown",
      "source": [
        "# **Project Name** - Exploratory Data Analysis on Amazon Prime TV Shows and Movies\n",
        "\n"
      ],
      "metadata": {
        "id": "vncDsAP0Gaoa"
      }
    },
    {
      "cell_type": "markdown",
      "source": [
        "##### **Project Type**    - EDA\n",
        "##### **Contribution**    - Individual\n"
      ],
      "metadata": {
        "id": "beRrZCGUAJYm"
      }
    },
    {
      "cell_type": "markdown",
      "source": [
        "# **Project Summary -**"
      ],
      "metadata": {
        "id": "FJNUwmbgGyua"
      }
    },
    {
      "cell_type": "markdown",
      "source": [
        "The **“Amazon Prime TV Shows and Movies”** project analyzes Amazon Prime Video’s content library to uncover key **trends, patterns, and insights** using Python (Pandas, Matplotlib, Seaborn, Plotly) and an interactive **Streamlit web app** for Univariate, Bivariate, and Multivariate exploration.\n",
        "\n",
        "**📂 Datasets Used**\n",
        "\n",
        "**Titles Dataset:** 9,871 records covering title, type, genre, runtime, release year, and ratings.\n",
        "\n",
        "**Credits Dataset:** 124,000+ entries detailing actors, directors, and their roles.\n",
        "\n",
        "**🧹 Data Preparation**\n",
        "Data was cleaned, standardized, and merged, ensuring accuracy by handling missing values and normalizing categories.\n",
        "\n",
        "**📊 Key Insights**\n",
        "\n",
        "Movies dominate over TV shows.\n",
        "\n",
        "Drama, Comedy, and Action are top genres.\n",
        "\n",
        "U.S. and India lead in content production.\n",
        "\n",
        "High IMDb/TMDB scores correlate with popularity.\n",
        "\n",
        "Mature-rated content is most common.\n",
        "\n",
        "**🧭 Impact & Conclusion**\n",
        "The findings guide content strategy, audience targeting, and regional diversification, proving how data-driven insights can strengthen Amazon Prime Video’s growth, engagement, and competitive edge in the streaming market."
      ],
      "metadata": {
        "id": "gWJa-s7GkFB3"
      }
    },
    {
      "cell_type": "markdown",
      "source": [
        "# **GitHub Link -**"
      ],
      "metadata": {
        "id": "w6K7xa23Elo4"
      }
    },
    {
      "cell_type": "markdown",
      "source": [
        "Github Link :https://github.com/deepmalakale/EDA-AmazonPrime-TVShows-and-Movies/blob/main/AmazonPrime_TVShows_Movies.ipynb"
      ],
      "metadata": {
        "id": "h1o69JH3Eqqn"
      }
    },
    {
      "cell_type": "markdown",
      "source": [
        "# **Problem Statement**\n"
      ],
      "metadata": {
        "id": "yQaldy8SH6Dl"
      }
    },
    {
      "cell_type": "markdown",
      "source": [
        "The rapid expansion of video streaming platforms has created an environment where data-driven decision-making is critical for sustaining competitive advantage. Amazon Prime Video, with its vast library of movies and TV shows, faces the challenge of understanding its diverse catalog in terms of content diversity, audience preferences, and regional distribution.\n",
        "\n",
        "The key problems addressed in this project are:\n",
        "\n",
        "**Content Diversity & Trends** – What are the dominant genres, formats (movies vs. shows), and age certifications? How has the catalog evolved over the years?\n",
        "\n",
        "**Regional Analysis** – Which countries contribute the most to Amazon Prime’s content library? Are certain regions underrepresented or overrepresented?\n",
        "\n",
        "**Audience Reception & Popularity** – How do IMDb and TMDB ratings, votes, and popularity scores correlate, and what do they reveal about audience engagement?\n",
        "\n",
        "**Runtime & Release Insights** – What patterns emerge in terms of runtime, release years, and seasonal content availability?\n",
        "\n",
        "**Cast & Crew Contributions** – Who are the most frequently featured actors and directors, and how do they influence content success?\n",
        "\n",
        "By addressing these questions, the project aims to transform **raw datasets** (titles and credits) into a **clean, structured, and insightful analysis.** The insights generated will not only enhance the understanding of Amazon Prime’s current catalog but also **provide strategic guidance for content acquisition, audience targeting, and recommendation systems** in the competitive streaming industry."
      ],
      "metadata": {
        "id": "C-O96mgXlEK3"
      }
    },
    {
      "cell_type": "markdown",
      "source": [
        "#### **Define Your Business Objective?**"
      ],
      "metadata": {
        "id": "PH-0ReGfmX4f"
      }
    },
    {
      "cell_type": "markdown",
      "source": [
        "\n",
        "This project aims to analyze Amazon Prime Video’s catalog to uncover insights into audience preferences, content diversity, and market trends.\n",
        "\n",
        "By exploring genres, regions, release patterns, ratings, and cast/crew data, **the goal is to:**\n",
        "\n",
        "Enhance content strategy by identifying high-performing genres and regions.\n",
        "\n",
        "Boost audience engagement through data-driven recommendations.\n",
        "\n",
        "Drive business growth by aligning content investments with viewer demand."
      ],
      "metadata": {
        "id": "A70dX5n0lWsg"
      }
    },
    {
      "cell_type": "markdown",
      "source": [
        "# ***Let's Begin !***"
      ],
      "metadata": {
        "id": "O_i_v8NEhb9l"
      }
    },
    {
      "cell_type": "markdown",
      "source": [
        "## ***1. Know Your Data***"
      ],
      "metadata": {
        "id": "HhfV-JJviCcP"
      }
    },
    {
      "cell_type": "markdown",
      "source": [
        "### Import Libraries"
      ],
      "metadata": {
        "id": "Y3lxredqlCYt"
      }
    },
    {
      "cell_type": "code",
      "source": [
        "# Import Libraries\n",
        "#from google.colab import drive\n",
        "import os\n",
        "import numpy as np\n",
        "import pandas as pd\n",
        "import matplotlib.pyplot as plt\n",
        "import seaborn as sns"
      ],
      "metadata": {
        "id": "M8Vqi-pPk-HR"
      },
      "execution_count": null,
      "outputs": []
    },
    {
      "cell_type": "code",
      "source": [
        "'''try:\n",
        "  drive.mount('/content/drive')\n",
        "except Exception as e:\n",
        "  print('Error mounting google drive')'''"
      ],
      "metadata": {
        "id": "us0iJ9BSmDKG"
      },
      "execution_count": null,
      "outputs": []
    },
    {
      "cell_type": "markdown",
      "source": [
        "### Dataset Loading"
      ],
      "metadata": {
        "id": "3RnN4peoiCZX"
      }
    },
    {
      "cell_type": "code",
      "source": [
        "'''#creating file path\n",
        "directory = '/content/drive/MyDrive/Colab Notebooks/capston_project/mod2_capston/AmazonPrime'\n",
        "filename_titles = 'titles.csv'\n",
        "filename_credits = 'credits.csv'''"
      ],
      "metadata": {
        "id": "BqAuagN7n7tO"
      },
      "execution_count": null,
      "outputs": []
    },
    {
      "cell_type": "code",
      "source": [
        "'''try:\n",
        "  filepath_titles = os.path.join(directory, filename_titles)\n",
        "  filepath_credits = os.path.join(directory, filename_credits)\n",
        "except Exception as e:\n",
        "  print('Creation of filepath unsuccesful')'''\n",
        "filepath_titles='/content/titles.csv'\n",
        "filepath_credits='/content/credits.csv'"
      ],
      "metadata": {
        "id": "IQMye3wUoNqB"
      },
      "execution_count": null,
      "outputs": []
    },
    {
      "cell_type": "code",
      "source": [
        "# Load Dataset\n",
        "try:\n",
        "  titles = pd.read_csv(filepath_titles)\n",
        "  credits = pd.read_csv(filepath_credits)\n",
        "except Exception as e:\n",
        "  print('Error loading data')\n"
      ],
      "metadata": {
        "id": "4CkvbW_SlZ_R"
      },
      "execution_count": null,
      "outputs": []
    },
    {
      "cell_type": "markdown",
      "source": [
        "### Dataset First View"
      ],
      "metadata": {
        "id": "x71ZqKXriCWQ"
      }
    },
    {
      "cell_type": "code",
      "source": [
        "# Dataset First Look\n",
        "titles.head()"
      ],
      "metadata": {
        "id": "LWNFOSvLl09H"
      },
      "execution_count": null,
      "outputs": []
    },
    {
      "cell_type": "code",
      "source": [
        "\n",
        "credits.head()"
      ],
      "metadata": {
        "id": "4zL9hYSvqHi3"
      },
      "execution_count": null,
      "outputs": []
    },
    {
      "cell_type": "markdown",
      "source": [
        "### Dataset Rows & Columns count"
      ],
      "metadata": {
        "id": "7hBIi_osiCS2"
      }
    },
    {
      "cell_type": "code",
      "source": [
        "# Dataset Rows & Columns count\n",
        "print('Titles Dataset - ', titles.shape)\n",
        "print('----------------')\n",
        "print('Credits Dataset - ', credits.shape)"
      ],
      "metadata": {
        "id": "Kllu7SJgmLij"
      },
      "execution_count": null,
      "outputs": []
    },
    {
      "cell_type": "markdown",
      "source": [
        "### Dataset Information"
      ],
      "metadata": {
        "id": "JlHwYmJAmNHm"
      }
    },
    {
      "cell_type": "code",
      "source": [
        "# Dataset Info\n",
        "print('Titles Dataset Info:\\n')\n",
        "print(titles.info())\n",
        "print('----------------\\n')\n",
        "print('Credits Dataset Info:\\n')\n",
        "print(credits.info())"
      ],
      "metadata": {
        "id": "e9hRXRi6meOf"
      },
      "execution_count": null,
      "outputs": []
    },
    {
      "cell_type": "markdown",
      "source": [
        "#### Duplicate Values"
      ],
      "metadata": {
        "id": "35m5QtbWiB9F"
      }
    },
    {
      "cell_type": "code",
      "source": [
        "# Dataset Duplicate Value Count\n",
        "print('Titles Dataset Duplicate Values - ', titles.duplicated().sum())\n",
        "print('----------------')\n",
        "print('Credits Dataset Duplicate Values - ', credits.duplicated().sum())"
      ],
      "metadata": {
        "id": "1sLdpKYkmox0"
      },
      "execution_count": null,
      "outputs": []
    },
    {
      "cell_type": "code",
      "source": [
        "print('---------Visualising duplicates in titles dataset--------')\n",
        "titles[titles.duplicated()].sort_values(by = 'id')"
      ],
      "metadata": {
        "id": "6ZbhPfVxSvzG"
      },
      "execution_count": null,
      "outputs": []
    },
    {
      "cell_type": "code",
      "source": [
        "print('---------Visualising duplicates in credits dataset--------')\n",
        "credits[credits.duplicated()].sort_values(by = 'id')"
      ],
      "metadata": {
        "id": "Gew67-D6U-gY"
      },
      "execution_count": null,
      "outputs": []
    },
    {
      "cell_type": "markdown",
      "source": [
        "#### Missing Values/Null Values"
      ],
      "metadata": {
        "id": "PoPl-ycgm1ru"
      }
    },
    {
      "cell_type": "code",
      "source": [
        "# Missing Values/Null Values Count\n",
        "print('Titles Dataset Missing Values:\\n')\n",
        "print(titles.isnull().sum())\n",
        "print('----------------')\n",
        "print('Credits Dataset Missing Values:\\n')\n",
        "print(credits.isnull().sum())"
      ],
      "metadata": {
        "id": "GgHWkxvamxVg"
      },
      "execution_count": null,
      "outputs": []
    },
    {
      "cell_type": "code",
      "source": [
        "# Visualizing the missing values in Titles Data using heatmap\n",
        "plt.figure(figsize=(10, 6))\n",
        "sns.heatmap(titles.isnull(), cmap = 'viridis',cbar = False, yticklabels = False)\n",
        "plt.title('Missing values Heatmap')"
      ],
      "metadata": {
        "id": "OrwoYhYVXWmv"
      },
      "execution_count": null,
      "outputs": []
    },
    {
      "cell_type": "code",
      "source": [
        "# Visualizing the missing values in Credits Data using heatmap\n",
        "plt.figure(figsize=(10, 6))\n",
        "sns.heatmap(credits.isnull(), cmap = 'viridis',cbar = False, yticklabels = False)\n",
        "plt.title('Missing values Heatmap')"
      ],
      "metadata": {
        "id": "sRm36e1SYGoq"
      },
      "execution_count": null,
      "outputs": []
    },
    {
      "cell_type": "markdown",
      "source": [
        "### What did you know about your dataset?"
      ],
      "metadata": {
        "id": "H0kj-8xxnORC"
      }
    },
    {
      "cell_type": "markdown",
      "source": [
        "**📊 Dataset Overview**\n",
        "\n",
        "---\n",
        "\n",
        "The dataset used in this project comes from Amazon Prime Video’s catalog (U.S. region) 🇺🇸 — originally in two raw files: titles.csv 📄 and credits.csv 🎭 — and later cleaned 🧼, transformed 🔄, and merged into a consolidated dataframe df 📊.\n",
        "\n",
        "**📐 Dataset Size & Structure**\n",
        "\n",
        "---\n",
        "\n",
        "Titles Dataset: 9,871 unique shows 🎬 & movies 🍿 with 15 attributes.\n",
        "\n",
        "Credits Dataset: 124,235 records of cast 👥 and crew 🎥 with 5 attributes.\n",
        "\n",
        "**Final Dataframe (df):** Combines both datasets, enabling title-level and person-level insights 🔍.\n",
        "\n",
        "**🧮 Types of Variables**\n",
        "\n",
        "---\n",
        "\n",
        "**Categorical Variables:** Content type (Movie/Show 🎞️📺), Age Certification 🔞, Genres 🎭, Production Countries 🌍, Role (Actor/Director 🎬).\n",
        "\n",
        "**Numerical Variables:** Release Year 📅, Runtime ⏱️, Number of Seasons 📺, IMDb/TMDB Ratings ⭐, IMDb Votes 🗳️, TMDB Popularity 🔥.\n",
        "\n",
        "**Text Variables:** Title 📖, Description 📝, Name 🧑‍💼, Character.\n",
        "\n",
        "\n",
        "**🎭 Content Composition**\n",
        "\n",
        "---\n",
        "\n",
        "The catalog includes both movies 🎞️ and TV shows 📺.\n",
        "\n",
        "Genres are diverse (Drama 🎭, Comedy 😂, Action 💥, Thriller 😱, Documentary 🎥).\n",
        "\n",
        "Content originates from multiple production countries 🌎, with the U.S. 🇺🇸 being dominant.\n",
        "\n",
        "**⭐ Ratings & Popularity**\n",
        "\n",
        "---\n",
        "\n",
        "Most titles feature IMDb and TMDB ratings ⭐ — allowing assessment of audience reception.\n",
        "\n",
        "TMDB popularity scores 🔥 offer insights into trending content.\n",
        "\n",
        "**👥 Cast & Crew Data**\n",
        "\n",
        "---\n",
        "\n",
        "The credits dataset enriches analysis by linking actors 🎭 and directors 🎬 to titles.\n",
        "\n",
        "This enables identification of the most frequent actors/directors and collaboration patterns 🔄.\n",
        "\n",
        "**🧹 Data Quality & Cleaning**\n",
        "\n",
        "---\n",
        "\n",
        "Raw datasets had missing values 🚫, outliers 📌 and inconsistencies (e.g., missing runtimes ⏱️, null age certifications 🔞, duplicate records 🔁).\n",
        "\n",
        "**Wrangling steps included:**\n",
        "\n",
        "---\n",
        "\n",
        "Handling null values (imputation or removal) 🧼.\n",
        "\n",
        "Removing or capping outliers (extreme runtimes ⏱️ or unrealistic ratings ⭐).\n",
        "\n",
        "Standardising categorical variables (genres 🎭, countries 🌍).\n",
        "\n",
        "Merging duplicates and ensuring consistency across datasets 🔄.\n",
        "\n",
        "**📊 Final Dataset (df)**\n",
        "\n",
        "---\n",
        "\n",
        "**The final dataframe is structured and reliable, capturing from :**\n",
        "\n",
        "**Title metadata** (name 📖, type 🎞️📺, genres 🎭, ratings ⭐, popularity 🔥).\n",
        "\n",
        "**Credidts metadata** (actors 🎭, directors 🎬, roles 🎭).\n",
        "\n",
        "It serves as a comprehensive foundation for Exploratory Data Analysis (EDA) 🔍 and deriving business insights 💡."
      ],
      "metadata": {
        "id": "gfoNAAC-nUe_"
      }
    },
    {
      "cell_type": "markdown",
      "source": [
        "## ***2. Understanding Your Variables***"
      ],
      "metadata": {
        "id": "nA9Y7ga8ng1Z"
      }
    },
    {
      "cell_type": "code",
      "source": [
        "# Dataset Columns\n",
        "print('Titles Dataset Columns:\\n')\n",
        "print(titles.columns)\n",
        "print('----------------')\n",
        "print('Credits Dataset Columns:\\n')\n",
        "print(credits.columns)"
      ],
      "metadata": {
        "id": "j7xfkqrt5Ag5"
      },
      "execution_count": null,
      "outputs": []
    },
    {
      "cell_type": "code",
      "source": [
        "# Dataset Describe\n",
        "print('Titles Dataset Describe:\\n')\n",
        "print(titles.describe())\n",
        "print('----------------')\n",
        "print('Credits Dataset Describe:\\n')\n",
        "print(credits.describe(include = 'all'))"
      ],
      "metadata": {
        "id": "DnOaZdaE5Q5t"
      },
      "execution_count": null,
      "outputs": []
    },
    {
      "cell_type": "markdown",
      "source": [
        "### Variables Description"
      ],
      "metadata": {
        "id": "PBTbrJXOngz2"
      }
    },
    {
      "cell_type": "markdown",
      "source": [
        "The dataset consists of two files — titles.csv and credits.csv — which were merged into a consolidated dataframe (df) for analysis. Below is the description of the key variables:\n",
        "\n",
        "**Titles Dataset (titles.csv)**\n",
        "\n",
        "> Contains metadata of TV shows and movies available on Amazon Prime.\n",
        "\n",
        "- id : Unique identifier of the title (`on JustWatch`).\n",
        "\n",
        "- title : Name of the movie or TV show.\n",
        "\n",
        "- type : Content type: Movie or TV Show.\n",
        "\n",
        "- description : Brief synopsis of the title.\n",
        "\n",
        "- release_year : Year in which the title was released.\n",
        "\n",
        "- age_certification : Age rating (`e.g., PG, R, 18+`).\n",
        "\n",
        "- runtime : Duration of the movie or average length of an episode (`in minutes`).\n",
        "\n",
        "- genres : List of genres (`Drama, Comedy, Action, etc.`).\n",
        "\n",
        "- production_countries : Countries involved in producing the title.\n",
        "\n",
        "- seasons : Number of seasons (`only for TV shows`).\n",
        "\n",
        "- imdb_id : Unique IMDb identifier.\n",
        "\n",
        "- imdb_score : IMDb rating score (`0–10`).\n",
        "\n",
        "- imdb_votes : Number of IMDb user votes.\n",
        "\n",
        "- tmdb_popularity : Popularity score from TMDB.\n",
        "\n",
        "- tmdb_score : TMDB rating score.\n",
        "\n",
        "**Credits Dataset (credits.csv)**\n",
        "\n",
        "> Contains cast and crew details for each title.\n",
        "\n",
        "- person_id : Unique identifier for an actor/director.\n",
        "\n",
        "- id : Title ID (`to link with titles dataset`).\n",
        "\n",
        "- name : Name of the person (`actor or director`).\n",
        "\n",
        "- character : Character played (`if actor`).\n",
        "\n",
        "- role : Role in the production (`ACTOR or DIRECTOR`)."
      ],
      "metadata": {
        "id": "aJV4KIxSnxay"
      }
    },
    {
      "cell_type": "markdown",
      "source": [
        "### Check Unique Values for each variable."
      ],
      "metadata": {
        "id": "u3PMJOP6ngxN"
      }
    },
    {
      "cell_type": "code",
      "source": [
        "#Check count of unique values for each variable\n",
        "print('Count of unique values in Titles Dataset--------')\n",
        "for col in titles.columns:\n",
        "  count = titles[col].nunique()\n",
        "  print(f'{col} : {count}')\n",
        "\n",
        "print('----------------')\n",
        "\n",
        "print('Count of unique values in Credits Dataset')\n",
        "for col in credits.columns:\n",
        "  count = credits[col].nunique()\n",
        "  print(f'{col} : {count}')"
      ],
      "metadata": {
        "id": "YTKgHfkxD3dT"
      },
      "execution_count": null,
      "outputs": []
    },
    {
      "cell_type": "code",
      "source": [
        "# Check Unique Values for each variable.\n",
        "print('Unique Values in Titles Dataset-------')\n",
        "for col in titles.columns:\n",
        "  print(f\"{col} : {titles[col].unique()}\")\n"
      ],
      "metadata": {
        "id": "zms12Yq5n-jE"
      },
      "execution_count": null,
      "outputs": []
    },
    {
      "cell_type": "code",
      "source": [
        "print('Unique values in Credits Dataset--------')\n",
        "for col in credits.columns:\n",
        "  print(f'{col} : {credits[col].unique()}')"
      ],
      "metadata": {
        "id": "NDgcl3RpD1si"
      },
      "execution_count": null,
      "outputs": []
    },
    {
      "cell_type": "markdown",
      "source": [
        "### 3. Data Wrangling"
      ],
      "metadata": {
        "id": "dauF4eBmngu3"
      }
    },
    {
      "cell_type": "markdown",
      "source": [
        "#### Initial Preprocessing\n"
      ],
      "metadata": {
        "id": "xTbLdZqEImq9"
      }
    },
    {
      "cell_type": "code",
      "source": [
        "#Remove Duplicated Values\n",
        "try:\n",
        "  titles.drop_duplicates(inplace = True)\n",
        "  credits.drop_duplicates(inplace = True)\n",
        "except Exception as e:\n",
        "  print('Could not delete duplicates')"
      ],
      "metadata": {
        "id": "h3anc7ATE2Cq"
      },
      "execution_count": null,
      "outputs": []
    },
    {
      "cell_type": "code",
      "source": [
        "print('Duplicate Count after processing')\n",
        "print(f'Duplicate count in Titles Dataset: {titles.duplicated().sum()}')\n",
        "print('-----------')\n",
        "print(f'Duplicate count in Credits Dataset: {credits.duplicated().sum()}')\n"
      ],
      "metadata": {
        "id": "OIldHWQMFJyC"
      },
      "execution_count": null,
      "outputs": []
    },
    {
      "cell_type": "markdown",
      "source": [
        "#### Drop columns with 70% or more null values"
      ],
      "metadata": {
        "id": "UgvSbK_4I3X7"
      }
    },
    {
      "cell_type": "code",
      "source": [
        "#Checking % of null values for each column\n",
        "\n",
        "titlesLen = titles.shape[0]\n",
        "for col in titles.columns:\n",
        "  null_count = titles[col].isnull().sum()\n",
        "  print(f'% null values in {col} : {(null_count * 100 / titlesLen):.2f}%')"
      ],
      "metadata": {
        "id": "kAZMqT-GJBJe"
      },
      "execution_count": null,
      "outputs": []
    },
    {
      "cell_type": "code",
      "source": [
        "#We can see that seasons column has more than 70% null values\n",
        "#So we will drop these columns\n",
        "\n",
        "try:\n",
        "  titles = titles.drop(columns = ['seasons'])\n",
        "except Exception as e:\n",
        "  print(f'Error dropping columns')\n"
      ],
      "metadata": {
        "id": "OC7rK7NHKOtN"
      },
      "execution_count": null,
      "outputs": []
    },
    {
      "cell_type": "code",
      "source": [
        "#Remaining columns after dropping seasons\n",
        "titles.columns"
      ],
      "metadata": {
        "id": "HwkaWv8eQ9hl"
      },
      "execution_count": null,
      "outputs": []
    },
    {
      "cell_type": "code",
      "source": [
        "#Check Null values in other columns for insights\n",
        "titles[titles['description'].isnull() & titles['imdb_score'].isnull() & titles['imdb_votes'].isnull() & titles['tmdb_popularity'].isnull() & titles['tmdb_score'].isnull()]"
      ],
      "metadata": {
        "id": "4dAZwG5Vvtvo"
      },
      "execution_count": null,
      "outputs": []
    },
    {
      "cell_type": "code",
      "source": [
        "#Since we can see that there are 69 rows with all null column values\n",
        "# We can drop these rows as well\n",
        "\n",
        "rowIndex = list(titles[titles['description'].isnull() & titles['imdb_score'].isnull() & titles['imdb_votes'].isnull() & titles['tmdb_popularity'].isnull() & titles['tmdb_score'].isnull()].index)\n",
        "titles = titles.drop(index= rowIndex)"
      ],
      "metadata": {
        "id": "ZF-5_6zv1ze5"
      },
      "execution_count": null,
      "outputs": []
    },
    {
      "cell_type": "markdown",
      "source": [
        "###**Cleaning of Columns:**"
      ],
      "metadata": {
        "id": "r_TUElD8cUcU"
      }
    },
    {
      "cell_type": "markdown",
      "source": [
        "#### Clean Description Column"
      ],
      "metadata": {
        "id": "lys7EVe39bS7"
      }
    },
    {
      "cell_type": "code",
      "source": [
        "#Since we cannot use any statistical method to fill null values for description column, we will instead fill it with 'Unknown'\n",
        "#This will help us to keep track for further processing and analysis\n",
        "\n",
        "titles['description'] = titles['description'].fillna('Unknown')"
      ],
      "metadata": {
        "id": "Yvj56_AG4Jli"
      },
      "execution_count": null,
      "outputs": []
    },
    {
      "cell_type": "code",
      "source": [
        "titles['description'].isnull().sum()"
      ],
      "metadata": {
        "id": "VrmsCGXg-iD4"
      },
      "execution_count": null,
      "outputs": []
    },
    {
      "cell_type": "markdown",
      "source": [
        "#### Clean Age-Certification Column"
      ],
      "metadata": {
        "id": "JJ2ddBZ1EVmp"
      }
    },
    {
      "cell_type": "code",
      "source": [
        "# We will fill the null values with 'Unknown'\n",
        "# The remaining values will give us insights to analyse this column\n",
        "# Cleaning any leading/trailig whitespaces as well\n",
        "\n",
        "titles['age_certification'] = titles['age_certification'].fillna('Unknown').str.strip()\n"
      ],
      "metadata": {
        "id": "CzVPHVE9EZRz"
      },
      "execution_count": null,
      "outputs": []
    },
    {
      "cell_type": "code",
      "source": [
        "titles['age_certification'].isnull().sum()"
      ],
      "metadata": {
        "id": "ttBOdornE7nH"
      },
      "execution_count": null,
      "outputs": []
    },
    {
      "cell_type": "markdown",
      "source": [
        "#### Clean Imdb-ID Column"
      ],
      "metadata": {
        "id": "k4RM6SGOFfUU"
      }
    },
    {
      "cell_type": "code",
      "source": [
        "\n",
        "# We will fill the null values with 'Unknown'\n",
        "# Cleaning any leading/trailig whitespaces as well\n",
        "\n",
        "titles['imdb_id'] = titles['imdb_id'].fillna('Unknown').str.strip()"
      ],
      "metadata": {
        "id": "8R-NsOZzG7Gs"
      },
      "execution_count": null,
      "outputs": []
    },
    {
      "cell_type": "code",
      "source": [
        "titles['imdb_id'].isnull().sum()"
      ],
      "metadata": {
        "id": "zAR0oe4QHLNl"
      },
      "execution_count": null,
      "outputs": []
    },
    {
      "cell_type": "markdown",
      "source": [
        "#### Clean imdb score"
      ],
      "metadata": {
        "id": "QX4v4xHo-m7H"
      }
    },
    {
      "cell_type": "code",
      "source": [
        "#Check DataType of the imdb column to use appropriate statistical model\n",
        "titles['imdb_score'].dtype"
      ],
      "metadata": {
        "id": "6VWuNs9J_M3I"
      },
      "execution_count": null,
      "outputs": []
    },
    {
      "cell_type": "code",
      "source": [
        "#Check the skewness of the column\n",
        "titles['imdb_score'].skew()"
      ],
      "metadata": {
        "id": "AfsPR-NS_sdA"
      },
      "execution_count": null,
      "outputs": []
    },
    {
      "cell_type": "code",
      "source": [
        "#The column data is normally skewed, visualizing this through a histogram\n",
        "plt.title('Visualization of imdb_score (includes Null)')\n",
        "sns.histplot(data = titles, x = 'imdb_score', kde = True)"
      ],
      "metadata": {
        "id": "MTba7029_ajY"
      },
      "execution_count": null,
      "outputs": []
    },
    {
      "cell_type": "code",
      "source": [
        "titles[\"type\"].head()"
      ],
      "metadata": {
        "id": "KQeIRYGlLasR"
      },
      "execution_count": null,
      "outputs": []
    },
    {
      "cell_type": "code",
      "source": [
        "#Using mean on groupby 'type' column to fill null values\n",
        "titles['imdb_score'] = titles['imdb_score'].fillna(titles.groupby('type')['imdb_score'].transform('mean'))"
      ],
      "metadata": {
        "id": "4fXpbvPTAh7p"
      },
      "execution_count": null,
      "outputs": []
    },
    {
      "cell_type": "code",
      "source": [
        "#Rounding the mean values to 2 decimal places\n",
        "titles['imdb_score'] = titles['imdb_score'].apply(lambda x: round(x,2))"
      ],
      "metadata": {
        "id": "kpVChU_rxD0M"
      },
      "execution_count": null,
      "outputs": []
    },
    {
      "cell_type": "code",
      "source": [
        "titles['imdb_score'].isnull().sum()"
      ],
      "metadata": {
        "id": "RzfmsIuPJYFj"
      },
      "execution_count": null,
      "outputs": []
    },
    {
      "cell_type": "markdown",
      "source": [
        "#### Clean imdb_votes"
      ],
      "metadata": {
        "id": "eR8l4_79g-Q6"
      }
    },
    {
      "cell_type": "code",
      "source": [
        "#Check column datatype\n",
        "titles['imdb_votes'].dtype"
      ],
      "metadata": {
        "id": "d6rYOnnjhEU5"
      },
      "execution_count": null,
      "outputs": []
    },
    {
      "cell_type": "code",
      "source": [
        "#Check column skewness\n",
        "titles['imdb_score'].skew()"
      ],
      "metadata": {
        "id": "R7_kg48DhaQA"
      },
      "execution_count": null,
      "outputs": []
    },
    {
      "cell_type": "code",
      "source": [
        "#Visualising column skewness through histplot\n",
        "plt.title('Visualization of imdb_votes (includes null)')\n",
        "plt.xscale(\"log\")\n",
        "sns.histplot(data = titles, x = 'imdb_votes', kde = True)\n"
      ],
      "metadata": {
        "id": "56C0-lB4jibR"
      },
      "execution_count": null,
      "outputs": []
    },
    {
      "cell_type": "code",
      "source": [
        "#Column is normally skewed, so we fill the values with mean\n",
        "titles['imdb_votes'] = titles['imdb_votes'].fillna(titles.groupby('type')['imdb_votes'].transform('mean'))"
      ],
      "metadata": {
        "id": "eOkr6Rfhk-Jv"
      },
      "execution_count": null,
      "outputs": []
    },
    {
      "cell_type": "code",
      "source": [
        "titles['imdb_votes'].isnull().sum()"
      ],
      "metadata": {
        "id": "O2CdCvNMmIoa"
      },
      "execution_count": null,
      "outputs": []
    },
    {
      "cell_type": "code",
      "source": [
        "#Since votes cannot be in fraction, we will convert this column datatype to int\n",
        "titles['imdb_votes'] = titles['imdb_votes'].astype(int)"
      ],
      "metadata": {
        "id": "g7VxRdvGhqxS"
      },
      "execution_count": null,
      "outputs": []
    },
    {
      "cell_type": "markdown",
      "source": [
        "#### Clean tmdb_popularity"
      ],
      "metadata": {
        "id": "2cODfYwOql6Z"
      }
    },
    {
      "cell_type": "code",
      "source": [
        "titles['tmdb_popularity'].dtype"
      ],
      "metadata": {
        "id": "Oko3I_pbqpt5"
      },
      "execution_count": null,
      "outputs": []
    },
    {
      "cell_type": "code",
      "source": [
        "#Check column skewness\n",
        "titles['tmdb_popularity'].skew()"
      ],
      "metadata": {
        "id": "4kKKdkCbq2QL"
      },
      "execution_count": null,
      "outputs": []
    },
    {
      "cell_type": "code",
      "source": [
        "#The column values are right skewed by a large margin\n",
        "#Visualising it through a histplot\n",
        "\n",
        "plt.title('Visualization of tmdb_popularity (includes Null)')\n",
        "plt.xscale(\"symlog\") #Symmetric log scale to visualize wide range of skewed data\n",
        "sns.histplot(data = titles, x = 'tmdb_popularity', kde = True)"
      ],
      "metadata": {
        "id": "ay7LVzxgq8Ol"
      },
      "execution_count": null,
      "outputs": []
    },
    {
      "cell_type": "code",
      "source": [
        "titles['tmdb_popularity'].isnull().sum()"
      ],
      "metadata": {
        "id": "TRf8mpPltag_"
      },
      "execution_count": null,
      "outputs": []
    },
    {
      "cell_type": "code",
      "source": [
        "#Since the column is right skewed\n",
        "#We will fill the null values with median within each type group\n",
        "\n",
        "titles['tmdb_popularity'] = titles['tmdb_popularity'].fillna(titles.groupby('type')['tmdb_popularity'].transform('median'))"
      ],
      "metadata": {
        "id": "xpQFELi9td2I"
      },
      "execution_count": null,
      "outputs": []
    },
    {
      "cell_type": "code",
      "source": [
        "#After cleaning null values\n",
        "print(titles['tmdb_popularity'].isnull().sum())\n",
        "print('-----------------')\n",
        "print('tmdb_popularity values after processing null values')\n",
        "print(titles['tmdb_popularity'].head(10))"
      ],
      "metadata": {
        "id": "bhhQ44Ogt6PP"
      },
      "execution_count": null,
      "outputs": []
    },
    {
      "cell_type": "markdown",
      "source": [
        "#### Clean tmdb_score"
      ],
      "metadata": {
        "id": "FNE-wc2UwT1D"
      }
    },
    {
      "cell_type": "code",
      "source": [
        "titles['tmdb_score'].isnull().sum()"
      ],
      "metadata": {
        "id": "yP2Hlc5Uwnjc"
      },
      "execution_count": null,
      "outputs": []
    },
    {
      "cell_type": "code",
      "source": [
        "#Find skewness of the tmdb_score column\n",
        "titles['tmdb_score'].skew()"
      ],
      "metadata": {
        "id": "gl40lmbG5hgF"
      },
      "execution_count": null,
      "outputs": []
    },
    {
      "cell_type": "code",
      "source": [
        "#Visualising skewness through histplot\n",
        "plt.title(\"Visualising tmdb_score (Includes Null)\")\n",
        "sns.histplot(data = titles, x ='tmdb_score', kde = True)"
      ],
      "metadata": {
        "id": "D7oe9dEI5q6n"
      },
      "execution_count": null,
      "outputs": []
    },
    {
      "cell_type": "code",
      "source": [
        "#Tmdb_score is normally skewed so we replace the null values with mean based on type\n",
        "titles['tmdb_score'] = titles['tmdb_score'].fillna(titles.groupby('type')['tmdb_score'].transform('mean'))"
      ],
      "metadata": {
        "id": "_mflprmP6IWm"
      },
      "execution_count": null,
      "outputs": []
    },
    {
      "cell_type": "code",
      "source": [
        "titles['tmdb_score'].isnull().sum()"
      ],
      "metadata": {
        "id": "ZVhbkHHuCTB0"
      },
      "execution_count": null,
      "outputs": []
    },
    {
      "cell_type": "code",
      "source": [
        "titles.info()"
      ],
      "metadata": {
        "id": "phiYL-BXCkv_"
      },
      "execution_count": null,
      "outputs": []
    },
    {
      "cell_type": "markdown",
      "source": [
        "### Preprocess Credits Dataset"
      ],
      "metadata": {
        "id": "SLLDts8wfrxo"
      }
    },
    {
      "cell_type": "markdown",
      "source": [
        "### Clean Character Column"
      ],
      "metadata": {
        "id": "81WcjCg5i91T"
      }
    },
    {
      "cell_type": "code",
      "source": [
        "credits.isnull().sum()"
      ],
      "metadata": {
        "id": "F62svYLXjA0f"
      },
      "execution_count": null,
      "outputs": []
    },
    {
      "cell_type": "code",
      "source": [
        "# Filling the null character values with Unknown\n",
        "credits['character'] = credits['character'].fillna('Unknown')"
      ],
      "metadata": {
        "id": "va8R5oywjJ0y"
      },
      "execution_count": null,
      "outputs": []
    },
    {
      "cell_type": "code",
      "source": [
        "titles.isnull().sum()"
      ],
      "metadata": {
        "id": "VAFZq0gWrBrC"
      },
      "execution_count": null,
      "outputs": []
    },
    {
      "cell_type": "code",
      "source": [
        "credits.isnull().sum()"
      ],
      "metadata": {
        "id": "npTdaRR2rFgR"
      },
      "execution_count": null,
      "outputs": []
    },
    {
      "cell_type": "markdown",
      "source": [
        "### Merging Titles and Credits Dataset on common 'id' column"
      ],
      "metadata": {
        "id": "2p-DC53coAAf"
      }
    },
    {
      "cell_type": "code",
      "source": [
        "titles.head()"
      ],
      "metadata": {
        "id": "5pPSuGk_oH92"
      },
      "execution_count": null,
      "outputs": []
    },
    {
      "cell_type": "code",
      "source": [
        "credits.head()"
      ],
      "metadata": {
        "id": "h5Dmw_FKoMYU"
      },
      "execution_count": null,
      "outputs": []
    },
    {
      "cell_type": "code",
      "source": [
        "#Now that both the dataset is clean, we can merge them on common 'id' column for final analysis and visualization\n",
        "#We will merge on Left Outer Join, keeping all the values from titles dataset and matching values from credits dataset\n",
        "\n",
        "ct_dataset = pd.merge(titles, credits, how = 'left', on = 'id')"
      ],
      "metadata": {
        "id": "fuoUH-lHoTM1"
      },
      "execution_count": null,
      "outputs": []
    },
    {
      "cell_type": "code",
      "source": [
        "ct_dataset.shape"
      ],
      "metadata": {
        "id": "ZlMVm9FrsMyL"
      },
      "execution_count": null,
      "outputs": []
    },
    {
      "cell_type": "code",
      "source": [
        "#First look of merged dataset\n",
        "\n",
        "ct_dataset.head()"
      ],
      "metadata": {
        "id": "BIK_9l2kpYbi"
      },
      "execution_count": null,
      "outputs": []
    },
    {
      "cell_type": "code",
      "source": [
        "# Checking for any null values after merging\n",
        "ct_dataset.isnull().sum()"
      ],
      "metadata": {
        "id": "quTCLecopyh7"
      },
      "execution_count": null,
      "outputs": []
    },
    {
      "cell_type": "code",
      "source": [
        "ct_dataset[\"release_year\"].dtype"
      ],
      "metadata": {
        "id": "mNSklqIdgzGd"
      },
      "execution_count": null,
      "outputs": []
    },
    {
      "cell_type": "code",
      "source": [
        "# First look at the null data\n",
        "\n",
        "ct_dataset[ct_dataset['person_id'].isnull() & ct_dataset['name'].isnull() & ct_dataset['character'].isnull() & ct_dataset['role'].isnull()]"
      ],
      "metadata": {
        "id": "6m_Zz43uuCx6"
      },
      "execution_count": null,
      "outputs": []
    },
    {
      "cell_type": "code",
      "source": [
        "# From this data we can figure out that several other columns have values such as 'Unknown' or mean / median processed values\n",
        "# Narrowing the data based on these metrics to possibly drop from the table\n",
        "temp = ct_dataset[ct_dataset['person_id'].isnull() & ct_dataset['name'].isnull() & ct_dataset['character'].isnull() & ct_dataset['role'].isnull()]\n",
        "temp[(temp['age_certification'] == 'Unknown')]"
      ],
      "metadata": {
        "id": "OkbDl6K7vhYk"
      },
      "execution_count": null,
      "outputs": []
    },
    {
      "cell_type": "code",
      "source": [
        "# Checking if there are any duplicate values in the merged dataset\n",
        "\n",
        "ct_dataset.duplicated().sum()"
      ],
      "metadata": {
        "id": "zq4wMLtpzCBb"
      },
      "execution_count": null,
      "outputs": []
    },
    {
      "cell_type": "code",
      "source": [
        "# Removing rows where most values are NAN and other columns are 'Unknown'\n",
        "rows = temp[(temp['age_certification'] == 'Unknown')].index\n",
        "ct_dataset.drop(index = rows, inplace = True)"
      ],
      "metadata": {
        "id": "ax36gVeizROE"
      },
      "execution_count": null,
      "outputs": []
    },
    {
      "cell_type": "markdown",
      "source": [
        "### Filling Null values in merged dataset with 'Unknown' since these are categorical data"
      ],
      "metadata": {
        "id": "CDGXwUmwz4Tq"
      }
    },
    {
      "cell_type": "code",
      "source": [
        "# Final processing\n",
        "# Applying directly to all the null column values\n",
        "\n",
        "df = ct_dataset.fillna('Unknown')"
      ],
      "metadata": {
        "id": "7yHICXOV0CnH"
      },
      "execution_count": null,
      "outputs": []
    },
    {
      "cell_type": "code",
      "source": [
        "\n",
        "# Last check for any null values\n",
        "df.isnull().sum()"
      ],
      "metadata": {
        "id": "GsZI_ahy0V9W"
      },
      "execution_count": null,
      "outputs": []
    },
    {
      "cell_type": "markdown",
      "source": [
        "**Remove Outliers**"
      ],
      "metadata": {
        "id": "OBHS0PiAkuZm"
      }
    },
    {
      "cell_type": "code",
      "source": [
        "#Outlier visualisation code using Box Plot\n",
        "import seaborn as sns\n",
        "import matplotlib.pyplot as plt\n",
        "import pandas as pd\n",
        "\n",
        "\n",
        "# Get numeric columns\n",
        "numeric_cols = df.select_dtypes(include='number').columns.tolist()\n",
        "num_cols = len(numeric_cols)\n",
        "\n",
        "# Compute number of rows needed, 3 plots per row\n",
        "n_cols_per_row = 3\n",
        "n_rows = (num_cols + n_cols_per_row - 1) // n_cols_per_row\n",
        "\n",
        "# Create subplots grid\n",
        "fig, axes = plt.subplots(n_rows, n_cols_per_row, figsize=(6 * n_cols_per_row, 4 * n_rows), squeeze=False)\n",
        "\n",
        "# Flatten axes for easy indexing\n",
        "axes_flat = axes.flatten()\n",
        "\n",
        "# Set Seaborn style\n",
        "sns.set(style=\"whitegrid\")\n",
        "\n",
        "# Use a color palette\n",
        "colors = sns.color_palette(\"Set2\", num_cols)  # Enough colors for all plots\n",
        "\n",
        "for idx, col in enumerate(numeric_cols):\n",
        "    ax = axes_flat[idx]\n",
        "    sns.boxplot(\n",
        "        x=df[col],\n",
        "        orient='h',\n",
        "        ax=ax,\n",
        "        width=0.6,\n",
        "        whis=1.5,\n",
        "        fliersize=5,\n",
        "        linewidth=1.2,\n",
        "        color=colors[idx]  # Use color instead of palette to avoid warning\n",
        "    )\n",
        "    ax.set_title(col, fontsize=12)\n",
        "    ax.set_yticks([])         # Hide y-axis ticks\n",
        "    sns.despine(ax=ax, left=True)\n",
        "\n",
        "# Turn off unused subplots, if any\n",
        "for idx in range(num_cols, len(axes_flat)):\n",
        "    fig.delaxes(axes_flat[idx])\n",
        "\n",
        "plt.tight_layout(pad=3)\n",
        "plt.show()"
      ],
      "metadata": {
        "id": "Y0ADy-NOkxxW"
      },
      "execution_count": null,
      "outputs": []
    },
    {
      "cell_type": "code",
      "source": [],
      "metadata": {
        "id": "jK_LqG-c5ZaS"
      },
      "execution_count": null,
      "outputs": []
    },
    {
      "cell_type": "code",
      "source": [
        "#Outlier Removal code based on IQR\n",
        "#MARK\n",
        "import pandas as pd\n",
        "\n",
        "def remove_outliers_iqr(df):\n",
        "    df_clean = df.copy()\n",
        "    num_cols = df_clean.select_dtypes(include='number').columns\n",
        "\n",
        "    for col in num_cols:\n",
        "        Q1 = df_clean[col].quantile(0.25)\n",
        "        Q3 = df_clean[col].quantile(0.75)\n",
        "        IQR = Q3 - Q1\n",
        "        lower_bound = Q1 - 1.5 * IQR\n",
        "        upper_bound = Q3 + 1.5 * IQR\n",
        "\n",
        "        # Keep only rows within bounds\n",
        "        df_clean = df_clean[(df_clean[col] >= lower_bound) & (df_clean[col] <= upper_bound)]\n",
        "\n",
        "    return df_clean\n",
        "\n",
        "# Apply function\n",
        "df_cleaned = remove_outliers_iqr(df)\n",
        "\n",
        "\n",
        "print(\"Original shape:\", df.shape)\n",
        "df = remove_outliers_iqr(df)"
      ],
      "metadata": {
        "id": "IRgLhlyxk2em"
      },
      "execution_count": null,
      "outputs": []
    },
    {
      "cell_type": "code",
      "source": [
        "#Box plot Visualization after removal of Outliers\n",
        "\n",
        "import matplotlib.pyplot as plt\n",
        "import seaborn as sns\n",
        "import numpy as np\n",
        "\n",
        "\n",
        "\n",
        "# Select numeric columns\n",
        "num_cols = df.select_dtypes(include=np.number).columns.tolist()\n",
        "\n",
        "# Define subplot layout: 3 plots per row\n",
        "n_cols = 3\n",
        "n_rows = int(np.ceil(len(num_cols) / n_cols))\n",
        "\n",
        "# Seaborn style and color palette\n",
        "sns.set(style=\"whitegrid\")\n",
        "colors = sns.color_palette(\"Set2\", len(num_cols))\n",
        "\n",
        "# Create subplots\n",
        "fig, axes = plt.subplots(n_rows, n_cols, figsize=(6 * n_cols, 4 * n_rows))\n",
        "axes = axes.flatten()  # Flatten in case of multiple rows\n",
        "\n",
        "# Plot each numeric column as horizontal boxplot\n",
        "for i, col in enumerate(num_cols):\n",
        "    sns.boxplot(x=df[col], ax=axes[i], color=colors[i], orient='h')\n",
        "    axes[i].set_title(f'Boxplot of {col}', fontsize=12)\n",
        "    axes[i].set_xlabel('')\n",
        "    axes[i].set_ylabel('')\n",
        "\n",
        "# Remove any unused subplots\n",
        "for j in range(i + 1, len(axes)):\n",
        "    fig.delaxes(axes[j])\n",
        "\n",
        "plt.tight_layout(pad=3)  # Good spacing between subplots\n",
        "plt.show()"
      ],
      "metadata": {
        "id": "IIqgnKsZk7KM"
      },
      "execution_count": null,
      "outputs": []
    },
    {
      "cell_type": "markdown",
      "source": [
        "### What all manipulations have you done and insights you found?"
      ],
      "metadata": {
        "id": "MSa1f5Uengrz"
      }
    },
    {
      "cell_type": "markdown",
      "source": [
        "🛠️ Data Manipulations Performed\n",
        "\n",
        "To ensure the dataset was ready for analysis, several data cleaning and transformation steps were performed:\n",
        "\n",
        "🔗 Merging Datasets\n",
        "\n",
        "Combined the titles dataset (titles.csv) and credits dataset (credits.csv) on the common key (id).\n",
        "\n",
        "Resulted in a consolidated dataframe (df) containing both title-level metadata and cast/crew details.\n",
        "\n",
        "🧹 Handling Missing Values\n",
        "\n",
        "Removed duplicate entries.\n",
        "\n",
        "Imputed or dropped missing values for fields like description, runtime, age certification, and ratings (imdb_score, tmdb_score).\n",
        "\n",
        "📉 Outlier Treatment\n",
        "\n",
        "Identified and removed outliers in runtime, ratings, and popularity scores using the IQR method.\n",
        "\n",
        "Ensured unrealistic entries (e.g., extremely high runtimes) were corrected or excluded.\n",
        "\n",
        "🔄 Data Standardization\n",
        "\n",
        "Normalized categorical variables like genres, production countries, and age certification.\n",
        "\n",
        "Set id as a unique index where appropriate.\n",
        "\n",
        "🧠 Feature Engineering\n",
        "\n",
        "Derived year-wise distributions of titles.\n",
        "\n",
        "Classified content into Movies vs. TV Shows.\n",
        "\n",
        "Counted actor/director frequency to study cast/crew prominence.\n",
        "\n",
        "📊 Visualization & EDA\n",
        "\n",
        "Created box plots, bar plots, violin plots, treemaps, bubble plots, heatmaps, pie/donut charts, and correlation plots using Seaborn and Plotly for interactivity.\n",
        "\n",
        "🔍 Insights Found\n",
        "🎬 Content Composition\n",
        "\n",
        "Amazon Prime hosts more movies than TV shows.\n",
        "\n",
        "Certain genres (Drama, Comedy, Action) dominate the catalog, while niche genres are less represented.\n",
        "\n",
        "📈 Trends Over Time\n",
        "\n",
        "Significant growth in content release after 2010, showing Prime’s rapid expansion.\n",
        "\n",
        "Recent years show diversification in genres and international productions.\n",
        "\n",
        "🌍 Regional Distribution\n",
        "\n",
        "Majority of titles are produced in the United States, but strong representation also comes from India, UK, and Canada.\n",
        "\n",
        "⏱️ Runtime Analysis\n",
        "\n",
        "Movies generally fall within the 90–120 minute range.\n",
        "\n",
        "Outliers were present (very short or very long movies), which were filtered during cleaning.\n",
        "\n",
        "⭐ Audience Ratings & Popularity\n",
        "\n",
        "High IMDb/TMDB ratings correlate with higher popularity scores.\n",
        "\n",
        "A few low-rated titles still have high popularity, suggesting marketing or trending factors.\n",
        "\n",
        "🔞 Age Certification\n",
        "\n",
        "A significant proportion of content is rated 18+ or PG-13, highlighting Prime’s focus on adult and teen audiences.\n",
        "\n",
        "🎭 Cast & Crew Insights\n",
        "\n",
        "Frequent actors and directors were identified (through credits dataset).\n",
        "\n",
        "Certain directors and actors are repeatedly associated with highly-rated content."
      ],
      "metadata": {
        "id": "LbyXE7I1olp8"
      }
    },
    {
      "cell_type": "code",
      "source": [
        "# Save DataFrame as CSV\n",
        "df.to_csv('mydata.csv', index=False)"
      ],
      "metadata": {
        "id": "XYWHQUD9svgD"
      },
      "execution_count": null,
      "outputs": []
    },
    {
      "cell_type": "markdown",
      "source": [
        "## ***4. Data Vizualization, Storytelling & Experimenting with charts : Understand the relationships between variables***"
      ],
      "metadata": {
        "id": "GF8Ens_Soomf"
      }
    },
    {
      "cell_type": "markdown",
      "source": [
        "## Chart - 1 :Histogram\n",
        "## Univatiate Analysis\n",
        "**“How are IMDb scores distributed across Movies and TV Shows on Amazon Prime?”**"
      ],
      "metadata": {
        "id": "EtRU3OhPZuK2"
      }
    },
    {
      "cell_type": "code",
      "source": [
        "# Histogram visualization code\n",
        "import seaborn as sns\n",
        "import matplotlib.pyplot as plt\n",
        "\n",
        "# Set Seaborn style\n",
        "sns.set_theme(style=\"whitegrid\")\n",
        "\n",
        "# Use safe font (no emoji issues)\n",
        "plt.rcParams['font.family'] = 'DejaVu Sans'\n",
        "\n",
        "# Create the figure\n",
        "plt.figure(figsize=(12, 7))\n",
        "\n",
        "# Plot histogram\n",
        "ax = sns.histplot(\n",
        "    data=df,\n",
        "    x=\"imdb_score\",\n",
        "    hue=\"type\",                   # Differentiate Movies and TV Shows\n",
        "    bins=30,\n",
        "    kde=True,\n",
        "    palette=[\"#1f77b4\", \"#ff7f0e\"],   # Prime-inspired colors\n",
        "    alpha=0.7,\n",
        "    legend=True                   # Seaborn handles legend automatically\n",
        ")\n",
        "\n",
        "# Title and labels\n",
        "plt.title(\"Distribution of IMDb Scores by Content Type on Amazon Prime\",\n",
        "          fontsize=18, fontweight=\"bold\", color=\"#2E4053\", pad=15)\n",
        "plt.xlabel(\"IMDb Score\", fontsize=14, color=\"#1a5276\")\n",
        "plt.ylabel(\"Number of Titles\", fontsize=14, color=\"#1a5276\")\n",
        "\n",
        "# ✅ Get the legend from Seaborn axis (no manual plt.legend)\n",
        "leg = ax.get_legend()\n",
        "if leg is not None:\n",
        "    leg.set_title(\"Type\")\n",
        "    plt.setp(leg.get_title(), fontsize=13, fontweight='bold')\n",
        "    plt.setp(leg.get_texts(), fontsize=12)\n",
        "\n",
        "# Grid and annotations\n",
        "plt.grid(alpha=0.2)\n",
        "plt.text(8.5, 4000, \"Higher-rated Titles →\", color=\"#145A32\", fontsize=13, fontweight=\"bold\")\n",
        "plt.text(4.0, 4000, \"← Lower-rated Titles\", color=\"#922B21\", fontsize=13, fontweight=\"bold\")\n",
        "\n",
        "plt.tight_layout()\n",
        "plt.show()\n"
      ],
      "metadata": {
        "id": "-HcVJIXrqkQI"
      },
      "execution_count": null,
      "outputs": []
    },
    {
      "cell_type": "markdown",
      "source": [
        "### **1. Why did you pick the specific chart?**"
      ],
      "metadata": {
        "id": "K5QZ13OEpz2H"
      }
    },
    {
      "cell_type": "markdown",
      "source": [
        "**📊 The histogram is ideal for this analysis because:**\n",
        "\n",
        "---\n",
        "It shows the distribution pattern of a single numeric variable (imdb_score).\n",
        "\n",
        "The use of hue='type' adds a comparative layer between Movies and TV Shows.\n",
        "\n",
        "It skewness, helping us spot whether the majority of Prime content is highly rated, average, or low-rated.\n",
        "\n",
        "It’s visually intuitive — easy for both technical and non-technical audiences to interpret."
      ],
      "metadata": {
        "id": "XESiWehPqBRc"
      }
    },
    {
      "cell_type": "markdown",
      "source": [
        "### **2. What is/are the insight(s) found from the chart?**"
      ],
      "metadata": {
        "id": "lQ7QKXXCp7Bj"
      }
    },
    {
      "cell_type": "markdown",
      "source": [
        "**After examining the visualization, several insights emerged:**\n",
        "\n",
        "---\n",
        "⭐ Most IMDb scores lie between 6.0 and 8.0, showing that Prime content is generally well-received.\n",
        "\n",
        "🎥 Movies (blue) have a slightly higher density around 7.0–8.0, suggesting that they tend to achieve better audience ratings than TV Shows.\n",
        "\n",
        "⚙️ TV Shows (orange) display more spread, indicating diverse viewer reception.\n",
        "\n",
        "🚫 Few titles fall below 4.0, meaning low-quality content is minimal.\n",
        "\n",
        "🏆 A small cluster above 9.0 represents critically acclaimed or exclusive original titles.\n",
        "\n",
        "💡 **Inference:** Amazon Prime maintains strong quality consistency across its library, with most content achieving above-average viewer satisfaction."
      ],
      "metadata": {
        "id": "C_j1G7yiqdRP"
      }
    },
    {
      "cell_type": "markdown",
      "source": [
        "### **3. Will the gained insights help creating a positive business impact?**\n",
        "*Are there any insights that lead to negative growth? Justify with specific reason.*"
      ],
      "metadata": {
        "id": "448CDAPjqfQr"
      }
    },
    {
      "cell_type": "markdown",
      "source": [
        "---\n",
        "**💼 Positive Business Impact**\n",
        "\n",
        "---\n",
        "✅ These insights have strong strategic implications for Amazon Prime Video.\n",
        "\n",
        "**🧾 Quality Benchmarking:**\n",
        "\n",
        "---\n",
        "Most titles scoring between 6–8 gives Amazon a performance benchmark for upcoming releases.\n",
        "\n",
        "**🎬 Content Investment Strategy:**\n",
        "\n",
        "---\n",
        "Since Movies outperform TV Shows slightly, Amazon can prioritize investment in high-rated genres or formats.\n",
        "\n",
        "**👥 Customer Retention:**\n",
        "\n",
        "---\n",
        "A consistently strong rating distribution increases viewer trust and satisfaction, leading to higher retention rates.\n",
        "\n",
        "**🔁 Recommendation Optimization:**\n",
        "\n",
        "---\n",
        "IMDb scores can refine the recommendation algorithm, promoting higher-rated titles to improve engagement.\n",
        "\n",
        "---\n",
        "\n",
        "**⚠️ Potential Negative Insights & Risks**\n",
        "\n",
        "---\n",
        "\n",
        "**🚩 Possible Concern:**\n",
        "\n",
        "---\n",
        "If future analyses show IMDb ratings drifting below 5.\n",
        "**it may indicate:**\n",
        "\n",
        "Decline in production quality,\n",
        "Audience involement, or\n",
        "Content overload with too many average shows.\n",
        "\n",
        "**📉 Business Impact:**\n",
        "\n",
        "---\n",
        "This could lead to reduced engagement, brand fatigue, and eventually subscriber churn.\n",
        "\n",
        "---\n",
        "**✅ Action Plan:**\n",
        "\n",
        "---\n",
        "Continuously monitor IMDb score trends.\n",
        "\n",
        "\n",
        "Use viewer feedback and ratings as early warning signals for content strategy adjustments."
      ],
      "metadata": {
        "id": "3cspy4FjqxJW"
      }
    },
    {
      "cell_type": "markdown",
      "source": [
        "## Chart - 2  Bar plot\n",
        "## Univatiate Analysis\n",
        "\n",
        "**“Which content rating category (like TV-MA, PG-13, etc.) dominates Amazon Prime’s library, and how does it differ between Movies and TV Shows?”**"
      ],
      "metadata": {
        "id": "krHWtKhVZ2-1"
      }
    },
    {
      "cell_type": "code",
      "source": [
        "import seaborn as sns\n",
        "import matplotlib.pyplot as plt\n",
        "import pandas as pd\n",
        "import numpy as np\n",
        "\n",
        "# Copy the original DataFrame to avoid modifying it directly\n",
        "data = df.copy()\n",
        "\n",
        "# 🧹 Clean and preprocess the data\n",
        "# Handle missing or blank ratings\n",
        "data['age_certification'] = data['age_certification'].fillna(\"Not Rated\")\n",
        "data['age_certification'] = data['age_certification'].replace('', \"Not Rated\")\n",
        "\n",
        "# Standardize 'type' column: remove spaces, fix casing, and unify naming\n",
        "data['type'] = data['type'].str.strip().str.title()\n",
        "\n",
        "# Fix inconsistent entries (ensure all are either \"Movie\" or \"TV Show\")\n",
        "data['type'] = data['type'].replace({\n",
        "    'Tv Show': 'TV Show',\n",
        "    'Show': 'TV Show',\n",
        "    'Tvshow': 'TV Show',\n",
        "    'Movies': 'Movie'\n",
        "})\n",
        "\n",
        "# Check final unique values (optional)\n",
        "# print(data['type'].unique())\n",
        "\n",
        "# 🧩 Group by age certification and type\n",
        "grouped_data = (\n",
        "    data.groupby(['age_certification', 'type'])\n",
        "    .size()\n",
        "    .reset_index(name='count')\n",
        "    .sort_values(by='count', ascending=False)\n",
        ")\n",
        "\n",
        "# 🎨 Define a professional color palette\n",
        "palette = {\"Movie\": \"#1f77b4\", \"TV Show\": \"#ff7f0e\"}\n",
        "\n",
        "# 📊 Create the figure\n",
        "plt.figure(figsize=(12, 7))\n",
        "sns.set_theme(style=\"whitegrid\")\n",
        "\n",
        "# 📈 Grouped bar plot\n",
        "sns.barplot(\n",
        "    data=grouped_data,\n",
        "    x='age_certification',\n",
        "    y='count',\n",
        "    hue='type',\n",
        "    palette=palette\n",
        ")\n",
        "\n",
        "# 🏷️ Titles and axis labels\n",
        "plt.title(\"🍿 Distribution of Content Ratings by Type on Amazon Prime\",\n",
        "          fontsize=18, fontweight=\"bold\", color=\"#2E4053\", pad=15)\n",
        "plt.xlabel(\"Age Certification (Content Rating)\", fontsize=14, color=\"#1a5276\")\n",
        "plt.ylabel(\"Number of Titles\", fontsize=14, color=\"#1a5276\")\n",
        "plt.xticks(rotation=45, fontsize=12)\n",
        "plt.legend(title=\"Type\", title_fontsize=13, fontsize=12)\n",
        "\n",
        "plt.tight_layout()\n",
        "plt.show()\n"
      ],
      "metadata": {
        "id": "YZ7im5G2rLH7"
      },
      "execution_count": null,
      "outputs": []
    },
    {
      "cell_type": "markdown",
      "source": [
        "### **1. Why did you pick the specific chart?**"
      ],
      "metadata": {
        "id": "t6dVpIINYklI"
      }
    },
    {
      "cell_type": "markdown",
      "source": [
        "✅ **Categorical Comparison:**\n",
        "\n",
        "---\n",
        "The variable age_certification is categorical (e.g., 7+, 13+, 16+, 18+). A bar plot is ideal for comparing the frequency of each category visually.\n",
        "\n",
        "\n",
        "\n",
        "✅ **Clarity & Interpretability:**\n",
        "\n",
        "---\n",
        "Bar plots clearly show which certifications dominate — easy to interpret at a glance and perfect for business storytelling or stakeholder presentations."
      ],
      "metadata": {
        "id": "5aaW0BYyYklI"
      }
    },
    {
      "cell_type": "markdown",
      "source": [
        "### **2. What is/are the insight(s) found from the chart?**"
      ],
      "metadata": {
        "id": "ijmpgYnKYklI"
      }
    },
    {
      "cell_type": "markdown",
      "source": [
        "📈 **1. Dominant Certifications:**\n",
        "\n",
        "---\n",
        "The chart likely shows that most titles fall under “13+” and “16+”, indicating Amazon Prime’s core audience is teenagers and adults.\n",
        "\n",
        "🎬 **2. Content Type Trends:**\n",
        "\n",
        "---\n",
        "Movies have higher counts in 13+ and 16+ ratings — suggesting more mature themes like action, thriller, or drama.\n",
        "\n",
        "👨‍👩‍👧 **3. Gaps in “Kids” or “Family” Content:**\n",
        "\n",
        "---\n",
        "The 7+ or All Ages segments are likely small, showing a limited focus on younger audiences compared to competitors like Disney+."
      ],
      "metadata": {
        "id": "PSx9atu2YklI"
      }
    },
    {
      "cell_type": "markdown",
      "source": [
        "### **3. Will the gained insights help creating a positive business impact?**\n",
        "*Are there any insights that lead to negative growth? Justify with specific reason.*"
      ],
      "metadata": {
        "id": "-JiQyfWJYklI"
      }
    },
    {
      "cell_type": "markdown",
      "source": [
        "---\n",
        "✅ **Positive Impact**\n",
        "\n",
        "---\n",
        "\n",
        "**Targeted Engagement:**\n",
        "\n",
        "---\n",
        "Focusing on 13+ to 18+ age groups aligns with the most active streaming, boosting watch time and subscription retention.\n",
        "\n",
        "**Strong Adult Genre Portfolio:**\n",
        "\n",
        "---\n",
        "Consistent mature content reinforces Prime Video’s premium and global appeal in genres like crime, action, and drama.\n",
        "\n",
        "---\n",
        "**⚠️ Negative Growth Risk**\n",
        "\n",
        "---\n",
        "**Underrepresentation of Family/Kids Content:**\n",
        "\n",
        "---\n",
        "The small share of 7+ or Not Rated titles limits potential audience diversification.\n",
        "\n",
        "This may reduce Prime’s competitiveness in the family entertainment market.\n",
        "\n"
      ],
      "metadata": {
        "id": "BcBbebzrYklV"
      }
    },
    {
      "cell_type": "markdown",
      "source": [
        "## Chart - 3: Pie plot\n",
        "\n",
        "## Univariate Analysis\n",
        "**“What is the distribution of content production countries on Amazon Prime Video?” 🌍**"
      ],
      "metadata": {
        "id": "EM7whBJCYoAo"
      }
    },
    {
      "cell_type": "code",
      "source": [
        "import matplotlib.pyplot as plt\n",
        "import seaborn as sns\n",
        "\n",
        "data=df\n",
        "\n",
        "# Clean and prepare data\n",
        "data['production_countries'] = data['production_countries'].fillna(\"Unknown\")\n",
        "data['main_country'] = data['production_countries'].apply(lambda x: x.split(\",\")[0] if isinstance(x, str) else \"Unknown\")\n",
        "\n",
        "# Count top 8 countries\n",
        "country_dist = data['main_country'].value_counts().head(8)\n",
        "\n",
        "# Refined color palette (pastel theme)\n",
        "colors = sns.color_palette(\"pastel\", n_colors=len(country_dist))\n",
        "\n",
        "# Create Pie Plot\n",
        "plt.figure(figsize=(9, 9))\n",
        "plt.pie(\n",
        "    country_dist,\n",
        "    labels=country_dist.index,\n",
        "    autopct='%1.1f%%',\n",
        "    startangle=120,\n",
        "    colors=colors,\n",
        "    textprops={'fontsize': 13, 'color': '#2E4053'}\n",
        ")\n",
        "\n",
        "# Title\n",
        "plt.title(\"🌍 Distribution of Content Production Countries on Amazon Prime Video\",\n",
        "          fontsize=18, fontweight=\"bold\", color=\"#2E4053\", pad=20)\n",
        "\n",
        "plt.tight_layout()\n",
        "plt.show()\n"
      ],
      "metadata": {
        "id": "t6GMdE67YoAp"
      },
      "execution_count": null,
      "outputs": []
    },
    {
      "cell_type": "markdown",
      "source": [
        "### **1. Why did you pick the specific chart?**"
      ],
      "metadata": {
        "id": "fge-S5ZAYoAp"
      }
    },
    {
      "cell_type": "markdown",
      "source": [
        "🍰 A Pie Plot is the best choice for visualizing proportions of categories within a whole.\n",
        "It clearly shows how much each country contributes to the total catalog — allowing for instant visual comparison of dominance and diversity."
      ],
      "metadata": {
        "id": "5dBItgRVYoAp"
      }
    },
    {
      "cell_type": "markdown",
      "source": [
        "### **2. What is/are the insight(s) found from the chart?**"
      ],
      "metadata": {
        "id": "85gYPyotYoAp"
      }
    },
    {
      "cell_type": "markdown",
      "source": [
        "🔹 The United States leads by a wide margin.\n",
        "\n",
        "🔹 India and United Kingdom follow as strong contributors.\n",
        "\n",
        "🔹 Other countries like Canada, Japan, and France hold smaller but notable shares.\n",
        "\n",
        "🔹 This suggests a Western-centric catalog, but also a growing global diversity in content creation."
      ],
      "metadata": {
        "id": "4jstXR6OYoAp"
      }
    },
    {
      "cell_type": "markdown",
      "source": [
        "### **3. Will the gained insights help creating a positive business impact?**\n",
        "*Are there any insights that lead to negative growth? Justify with specific reason.*"
      ],
      "metadata": {
        "id": "RoGjAbkUYoAp"
      }
    },
    {
      "cell_type": "markdown",
      "source": [
        "---\n",
        "**Positive impact**\n",
        "\n",
        "---\n",
        "This analysis helps Amazon Prime identify which regions are major content producers and where investment gaps exist.\n",
        "\n",
        "**It supports decisions like:**\n",
        "\n",
        "---\n",
        "Expanding localized content production in underrepresented regions.\n",
        "\n",
        "Balancing global vs. regional content mix for higher engagement.\n",
        "\n",
        "💰 In business terms, this can boost global subscriptions and increase market inclusivity — leading to positive growth.\n",
        "\n",
        "\n",
        "---\n",
        "**⚠️ Negative impact.**\n",
        "\n",
        "---\n",
        "Overreliance on the US content base can limit growth in diverse global markets.\n",
        "\n",
        "If the content remains too Western-centric, it may fail to attract audiences in countries with strong local preferences (e.g., Japan, Korea, Middle East).\n",
        "\n",
        "Hence, while the dominance of US titles ensures\n",
        "quality, lack of localization could hinder subscriber growth in emerging regions."
      ],
      "metadata": {
        "id": "PPBqkK0EXgps"
      }
    },
    {
      "cell_type": "markdown",
      "source": [
        "## Chart - 4 :Box plot\n",
        "\n",
        "## Univariate Analysis\n",
        "\n",
        "**“How does the runtime distribution vary between Movies and TV Shows on Amazon Prime Video?” ⏱️🎥📺**"
      ],
      "metadata": {
        "id": "4Of9eVA-YrdM"
      }
    },
    {
      "cell_type": "code",
      "source": [
        "import seaborn as sns\n",
        "import matplotlib.pyplot as plt\n",
        "\n",
        "\n",
        "data=df\n",
        "\n",
        "# Clean and prepare data\n",
        "data['runtime'] = data['runtime'].fillna(0)\n",
        "data = data[data['runtime'] > 0]\n",
        "data['age_certification'] = data['age_certification'].fillna('Not Rated')\n",
        "\n",
        "# Set theme\n",
        "sns.set_theme(style=\"whitegrid\")\n",
        "\n",
        "plt.figure(figsize=(12, 7))\n",
        "\n",
        "# Box Plot with hue for age certification\n",
        "sns.boxplot(\n",
        "    data=data,\n",
        "    x='type',\n",
        "    y='runtime',\n",
        "    hue='age_certification',\n",
        "    palette='Set2'\n",
        ")\n",
        "\n",
        "# Titles and axis labels\n",
        "plt.title(\"⏱️ Runtime Distribution by Content Type and Age Rating on Amazon Prime Video\",\n",
        "          fontsize=18, fontweight=\"bold\", color=\"#2E4053\", pad=15)\n",
        "plt.xlabel(\"Content Type\", fontsize=14, color=\"#1a5276\")\n",
        "plt.ylabel(\"Runtime (minutes)\", fontsize=14, color=\"#1a5276\")\n",
        "plt.xticks(fontsize=12)\n",
        "plt.yticks(fontsize=12)\n",
        "plt.legend(title=\"Age Certification\", fontsize=11, title_fontsize=12, loc=\"upper right\")\n",
        "\n",
        "plt.tight_layout()\n",
        "plt.show()\n"
      ],
      "metadata": {
        "id": "irlUoxc8YrdO"
      },
      "execution_count": null,
      "outputs": []
    },
    {
      "cell_type": "markdown",
      "source": [
        "### **1. Why did you pick the specific chart?**"
      ],
      "metadata": {
        "id": "iky9q4vBYrdO"
      }
    },
    {
      "cell_type": "markdown",
      "source": [
        "📦 A Box Plot is ideal for comparing distributions of a numerical variable (IMDb score) across different categories (type: Movie vs. TV Show).\n",
        "\n",
        "**✅ Reasons for choosing Box Plot:**\n",
        "\n",
        "---\n",
        "\n",
        "Highlights outliers — exceptionally high or low-rated titles.\n",
        "\n",
        "Allows side-by-side comparison between two content types.\n",
        "\n"
      ],
      "metadata": {
        "id": "aJRCwT6DYrdO"
      }
    },
    {
      "cell_type": "markdown",
      "source": [
        "### **2. What is/are the insight(s) found from the chart?**"
      ],
      "metadata": {
        "id": "F6T5p64dYrdO"
      }
    },
    {
      "cell_type": "markdown",
      "source": [
        "🎬 Movies show a much higher  runtime, especially for adult-rated and unrestricted titles (R, 18+, Not Rated), which tend to run between 100–150 minutes.\n",
        "\n",
        "📺 TV Shows, across all age certifications, cluster around 20–60 minutes, showing structured episodic formats.\n",
        "\n",
        "**Interestingly:**\n",
        "\n",
        "---\n",
        "Family or Kids-rated content (e.g., PG, G) tends to have shorter runtimes, both for movies and shows.\n",
        "\n",
        "Adult-rated content dominates the longer runtime range, indicating more production scale.\n"
      ],
      "metadata": {
        "id": "Xx8WAJvtYrdO"
      }
    },
    {
      "cell_type": "markdown",
      "source": [
        "### **3. Will the gained insights help creating a positive business impact?**\n",
        "*Are there any insights that lead to negative growth? Justify with specific reason.*"
      ],
      "metadata": {
        "id": "y-Ehk30pYrdP"
      }
    },
    {
      "cell_type": "markdown",
      "source": [
        "**📈 Positive Impacts:**\n",
        "\n",
        "---\n",
        "Enables content duration optimization for different viewer groups (e.g., shorter family content, longer mature dramas).\n",
        "\n",
        "Guides recommendation algorithms — showing users runtimes that match their viewing habits.\n",
        "\n",
        "These insights improve user satisfaction, platform retention, and personalization accuracy, all of which enhance Prime Video’s business growth.\n",
        "\n",
        "\n",
        "\n",
        "**⚠️ Potential Risk:**\n",
        "\n",
        "---\n",
        "If too much focus is placed on long-format and adult-rated content, it might alienate younger or family audiences.\n",
        "\n",
        "To avoid this, Amazon must sustain diverse content lengths and age categories, ensuring inclusivity and viewer variety."
      ],
      "metadata": {
        "id": "jLNxxz7MYrdP"
      }
    },
    {
      "cell_type": "markdown",
      "source": [
        "## Chart - 5: Scatter Plot\n",
        "## Bi-Variate Analysis\n",
        "\n",
        "**“Is there a relationship between IMDb Score and IMDb Popularity for Amazon Prime Titles?” ⭐📈**"
      ],
      "metadata": {
        "id": "bamQiAODYuh1"
      }
    },
    {
      "cell_type": "code",
      "source": [
        "import seaborn as sns\n",
        "import matplotlib.pyplot as plt\n",
        "import pandas as pd\n",
        "\n",
        "# Copy dataset\n",
        "data = df.copy()\n",
        "\n",
        "# 🧹 Clean data: handle missing or invalid values\n",
        "data = data.dropna(subset=['imdb_score', 'tmdb_popularity', 'type'])\n",
        "data = data[(data['imdb_score'] > 0) & (data['tmdb_popularity'] > 0)]\n",
        "\n",
        "# 🔤 Standardize and clean the 'type' column completely\n",
        "data['type'] = data['type'].astype(str).str.strip().str.title()\n",
        "data['type'] = data['type'].replace({\n",
        "    'Tv Show': 'TV Show',\n",
        "    'Show': 'TV Show',\n",
        "    'Tvshow': 'TV Show',\n",
        "    'Tv Shows': 'TV Show',\n",
        "    'Movie ': 'Movie',\n",
        "    'Movies': 'Movie'\n",
        "})\n",
        "\n",
        "# ✅ Keep only 'Movie' and 'TV Show' types\n",
        "data = data[data['type'].isin(['Movie', 'TV Show'])]\n",
        "\n",
        "# 🎨 Set the visual style\n",
        "sns.set_theme(style=\"whitegrid\")\n",
        "\n",
        "plt.figure(figsize=(12, 7))\n",
        "\n",
        "# 📊 Scatter Plot\n",
        "sns.scatterplot(\n",
        "    data=data,\n",
        "    x='imdb_score',\n",
        "    y='tmdb_popularity',\n",
        "    hue='type',\n",
        "    palette={'Movie': '#1f77b4', 'TV Show': '#ff7f0e'},\n",
        "    alpha=0.7,\n",
        "    s=70,\n",
        "    edgecolor='white'\n",
        ")\n",
        "\n",
        "# 🏷️ Titles and axis labels\n",
        "plt.title(\"⭐ Relationship between IMDb Score and TMDb Popularity on Amazon Prime Video\",\n",
        "          fontsize=18, fontweight=\"bold\", color=\"#2E4053\", pad=15)\n",
        "plt.xlabel(\"IMDb Score\", fontsize=14, color=\"#1A5276\")\n",
        "plt.ylabel(\"TMDb Popularity\", fontsize=14, color=\"#1A5276\")\n",
        "plt.xticks(fontsize=12)\n",
        "plt.yticks(fontsize=12)\n",
        "plt.legend(title=\"Content Type\", fontsize=11, title_fontsize=12, loc=\"upper left\")\n",
        "\n",
        "plt.tight_layout()\n",
        "plt.show()\n"
      ],
      "metadata": {
        "id": "kuRf4wtuphqN"
      },
      "execution_count": null,
      "outputs": []
    },
    {
      "cell_type": "markdown",
      "source": [
        "### **1. Why did you pick the specific chart?**"
      ],
      "metadata": {
        "id": "bbFf2-_FphqN"
      }
    },
    {
      "cell_type": "markdown",
      "source": [
        "Understanding this correlation helps identifyaudience engagement.\n",
        "\n",
        "This is a bivariate relationship — comparing two continuous variables (imdb_score and tmdb_popularity) — making a Scatter Plot ideal."
      ],
      "metadata": {
        "id": "loh7H2nzphqN"
      }
    },
    {
      "cell_type": "markdown",
      "source": [
        "### **2. What is/are the insight(s) found from the chart?**"
      ],
      "metadata": {
        "id": "_ouA3fa0phqN"
      }
    },
    {
      "cell_type": "markdown",
      "source": [
        "**📈 The scatter plot shows that:**\n",
        "\n",
        "---\n",
        "There is a moderate positive correlation between IMDb Score and TMDb Popularity — meaning higher-rated titles tend to be more popular.\n",
        "\n",
        "Movies (🔵 blue dots) generally dominate the upper right section — combining both high ratings and strong popularity.\n",
        "\n",
        "TV Shows (🟠 orange dots) exhibit broader spread, indicating variable audience engagement regardless of rating.\n",
        "\n",
        "**In short:**\n",
        "\n",
        "---\n",
        "⭐ High IMDb Score ≈ High Popularity, but the trend is stronger for Movies than TV Shows."
      ],
      "metadata": {
        "id": "VECbqPI7phqN"
      }
    },
    {
      "cell_type": "markdown",
      "source": [
        "### **3. Will the gained insights help creating a positive business impact?**\n",
        "*Are there any insights that lead to negative growth? Justify with specific reason.*"
      ],
      "metadata": {
        "id": "Seke61FWphqN"
      }
    },
    {
      "cell_type": "markdown",
      "source": [
        "**📈 Positive Impacts:**\n",
        "\n",
        "---\n",
        "Helps content creators focus marketing on high-rated but underexposed titles — increasing viewership efficiently.\n",
        "\n",
        "Assists recommendation systems in promoting high-quality content that’s also gaining traction.\n",
        "\n",
        "Guides production strategy by showing which content quality levels align with user engagement patterns.\n",
        "\n",
        "These insights lead to smarter promotion, investment, and audience retention strategies.\n",
        "\n",
        "⚠️ **Possible Risks:**\n",
        "\n",
        "---\n",
        "If Prime over-prioritizes popular but low-rated titles, it risks lowering perceived platform quality over time.\n"
      ],
      "metadata": {
        "id": "DW4_bGpfphqN"
      }
    },
    {
      "cell_type": "markdown",
      "source": [
        "## Chart - 6 :Line Plot\n",
        "## Bi-Variate Analysis\n",
        "\n",
        "**“How has the release trend of Movies and TV Shows on Amazon Prime Video changed over the years?” 📅📈**"
      ],
      "metadata": {
        "id": "PIIx-8_IphqN"
      }
    },
    {
      "cell_type": "code",
      "source": [
        "import seaborn as sns\n",
        "import matplotlib.pyplot as plt\n",
        "import pandas as pd\n",
        "\n",
        "data = df.copy()\n",
        "\n",
        "# 🧹 Clean and prepare data\n",
        "data['release_year'] = pd.to_numeric(data['release_year'], errors='coerce')\n",
        "data = data.dropna(subset=['release_year', 'type'])\n",
        "data = data[data['release_year'] >= 1980]  # Filter relevant years\n",
        "\n",
        "# ✅ Standardize 'type' column\n",
        "data['type'] = data['type'].str.strip().str.title()  # Fix casing\n",
        "data['type'] = data['type'].replace({\n",
        "    'Tv Show': 'TV Show',\n",
        "    'Show': 'TV Show',\n",
        "    'Movie ': 'Movie'\n",
        "})\n",
        "\n",
        "# 📊 Group by release year and content type\n",
        "trend_data = (\n",
        "    data.groupby(['release_year', 'type'])\n",
        "    .size()\n",
        "    .reset_index(name='count')\n",
        ")\n",
        "\n",
        "# 🎨 Set style\n",
        "sns.set_theme(style=\"whitegrid\")\n",
        "\n",
        "plt.figure(figsize=(12, 7))\n",
        "\n",
        "# 📈 Line Plot\n",
        "sns.lineplot(\n",
        "    data=trend_data,\n",
        "    x='release_year',\n",
        "    y='count',\n",
        "    hue='type',\n",
        "    marker='o',\n",
        "    linewidth=2.5,\n",
        "    palette={'Movie': '#1f77b4', 'TV Show': '#ff7f0e'}\n",
        ")\n",
        "\n",
        "# 🏷 Titles and labels\n",
        "plt.title(\"📅 Trend of Content Releases on Amazon Prime (Movies vs TV Shows)\",\n",
        "          fontsize=18, fontweight=\"bold\", color=\"#2E4053\", pad=15)\n",
        "plt.xlabel(\"Release Year\", fontsize=14, color=\"#1a5276\")\n",
        "plt.ylabel(\"Number of Titles Released\", fontsize=14, color=\"#1a5276\")\n",
        "plt.xticks(rotation=45, fontsize=12)\n",
        "plt.yticks(fontsize=12)\n",
        "plt.legend(title=\"Content Type\", title_fontsize=13, fontsize=12, loc=\"upper left\")\n",
        "\n",
        "plt.tight_layout()\n",
        "plt.show()\n"
      ],
      "metadata": {
        "id": "lqAIGUfyphqO"
      },
      "execution_count": null,
      "outputs": []
    },
    {
      "cell_type": "markdown",
      "source": [
        "### **1. Why did you pick the specific chart?**"
      ],
      "metadata": {
        "id": "t27r6nlMphqO"
      }
    },
    {
      "cell_type": "markdown",
      "source": [
        "**This question helps us understand content growth patterns over time, revealing:**\n",
        "\n",
        "---\n",
        "Whether Amazon Prime is releasing more movies or TV shows in recent years.\n",
        "\n",
        "Which content type dominates different time periods.\n",
        "\n",
        "\n",
        "A **Line Plot** is perfect for showing trends and comparative growth between multiple categories."
      ],
      "metadata": {
        "id": "iv6ro40sphqO"
      }
    },
    {
      "cell_type": "markdown",
      "source": [
        "### **2. What is/are the insight(s) found from the chart?**"
      ],
      "metadata": {
        "id": "r2jJGEOYphqO"
      }
    },
    {
      "cell_type": "markdown",
      "source": [
        "**📈 The line plot reveals:**\n",
        "\n",
        "---\n",
        "🎬 Movies have shown steady growth since the early 2000s, with a sharp rise post-2015.\n",
        "\n",
        "📺 TV Shows exhibit rapid acceleration after 2017, reflecting Amazon’s heavy investment in Prime Originals (like The Boys, Jack Ryan, Mirzapur).\n",
        "\n",
        "The COVID-19 pandemic (2020–2021) shows a noticeable spike, possibly due to increased digital releases.\n",
        "\n",
        "**In short:**\n",
        "\n",
        "Amazon Prime has shifted from being movie-centric to more balanced, increasingly focusing on serial content in recent years."
      ],
      "metadata": {
        "id": "Po6ZPi4hphqO"
      }
    },
    {
      "cell_type": "markdown",
      "source": [
        "### **3. Will the gained insights help creating a positive business impact?**\n",
        "*Are there any insights that lead to negative growth? Justify with specific reason.*"
      ],
      "metadata": {
        "id": "b0JNsNcRphqO"
      }
    },
    {
      "cell_type": "markdown",
      "source": [
        "**Positive Impacts**\n",
        "\n",
        "---\n",
        "📊 Enables Amazon Prime to analyze historical content growth and forecast future release needs.\n",
        "\n",
        "🎯 Helps determine whether to invest more in movies or shows depending on audience consumption patterns.\n",
        "\n",
        "🕵️ Informs marketing campaigns by identifying peak content release years and genres of focus.\n",
        "\n",
        "📅 Supports strategic planning for content diversification and scheduling.\n",
        "\n",
        "**⚠️ Possible Risk:**\n",
        "\n",
        "---\n",
        "Overproduction post-2020 may lead to content oversaturation, reducing average engagement per title.\n",
        "\n",
        "If TV Show growth continues unchecked without equal quality control, it might dilute overall brand value."
      ],
      "metadata": {
        "id": "xvSq8iUTphqO"
      }
    },
    {
      "cell_type": "markdown",
      "source": [
        "## Chart - 7 : Box plot\n",
        "## Bi-Variate Analysis\n",
        "\n",
        "**“How does IMDb Score vary across different Age Certifications on Amazon Prime Video?” 🎬📊**"
      ],
      "metadata": {
        "id": "BZR9WyysphqO"
      }
    },
    {
      "cell_type": "code",
      "source": [
        "import seaborn as sns\n",
        "import matplotlib.pyplot as plt\n",
        "import pandas as pd\n",
        "\n",
        "data = df.copy()\n",
        "\n",
        "# 🧹 Clean and standardize 'type' column\n",
        "data['type'] = data['type'].astype(str).str.strip().str.title()\n",
        "data['type'] = data['type'].replace({\n",
        "    'Tv Show': 'TV Show',\n",
        "    'Show': 'TV Show',\n",
        "    'Tv-Show': 'TV Show',\n",
        "    'Movie ': 'Movie',\n",
        "    'Movies': 'Movie'\n",
        "})\n",
        "\n",
        "# ✅ Keep only valid types\n",
        "data = data[data['type'].isin(['Movie', 'TV Show'])]\n",
        "\n",
        "# 🔍 Optional sanity check\n",
        "print(\"Unique type values after cleaning:\", data['type'].unique())\n",
        "\n",
        "# 🎨 Set theme\n",
        "sns.set_theme(style=\"whitegrid\")\n",
        "\n",
        "plt.figure(figsize=(12, 7))\n",
        "\n",
        "# 📦 Box Plot (fixed)\n",
        "sns.boxplot(\n",
        "    data=data,\n",
        "    x='age_certification',\n",
        "    y='imdb_score',\n",
        "    hue='type',\n",
        "    palette={'Movie': '#1f77b4', 'TV Show': '#ff7f0e'}\n",
        ")\n",
        "\n",
        "# 🏷️ Labels and Title\n",
        "plt.title(\"🎬 IMDb Score Distribution by Age Certification and Type\",\n",
        "          fontsize=18, fontweight='bold', color='#2E4053')\n",
        "plt.xlabel(\"Age Certification\", fontsize=14, color='#1A5276')\n",
        "plt.ylabel(\"IMDb Score\", fontsize=14, color='#1A5276')\n",
        "plt.legend(title=\"Content Type\", title_fontsize=13, fontsize=12)\n",
        "plt.xticks(rotation=45)\n",
        "plt.tight_layout()\n",
        "plt.show()\n"
      ],
      "metadata": {
        "id": "TdPTWpAVphqO"
      },
      "execution_count": null,
      "outputs": []
    },
    {
      "cell_type": "markdown",
      "source": [
        "### **1. Why did you pick the specific chart?**"
      ],
      "metadata": {
        "id": "jj7wYXLtphqO"
      }
    },
    {
      "cell_type": "markdown",
      "source": [
        "This question explores whether content maturity levels (like ‘U’, ‘U/A 13+’, ‘A’) influence audience ratings (IMDb scores).\n",
        "\n",
        "\n",
        "**For example:**\n",
        "\n",
        "Are family-friendly titles performing better than adult-rated ones?\n",
        "\n",
        "Do mature-rated shows get higher ratings because of richer storytelling?\n",
        "\n",
        "A Box Plot is perfect here since it visualizes how ratings are distributed across several categorical groups (age certifications)."
      ],
      "metadata": {
        "id": "Ob8u6rCTphqO"
      }
    },
    {
      "cell_type": "markdown",
      "source": [
        "### **2. What is/are the insight(s) found from the chart?**"
      ],
      "metadata": {
        "id": "eZrbJ2SmphqO"
      }
    },
    {
      "cell_type": "markdown",
      "source": [
        "**📦 The box plot reveals interesting patterns:**\n",
        "\n",
        "---\n",
        "‘U/A 13+’ and ‘U/A 16+’ content often receives higher  IMDb scores, suggesting audiences appreciate teen-to-young-adult-oriented stories.\n",
        "\n",
        "‘A’ (Adult) titles show wider variation — some highly rated, some poorly received — indicating mixed audience reception.\n",
        "\n",
        "‘U’ (Universal) titles have moderate ratings, hinting that family content performs steadily but rarely tops the charts.\n",
        "\n",
        "Within most categories, Movies (🔵) tend to slightly outperform TV Shows (🟠) in rating."
      ],
      "metadata": {
        "id": "mZtgC_hjphqO"
      }
    },
    {
      "cell_type": "markdown",
      "source": [
        "### **3. Will the gained insights help creating a positive business impact?**\n",
        "*Are there any insights that lead to negative growth? Justify with specific reason.*"
      ],
      "metadata": {
        "id": "rFu4xreNphqO"
      }
    },
    {
      "cell_type": "markdown",
      "source": [
        "**Positive Impacts:**\n",
        "\n",
        "---\n",
        "\n",
        "Helps to identify which certification categories attract higher ratings.\n",
        "\n",
        "Informs future investments — for instance, doubling down on U/A 13+ content, which is broadly appealing.\n",
        "\n",
        "Supports marketing segmentation, targeting promotions more effectively to specific audience groups.\n",
        "\n",
        "**⚠️ Potential Risks:**\n",
        "\n",
        "---\n",
        "Overemphasis on adult content (‘A’ rated) could alienate family audiences, shrinking Prime’s overall viewership base.\n",
        "\n",
        "Highly variable ratings in the adult category suggest quality inconsistency, which might hurt user retention if not addressed.\n",
        "\n",
        "Hence, Prime must balance audience maturity levels while ensuring consistent storytelling quality.\n"
      ],
      "metadata": {
        "id": "ey_0qi68phqO"
      }
    },
    {
      "cell_type": "markdown",
      "source": [
        "## Chart - 8: Bar Plot\n",
        "Bivariate Analysis\n",
        "\n",
        "**“How does the average IMDb Score vary across different Genres for Movies and TV Shows on Amazon Prime Video?” 🎬📊**"
      ],
      "metadata": {
        "id": "YJ55k-q6phqO"
      }
    },
    {
      "cell_type": "code",
      "source": [
        "import seaborn as sns\n",
        "import matplotlib.pyplot as plt\n",
        "import pandas as pd\n",
        "\n",
        "data = df.copy()\n",
        "\n",
        "# 🧹 Clean and standardize 'type' column\n",
        "data['type'] = data['type'].astype(str).str.strip().str.title()\n",
        "\n",
        "# Replace all common variants of show/movie\n",
        "data['type'] = data['type'].replace({\n",
        "    'Tv Show': 'TV Show',\n",
        "    'Show': 'TV Show',\n",
        "    'Tv-Show': 'TV Show',\n",
        "    'Tvshow': 'TV Show',\n",
        "    'Movies': 'Movie',\n",
        "    'Movie ': 'Movie',\n",
        "    'Film': 'Movie'\n",
        "})\n",
        "\n",
        "# Drop invalid/unknown values\n",
        "valid_types = ['Movie', 'TV Show']\n",
        "data = data[data['type'].isin(valid_types)]\n",
        "\n",
        "# 🧭 Sanity check\n",
        "print(\"✅ Unique type values after cleaning:\", data['type'].unique())\n",
        "\n",
        "# 🎭 Detect genre column\n",
        "genre_col = \"genres\"\n",
        "\n",
        "# 🧼 Clean genre data\n",
        "data[genre_col] = data[genre_col].fillna(\"Unknown\")\n",
        "data[genre_col] = data[genre_col].apply(lambda x: x.split(\",\")[0].strip() if isinstance(x, str) else x)\n",
        "\n",
        "# 🎯 Filter valid IMDb scores\n",
        "data = data.dropna(subset=[genre_col, \"imdb_score\"])\n",
        "data = data[(data[\"imdb_score\"] > 0) & (data[\"imdb_score\"] <= 10)]\n",
        "\n",
        "# 🧩 Top 10 Genres\n",
        "top_genres = data[genre_col].value_counts().head(10).index\n",
        "filtered_data = data[data[genre_col].isin(top_genres)]\n",
        "\n",
        "# 📊 Group by Genre and Type\n",
        "grouped_data = (\n",
        "    filtered_data.groupby([genre_col, \"type\"], as_index=False)[\"imdb_score\"]\n",
        "    .mean()\n",
        "    .sort_values(by=\"imdb_score\", ascending=False)\n",
        ")\n",
        "\n",
        "# 🎨 Define consistent palette\n",
        "palette = {\"Movie\": \"#1f77b4\", \"TV Show\": \"#ff7f0e\"}\n",
        "\n",
        "# 🪄 Extra Safety Check — Fix if any unknown type sneaks in\n",
        "missing_keys = set(grouped_data['type'].unique()) - set(palette.keys())\n",
        "if missing_keys:\n",
        "    print(f\"⚠️ Unknown type(s) found and removed: {missing_keys}\")\n",
        "    grouped_data = grouped_data[grouped_data['type'].isin(palette.keys())]\n",
        "\n",
        "# 📈 Plot\n",
        "sns.set_theme(style=\"whitegrid\")\n",
        "plt.figure(figsize=(14, 8))\n",
        "\n",
        "bar_plot = sns.barplot(\n",
        "    data=grouped_data,\n",
        "    x=genre_col,\n",
        "    y=\"imdb_score\",\n",
        "    hue=\"type\",\n",
        "    palette=palette,\n",
        "    dodge=True\n",
        ")\n",
        "\n",
        "# 🏷 Add labels\n",
        "for p in bar_plot.patches:\n",
        "    bar_plot.annotate(\n",
        "        f\"{p.get_height():.2f}\",\n",
        "        (p.get_x() + p.get_width() / 2., p.get_height()),\n",
        "        ha=\"center\", va=\"bottom\",\n",
        "        fontsize=11, color=\"#2E4053\", fontweight=\"bold\",\n",
        "        xytext=(0, 5), textcoords=\"offset points\"\n",
        "    )\n",
        "\n",
        "# ✨ Title & Labels\n",
        "plt.title(\"🎬 Average IMDb Score by Top 10 Genres (Movies vs TV Shows)\",\n",
        "          fontsize=18, fontweight=\"bold\", color=\"#2E4053\", pad=20)\n",
        "plt.xlabel(\"Genre\", fontsize=14, color=\"#1A5276\")\n",
        "plt.ylabel(\"Average IMDb Score\", fontsize=14, color=\"#1A5276\")\n",
        "plt.xticks(rotation=30, fontsize=12)\n",
        "plt.legend(title=\"Content Type\", title_fontsize=13, fontsize=12)\n",
        "plt.tight_layout()\n",
        "plt.show()\n"
      ],
      "metadata": {
        "id": "B2aS4O1ophqO"
      },
      "execution_count": null,
      "outputs": []
    },
    {
      "cell_type": "markdown",
      "source": [
        "### **1. Why did you pick the specific chart?**"
      ],
      "metadata": {
        "id": "gCFgpxoyphqP"
      }
    },
    {
      "cell_type": "markdown",
      "source": [
        "This question helps us understand which genres consistently perform better in terms of viewer ratings (IMDb Score).\n",
        "\n",
        "It also shows whether Movies or TV Shows dominate in specific genres, helping Prime Video decide which type of content to focus on for each category.\n",
        "\n",
        "A **Bar Plot** is perfect here since it effectively compares average metrics (IMDb Scores) across categorical variables (Genres and Content Types)."
      ],
      "metadata": {
        "id": "TVxDimi2phqP"
      }
    },
    {
      "cell_type": "markdown",
      "source": [
        "### **2. What is/are the insight(s) found from the chart?**"
      ],
      "metadata": {
        "id": "OVtJsKN_phqQ"
      }
    },
    {
      "cell_type": "markdown",
      "source": [
        "🎥 Drama and Documentary often lead with higher IMDb scores — indicating critical title and audience engagement.\n",
        "\n",
        "📺 Reality and Animation tend to score lower, suggesting less critically rated content.\n",
        "\n",
        "🎞️ Movies generally show more genre variation in scores, reflecting diversity in production quality."
      ],
      "metadata": {
        "id": "ngGi97qjphqQ"
      }
    },
    {
      "cell_type": "markdown",
      "source": [
        "### **3. Will the gained insights help creating a positive business impact?**\n",
        "*Are there any insights that lead to negative growth? Justify with specific reason.*"
      ],
      "metadata": {
        "id": "lssrdh5qphqQ"
      }
    },
    {
      "cell_type": "markdown",
      "source": [
        "\n",
        "✅ **Positive  Impact:**\n",
        "\n",
        "---\n",
        "Helps Amazon Prime prioritize high-performing genres (e.g., investing more in Drama/Documentary originals).\n",
        "\n",
        "⚠️ **Negative Trend Insight:**\n",
        "\n",
        "---\n",
        "Underperforming genres like Reality or Animation may need content quality improvements or marketing support to boost ratings and user trust."
      ],
      "metadata": {
        "id": "tBpY5ekJphqQ"
      }
    },
    {
      "cell_type": "markdown",
      "source": [
        "## Chart - 9: Violin Plot\n",
        "## Bi-Variate Analysis\n",
        "\n",
        "**“How does IMDb Popularity vary across different Release Decades for Movies and TV Shows on Amazon Prime Video?”**"
      ],
      "metadata": {
        "id": "U2RJ9gkRphqQ"
      }
    },
    {
      "cell_type": "code",
      "source": [
        "import seaborn as sns\n",
        "import matplotlib.pyplot as plt\n",
        "import pandas as pd\n",
        "import numpy as np\n",
        "\n",
        "data = df.copy()\n",
        "\n",
        "# 🧹 STEP 1: Fully clean and standardize 'type'\n",
        "data['type'] = (\n",
        "    data['type']\n",
        "    .astype(str)\n",
        "    .str.strip()\n",
        "    .str.title()  # Converts 'tv show' → 'Tv Show'\n",
        ")\n",
        "\n",
        "# Replace all possible variants\n",
        "data['type'] = data['type'].replace({\n",
        "    'Tv Show': 'TV Show',\n",
        "    'Tvshow': 'TV Show',\n",
        "    'Tv-Show': 'TV Show',\n",
        "    'Show': 'TV Show',\n",
        "    'Movies': 'Movie',\n",
        "    'Movie ': 'Movie',\n",
        "    'Film': 'Movie'\n",
        "})\n",
        "\n",
        "# 🧭 Check unique values before proceeding\n",
        "print(\"✅ Unique 'type' values after cleaning:\", data['type'].unique())\n",
        "\n",
        "# Keep only valid entries\n",
        "data = data[data['type'].isin(['Movie', 'TV Show'])]\n",
        "\n",
        "# 🧮 STEP 2: Prepare numeric columns\n",
        "data['release_year'] = pd.to_numeric(data['release_year'], errors='coerce')\n",
        "data['release_decade'] = (data['release_year'] // 10 * 10).astype('Int64')\n",
        "\n",
        "# 🧹 STEP 3: Filter valid rows\n",
        "data = data.dropna(subset=['release_decade', 'tmdb_popularity'])\n",
        "data = data[(data['tmdb_popularity'] > 0) &\n",
        "            (data['tmdb_popularity'] < data['tmdb_popularity'].quantile(0.99))]\n",
        "\n",
        "# 🎨 STEP 4: Define palette\n",
        "palette = {\"Movie\": \"#1f77b4\", \"TV Show\": \"#ff7f0e\"}\n",
        "\n",
        "# 🧩 STEP 5: Final safety filter\n",
        "unknown_types = set(data['type'].unique()) - set(palette.keys())\n",
        "if unknown_types:\n",
        "    print(f\"⚠️ Removed unknown type(s): {unknown_types}\")\n",
        "    data = data[data['type'].isin(palette.keys())]\n",
        "\n",
        "# ✅ Final check\n",
        "print(\"🎯 Types used for plotting:\", data['type'].unique())\n",
        "\n",
        "# 🎻 STEP 6: Plot\n",
        "sns.set_theme(style=\"whitegrid\")\n",
        "plt.figure(figsize=(12, 7))\n",
        "\n",
        "sns.violinplot(\n",
        "    data=data,\n",
        "    x='release_decade',\n",
        "    y='tmdb_popularity',\n",
        "    hue='type',\n",
        "    split=True,\n",
        "    inner='quartile',\n",
        "    palette=palette\n",
        ")\n",
        "\n",
        "plt.title(\"🎻 Distribution of TMDB Popularity Across Release Decades by Type\",\n",
        "          fontsize=18, fontweight=\"bold\", color=\"#2E4053\", pad=15)\n",
        "plt.xlabel(\"Release Decade\", fontsize=14, color=\"#1A5276\")\n",
        "plt.ylabel(\"TMDB Popularity\", fontsize=14, color=\"#1A5276\")\n",
        "plt.legend(title=\"Content Type\", title_fontsize=13, fontsize=12)\n",
        "plt.tight_layout()\n",
        "plt.show()\n"
      ],
      "metadata": {
        "id": "GM7a4YP4phqQ"
      },
      "execution_count": null,
      "outputs": []
    },
    {
      "cell_type": "markdown",
      "source": [
        "### **1. Why did you pick the specific chart?**"
      ],
      "metadata": {
        "id": "1M8mcRywphqQ"
      }
    },
    {
      "cell_type": "markdown",
      "source": [
        "**A violin plot is perfect here because it:**\n",
        "\n",
        "---\n",
        "Captures distribution of popularity within each decade.\n",
        "\n",
        "Allows comparison of Movies vs. TV Shows across time — showing which format dominates public attention.\n",
        "\n",
        "Visualizes data density."
      ],
      "metadata": {
        "id": "8agQvks0phqQ"
      }
    },
    {
      "cell_type": "markdown",
      "source": [
        "### **2. What is/are the insight(s) found from the chart?**"
      ],
      "metadata": {
        "id": "tgIPom80phqQ"
      }
    },
    {
      "cell_type": "markdown",
      "source": [
        "🎬 Movies from 2010s onward tend to show higher popularity peaks but also more variation, meaning only a few become viral hits.\n",
        "\n",
        "📺 TV Shows gain steadier popularity growth from the 2010s to 2020s, reflecting the rise of streaming-era binge content.\n",
        "\n",
        "🧩 Older decades (1980s, 1990s) show lower but tighter distributions, suggesting only a handful of timeless titles still attract attention."
      ],
      "metadata": {
        "id": "Qp13pnNzphqQ"
      }
    },
    {
      "cell_type": "markdown",
      "source": [
        "### **3. Will the gained insights help creating a positive business impact?**\n",
        "*Are there any insights that lead to negative growth? Justify with specific reason.*"
      ],
      "metadata": {
        "id": "JMzcOPDDphqR"
      }
    },
    {
      "cell_type": "markdown",
      "source": [
        "**✅ Positive Insights:**\n",
        "\n",
        "---\n",
        "Amazon Prime can focus marketing on reviving high-performing older titles (nostalgia-driven engagement).\n",
        "\n",
        "Understanding decade-wise popularity helps curate “trending classics” sections to retain diverse audiences.\n",
        "\n",
        "⚠️ **Potential Risk:**\n",
        "\n",
        "---\n",
        "The decline in popularity for older TV content indicates a need for remastering, better recommendation placement, or exclusive promotion to regain visibility."
      ],
      "metadata": {
        "id": "K8I8E7vFf9Q5"
      }
    },
    {
      "cell_type": "markdown",
      "source": [
        "## Chart - 10 : Donut chart\n",
        "Univariate Analysis\n",
        "\n",
        "**👉 “Genre Distribution on Amazon Prime Video”**"
      ],
      "metadata": {
        "id": "x-EpHcCOp1ci"
      }
    },
    {
      "cell_type": "code",
      "source": [
        "import plotly.express as px\n",
        "import seaborn as sns\n",
        "import matplotlib.pyplot as plt\n",
        "from matplotlib.colors import rgb2hex\n",
        "import pandas as pd\n",
        "\n",
        "data=df\n",
        "\n",
        "# ✅ Data Cleaning\n",
        "data['genres'] = data['genres'].fillna(\"Unknown\")\n",
        "\n",
        "# If multiple genres are listed, split and count each one separately\n",
        "data_exploded = data.assign(genres=data['genres'].str.split(',')).explode('genres')\n",
        "data_exploded['genres'] = data_exploded['genres'].str.strip()\n",
        "\n",
        "# Group by genres and get count\n",
        "genre_data = data_exploded['genres'].value_counts().reset_index()\n",
        "genre_data.columns = ['Genre', 'Count']\n",
        "\n",
        "# 🧩 Group minor genres into \"Other\" to declutter the plot\n",
        "threshold = 0.02 * genre_data['Count'].sum()  # genres less than 2% of total\n",
        "major_genres = genre_data[genre_data['Count'] >= threshold]\n",
        "others = pd.DataFrame([{'Genre': 'Other', 'Count': genre_data[genre_data['Count'] < threshold]['Count'].sum()}])\n",
        "genre_data = pd.concat([major_genres, others], ignore_index=True)\n",
        "\n",
        "# 🎨 Seaborn palette → HEX for Plotly\n",
        "sns_colors = sns.color_palette(\"Spectral\", n_colors=len(genre_data))\n",
        "hex_colors = [rgb2hex(c) for c in sns_colors]\n",
        "\n",
        "# 🍩 Create a beautiful, larger Donut Plot\n",
        "fig = px.pie(\n",
        "    genre_data,\n",
        "    names='Genre',\n",
        "    values='Count',\n",
        "    title='🍩 Genre Distribution on Amazon Prime Video',\n",
        "    hole=0.35,  # slightly smaller hole → more visible donut\n",
        "    color_discrete_sequence=hex_colors\n",
        ")\n",
        "\n",
        "# ✨ Style the plot\n",
        "fig.update_traces(\n",
        "    textinfo='percent+label',\n",
        "    textfont_size=14,\n",
        "    hovertemplate='<b>%{label}</b><br>Titles: %{value}<br>Share: %{percent}',\n",
        "    marker=dict(line=dict(color='#FFFFFF', width=2)),\n",
        "    pull=[0.05 if g != 'Other' else 0 for g in genre_data['Genre']]  # pop out major slices\n",
        ")\n",
        "\n",
        "# 💅 Layout improvements\n",
        "fig.update_layout(\n",
        "    title_font=dict(size=22, family='Arial Black', color='#2E4053'),\n",
        "    font=dict(size=14, family='Arial'),\n",
        "    showlegend=True,\n",
        "    legend_title_text='Genre',\n",
        "    legend=dict(\n",
        "        orientation=\"v\",\n",
        "        yanchor=\"top\",\n",
        "        y=0.9,\n",
        "        xanchor=\"left\",\n",
        "        x=1.05,\n",
        "        bgcolor='rgba(255,255,255,0.8)',\n",
        "        bordercolor='#D0D3D4',\n",
        "        borderwidth=1,\n",
        "        font=dict(size=12)\n",
        "    ),\n",
        "    height=700,  # ✅ Make the donut much larger\n",
        "    width=950,\n",
        "    margin=dict(t=100, b=50, l=50, r=200),\n",
        "    paper_bgcolor='white'\n",
        ")\n",
        "\n",
        "# 🧮 Center annotation with total count\n",
        "total_titles = genre_data['Count'].sum()\n",
        "fig.add_annotation(\n",
        "    text=f\"<b>Total Titles</b><br>{total_titles}\",\n",
        "    x=0.5, y=0.5, showarrow=False,\n",
        "    font=dict(size=18, color=\"#2E4053\")\n",
        ")\n",
        "\n",
        "# 🎯 Show the plot\n",
        "fig.show()\n"
      ],
      "metadata": {
        "id": "mAQTIvtqp1cj"
      },
      "execution_count": null,
      "outputs": []
    },
    {
      "cell_type": "markdown",
      "source": [
        "### **1. Why did you pick the specific chart?**"
      ],
      "metadata": {
        "id": "X_VqEhTip1ck"
      }
    },
    {
      "cell_type": "markdown",
      "source": [
        "\n",
        "This visualization helps us understand the overall composition of Prime Video’s content library by genre, giving insights into what type of content dominates the platform — whether it’s drama, comedy, action, documentary, or others.\n",
        "\n",
        "A **Donut Plot** is an ideal choice when we want to:\n",
        "Visualize proportion or percentage composition of categorical data.\n",
        "\n",
        "Maintain visual appeal while comparing categories in a circular layout.\n",
        "\n",
        "It’s visually engaging, easy to interpret, and suitable for representing categorical dominance — exactly what we need here."
      ],
      "metadata": {
        "id": "-vsMzt_np1ck"
      }
    },
    {
      "cell_type": "markdown",
      "source": [
        "### **2. What is/are the insight(s) found from the chart?**"
      ],
      "metadata": {
        "id": "8zGJKyg5p1ck"
      }
    },
    {
      "cell_type": "markdown",
      "source": [
        "**We can observe that:**\n",
        "\n",
        "---\n",
        "Certain genres like Drama, Comedy, and Action occupy the largest portions, indicating strong audience demand for these categories.\n",
        "\n",
        "Documentary and Animation genres form smaller shares but still significant.\n",
        "\n",
        "The “Other” category consolidates many small genres, suggesting diverse but less frequent content types exist in the catalog.\n"
      ],
      "metadata": {
        "id": "ZYdMsrqVp1ck"
      }
    },
    {
      "cell_type": "markdown",
      "source": [
        "### **3. Will the gained insights help creating a positive business impact?**\n",
        "*Are there any insights that lead to negative growth? Justify with specific reason.*"
      ],
      "metadata": {
        "id": "PVzmfK_Ep1ck"
      }
    },
    {
      "cell_type": "markdown",
      "source": [
        "---\n",
        "**Positive Impact**\n",
        "\n",
        "---\n",
        "\n",
        "**✅ Content Strategy:**\n",
        "\n",
        "---\n",
        "Amazon can identify over- or under-represented genres.\n",
        "\n",
        "**✅ Recommendation System:**\n",
        "\n",
        "---\n",
        "Genre popularity can help personalize content suggestions — boosting user engagement.\n",
        "\n",
        "**✅ Diversification:**\n",
        "\n",
        "---\n",
        "Recognizing lesser-represented genres helps invest in fresh, underexplored segments to appeal to new demographics.\n",
        "\n",
        "⚠️ **Potential Risks:**\n",
        "\n",
        "---\n",
        "\n",
        "Extremely small genre shares are grouped into “Other,” so micro trends may be hidden.\n"
      ],
      "metadata": {
        "id": "druuKYZpp1ck"
      }
    },
    {
      "cell_type": "markdown",
      "source": [
        "#### Chart - 11 TreeMap\n",
        "Multi-variate Analysis\n",
        "\n",
        "**“Which countries contribute the most Movies and TV Shows to Amazon Prime’s global catalog?”**"
      ],
      "metadata": {
        "id": "n3dbpmDWp1ck"
      }
    },
    {
      "cell_type": "code",
      "source": [
        "import pandas as pd\n",
        "import plotly.express as px\n",
        "import seaborn as sns\n",
        "from matplotlib.colors import to_hex\n",
        "\n",
        "\n",
        "data=df\n",
        "\n",
        "# 🧹 Data Cleaning\n",
        "data['production_countries'] = data['production_countries'].fillna(\"Unknown\")\n",
        "data['type'] = data['type'].fillna(\"Unknown\")\n",
        "\n",
        "# Take only the first listed country if multiple are present\n",
        "data['production_countries'] = data['production_countries'].apply(\n",
        "    lambda x: x.split(',')[0].strip() if isinstance(x, str) else x\n",
        ")\n",
        "\n",
        "# 🧩 Group and Filter for Top 20 Countries\n",
        "grouped_data = (\n",
        "    data.groupby(['production_countries', 'type'])\n",
        "    .size()\n",
        "    .reset_index(name='count')\n",
        ")\n",
        "top_countries = (\n",
        "    grouped_data.groupby('production_countries')['count']\n",
        "    .sum()\n",
        "    .nlargest(20)\n",
        "    .index\n",
        ")\n",
        "grouped_data = grouped_data[grouped_data['production_countries'].isin(top_countries)]\n",
        "\n",
        "# 🎨 Color Palette\n",
        "palette = sns.color_palette(\"Set2\", n_colors=len(grouped_data['type'].unique()))\n",
        "color_discrete_sequence = [to_hex(c) for c in palette]\n",
        "\n",
        "# 🌍 Create Treemap\n",
        "fig = px.treemap(\n",
        "    grouped_data,\n",
        "    path=['production_countries', 'type'],\n",
        "    values='count',\n",
        "    color='type',\n",
        "    color_discrete_sequence=color_discrete_sequence,\n",
        "    hover_data={'production_countries': True, 'count': True},\n",
        "    title=\"🌍 Top 20 Countries by Number of Movies and TV Shows on Amazon Prime\"\n",
        ")\n",
        "\n",
        "# ✨ Improve Layout for Readability\n",
        "fig.update_traces(\n",
        "    textinfo=\"label+value+percent parent\",\n",
        "    hovertemplate=\"<b>%{label}</b><br>Type: %{color}<br>Titles: %{value}\"\n",
        ")\n",
        "\n",
        "fig.update_layout(\n",
        "    title_font=dict(size=22, color=\"#2E4053\", family=\"Arial Black\"),\n",
        "    font=dict(size=14),\n",
        "    margin=dict(t=100, l=50, r=50, b=50),\n",
        "    height=800,\n",
        "    uniformtext=dict(minsize=12, mode='hide'),  # hide overlapping text\n",
        "    treemapcolorway=color_discrete_sequence\n",
        ")\n",
        "\n",
        "fig.show()\n"
      ],
      "metadata": {
        "id": "bwevp1tKp1ck"
      },
      "execution_count": null,
      "outputs": []
    },
    {
      "cell_type": "markdown",
      "source": [
        "### **1. Why did you pick the specific chart?**"
      ],
      "metadata": {
        "id": "ylSl6qgtp1ck"
      }
    },
    {
      "cell_type": "markdown",
      "source": [
        "✅ A Treemap is an excellent visualization for hierarchical and proportional data.\n",
        "\n",
        "**It allows us to see:**\n",
        "\n",
        "---\n",
        "How each country’s total content volume compares to others.\n",
        "\n",
        "The composition within each country (Movies vs TV Shows).\n",
        "\n",
        "The relative dominance of one category over another visually through block sizes."
      ],
      "metadata": {
        "id": "m2xqNkiQp1ck"
      }
    },
    {
      "cell_type": "markdown",
      "source": [
        "### **2. What is/are the insight(s) found from the chart?**"
      ],
      "metadata": {
        "id": "ZWILFDl5p1ck"
      }
    },
    {
      "cell_type": "markdown",
      "source": [
        "🇺🇸 United States dominates content production on Amazon Prime, especially in Movies.\n",
        "\n",
        "🇮🇳 India ranks second, showing a balanced presence in both Movies and TV Shows.\n",
        "\n",
        "🇬🇧 United Kingdom and 🇨🇦 Canada are also major contributors, focusing mostly on Movies.\n",
        "\n",
        "Smaller regions like 🇯🇵 Japan and 🇦🇺 Australia appear but with lesser diversity.\n",
        "\n",
        "💬 This indicates Amazon Prime’s strong global presence, but content diversity could still be improved in underrepresented regions."
      ],
      "metadata": {
        "id": "x-lUsV2mp1ck"
      }
    },
    {
      "cell_type": "markdown",
      "source": [
        "### **3. Will the gained insights help creating a positive business impact?**\n",
        "*Are there any insights that lead to negative growth? Justify with specific reason.*"
      ],
      "metadata": {
        "id": "M7G43BXep1ck"
      }
    },
    {
      "cell_type": "markdown",
      "source": [
        "---\n",
        "**🚀 Positive Impact:**\n",
        "\n",
        "---\n",
        "\n",
        "**Strategic content acquisition:**\n",
        "\n",
        "---\n",
        " Amazon can target countries with lower content representation to expand regional reach.\n",
        "\n",
        "**Localization opportunities:**\n",
        "\n",
        "---\n",
        " More localized productions could attract non-English-speaking audiences.\n",
        "\n",
        "**Balanced portfolio:**\n",
        "\n",
        "---\n",
        " Understanding dominance in Movies vs TV Shows helps in content strategy and budget allocation.\n",
        "\n",
        "**Potential Risks:**\n",
        "\n",
        "Only Top 20 countries were considered in Treemap which dimin the exposure to other contries with less content contribution.\n"
      ],
      "metadata": {
        "id": "5wwDJXsLp1cl"
      }
    },
    {
      "cell_type": "markdown",
      "source": [
        "## Chart - 12: Bubble plot\n",
        "Multyi-variate Analysis\n",
        "\n",
        "**👉 Is there a relationship between IMDb score, runtime, and TMDb popularity of Amazon Prime titles?**"
      ],
      "metadata": {
        "id": "Ag9LCva-p1cl"
      }
    },
    {
      "cell_type": "code",
      "source": [
        "import plotly.express as px\n",
        "import pandas as pd\n",
        "\n",
        "data=df\n",
        "\n",
        "# 🧹 Data Cleaning\n",
        "data = data.dropna(subset=['imdb_score', 'runtime', 'tmdb_popularity', 'type'])\n",
        "data = data[(data['imdb_score'] > 0) & (data['runtime'] > 0) & (data['tmdb_popularity'] > 0)]\n",
        "\n",
        "# 🎨 Create the Bubble Plot\n",
        "fig = px.scatter(\n",
        "    data,\n",
        "    x='imdb_score',\n",
        "    y='runtime',\n",
        "    size='tmdb_popularity',   # Bubble size = popularity\n",
        "    color='type',             # Hue based on type (Movie or Show)\n",
        "    hover_name='title',       # Show title on hover\n",
        "    size_max=40,\n",
        "    opacity=0.6,\n",
        "    color_discrete_sequence=px.colors.qualitative.Set2,\n",
        "    title='🎬 IMDb Score vs Runtime vs TMDb Popularity on Amazon Prime Video'\n",
        ")\n",
        "\n",
        "# ✨ Update Layout\n",
        "fig.update_layout(\n",
        "    xaxis_title='IMDb Score',\n",
        "    yaxis_title='Runtime (minutes)',\n",
        "    plot_bgcolor='white',\n",
        "    title_font_size=20,\n",
        "    legend_title_text='Content Type',\n",
        "    height=600,\n",
        ")\n",
        "\n",
        "# 📈 Display\n",
        "fig.show()\n"
      ],
      "metadata": {
        "id": "EUfxeq9-p1cl"
      },
      "execution_count": null,
      "outputs": []
    },
    {
      "cell_type": "markdown",
      "source": [
        "### **1. Why did you pick the specific chart?**"
      ],
      "metadata": {
        "id": "E6MkPsBcp1cl"
      }
    },
    {
      "cell_type": "markdown",
      "source": [
        "A **Bubble Plot** is chosen because it enables visualization of three quantitative variables (IMDb Score, Runtime, Popularity) along with a categorical hue (Type), making it the most efficient and insightful tool to reveal trends, clusters, and correlations in viewer engagement data."
      ],
      "metadata": {
        "id": "V22bRsFWp1cl"
      }
    },
    {
      "cell_type": "markdown",
      "source": [
        "### **2. What is/are the insight(s) found from the chart?**"
      ],
      "metadata": {
        "id": "2cELzS2fp1cl"
      }
    },
    {
      "cell_type": "markdown",
      "source": [
        "Titles with moderate IMDb scores (6–8) tend to have higher TMDb popularity, indicating that popularity isn’t always tied to top IMDb scores.\n",
        "\n",
        "\n",
        "Movies generally have longer runtimes than TV Shows, as seen by the clustering pattern.\n",
        "\n",
        "A few outliers (high popularity + short runtime) could represent viral mini-series or short films.\n",
        "\n",
        "There’s a positive trend between IMDb score and popularity, but not strongly linear — suggesting other factors may also make difference."
      ],
      "metadata": {
        "id": "ozQPc2_Ip1cl"
      }
    },
    {
      "cell_type": "markdown",
      "source": [
        "### **3. Will the gained insights help creating a positive business impact?**\n",
        "*Are there any insights that lead to negative growth? Justify with specific reason.*"
      ],
      "metadata": {
        "id": "3MPXvC8up1cl"
      }
    },
    {
      "cell_type": "markdown",
      "source": [
        "**🚀 Positive Impact:**\n",
        "\n",
        "---\n",
        "It identify which types of content attract viewers most, even without the highest IMDb ratings.\n",
        "\n",
        "Content strategy teams can focus on producing or acquiring content with optimal runtime and audience engagement patterns.\n",
        "\n",
        "Recommendation algorithms can be tuned — showing users more of what’s popular in their preferred runtime range.\n",
        "\n",
        "Can support marketing decisions, such as promoting mid-rated but high-engagement titles.\n",
        "\n",
        "⚠️ **Negative Impact:**\n",
        "\n",
        "---\n",
        "Data had missing or zero values for runtime and tmdb_popularity, which were removed for accuracy may mislead the decision.\n",
        "\n"
      ],
      "metadata": {
        "id": "GL8l1tdLp1cl"
      }
    },
    {
      "cell_type": "markdown",
      "source": [
        "## Chart - 13 - Correlation Heatmap\n",
        "Multi-variate Analysis"
      ],
      "metadata": {
        "id": "NC_X3p0fY2L0"
      }
    },
    {
      "cell_type": "code",
      "source": [
        "import seaborn as sns\n",
        "import matplotlib.pyplot as plt\n",
        "import pandas as pd\n",
        "import numpy as np\n",
        "\n",
        "data=df\n",
        "\n",
        "# 🧹 Data Cleaning: Keep only numerical columns relevant for correlation\n",
        "num_cols = ['imdb_score', 'runtime', 'release_year', 'tmdb_popularity']\n",
        "corr_data = data[num_cols].dropna()\n",
        "\n",
        "# 🔢 Compute Correlation Matrix\n",
        "corr_matrix = corr_data.corr(method='pearson')\n",
        "\n",
        "# 🎨 Visualization\n",
        "plt.figure(figsize=(10, 7))\n",
        "sns.set_theme(style=\"white\")\n",
        "\n",
        "# Create heatmap\n",
        "heatmap = sns.heatmap(\n",
        "    corr_matrix,\n",
        "    annot=True,\n",
        "    cmap=\"coolwarm\",  # Beautiful color balance between -1 and +1\n",
        "    center=0,\n",
        "    linewidths=0.8,\n",
        "    square=True,\n",
        "    fmt=\".2f\",\n",
        "    annot_kws={\"size\": 12, \"weight\": \"bold\"}\n",
        ")\n",
        "\n",
        "# Titles and Labels\n",
        "plt.title(\"🌡️ Correlation Heatmap of Key Quantitative Features\", fontsize=18, fontweight=\"bold\", color=\"#1B4F72\", pad=15)\n",
        "plt.xticks(rotation=45, ha='right', fontsize=12, color=\"#154360\")\n",
        "plt.yticks(fontsize=12, color=\"#154360\")\n",
        "\n",
        "plt.tight_layout()\n",
        "plt.show()\n"
      ],
      "metadata": {
        "id": "xyC9zolEZNRQ"
      },
      "execution_count": null,
      "outputs": []
    },
    {
      "cell_type": "markdown",
      "source": [
        "### **1. Why did you pick the specific chart?**"
      ],
      "metadata": {
        "id": "UV0SzAkaZNRQ"
      }
    },
    {
      "cell_type": "markdown",
      "source": [
        "✅ A Correlation Heatmap is the most efficient visualization for analyzing relationships among multiple continuous variables simultaneously.\n",
        "\n",
        "**Here’s why:**\n",
        "\n",
        "---\n",
        "It computes pairwise correlation coefficients between variables.\n",
        "\n",
        "It summarize inter-variable dependencies in a dataset."
      ],
      "metadata": {
        "id": "DVPuT8LYZNRQ"
      }
    },
    {
      "cell_type": "markdown",
      "source": [
        "### **2. What is/are the insight(s) found from the chart?**"
      ],
      "metadata": {
        "id": "YPEH6qLeZNRQ"
      }
    },
    {
      "cell_type": "markdown",
      "source": [
        "**📈 Observations from the Heatmap:**\n",
        "\n",
        "---\n",
        "imdb_score and tmdb_popularity show a moderate positive correlation, indicating that higher-rated titles often have higher audience engagement.\n",
        "\n",
        "runtime has weak correlation with both imdb_score and popularity, meaning length doesn’t directly influence quality or popularity.\n",
        "\n",
        "release_year and tmdb_popularity show a slight positive correlation, suggesting that newer titles tend to gain more traction on Prime Video.\n",
        "\n",
        "Most correlations are moderate, indicating diverse audience interests"
      ],
      "metadata": {
        "id": "bfSqtnDqZNRR"
      }
    },
    {
      "cell_type": "markdown",
      "source": [
        "### **3.Will the gained insights help creating a positive business impact?**\n",
        "Are there any insights that lead to negative growth? Justify with specific reason."
      ],
      "metadata": {
        "id": "9S3H_3av70BK"
      }
    },
    {
      "cell_type": "markdown",
      "source": [
        "**💼 Positive Impact:**\n",
        "\n",
        "---\n",
        "Helps content curators understand which attributes drive popularity — crucial for deciding future investments.\n",
        "\n",
        "Correlations highlight key predictors for user engagement models.\n",
        "\n",
        "Amazon Prime can optimize content recommendations using these relationships.\n",
        "\n",
        "Marketing teams can focus on highly correlated content types.\n",
        "\n",
        "\n",
        "⚠️ **Negative Impact:**\n",
        "\n",
        "---\n",
        "\n",
        "Ignoring weakly correlated factors could mean overlooking subtle but crucial behavioral patterns, especially across different audience segments or genres."
      ],
      "metadata": {
        "id": "Fth2GAhY6gOQ"
      }
    },
    {
      "cell_type": "markdown",
      "source": [
        "## Chart - 14 - Pair Plot\n",
        "Multi-variate Analysis\n",
        "\n",
        "**How do IMDb Score, TMDb Popularity, and Runtime interact across Movies and TV Shows on Amazon Prime Video?**"
      ],
      "metadata": {
        "id": "q29F0dvdveiT"
      }
    },
    {
      "cell_type": "code",
      "source": [
        "# 📦 Import Libraries\n",
        "import seaborn as sns\n",
        "import matplotlib.pyplot as plt\n",
        "import pandas as pd\n",
        "\n",
        "\n",
        "data = df\n",
        "\n",
        "# 🧹 Data Cleaning\n",
        "data = data.dropna(subset=['imdb_score', 'tmdb_popularity', 'runtime', 'type'])\n",
        "data = data[(data['imdb_score'] > 0) & (data['tmdb_popularity'] > 0) & (data['runtime'] > 0)]\n",
        "\n",
        "# 🎨 Create the Pair Plot\n",
        "sns.set(style=\"whitegrid\", context=\"talk\")\n",
        "\n",
        "pair_plot = sns.pairplot(\n",
        "    data,\n",
        "    vars=['imdb_score', 'tmdb_popularity', 'runtime'],\n",
        "    hue='type',\n",
        "    palette='Set2',\n",
        "    diag_kind='kde',\n",
        "    plot_kws={'alpha': 0.7, 's': 50, 'edgecolor': 'k'}\n",
        ")\n",
        "\n",
        "pair_plot.fig.suptitle(\"Pair Plot – IMDb Score, TMDb Popularity & Runtime by Type\",\n",
        "                       y=1.03, fontsize=16, fontweight=\"bold\")\n",
        "plt.show()\n"
      ],
      "metadata": {
        "id": "o58-TEIhveiU"
      },
      "execution_count": null,
      "outputs": []
    },
    {
      "cell_type": "markdown",
      "source": [
        "### **1. Why did you pick the specific chart?**"
      ],
      "metadata": {
        "id": "EXh0U9oCveiU"
      }
    },
    {
      "cell_type": "markdown",
      "source": [
        "📊 The **Pair Plot** was used to explore relationships between multiple numerical variables (IMDb Score, TMDb Popularity, and Runtime) simultaneously.\n",
        "\n",
        "**It helps in identifying:**\n",
        "\n",
        "---\n",
        "Correlations between these features\n",
        "\n",
        "Cluster patterns by content type (Movie vs TV Show)\n",
        "\n",
        "Outliers or unique combinations within the dataset"
      ],
      "metadata": {
        "id": "eMmPjTByveiU"
      }
    },
    {
      "cell_type": "markdown",
      "source": [
        "### **2. What is/are the insight(s) found from the chart?**"
      ],
      "metadata": {
        "id": "22aHeOlLveiV"
      }
    },
    {
      "cell_type": "markdown",
      "source": [
        "🔹 **1. IMDb Score vs TMDb Popularity:**\n",
        "\n",
        "---\n",
        "Movies tend to have a more diverse range of IMDb scores, while their popularity (TMDb) varies widely — suggesting that a highly rated movie isn’t always the most popular.\n",
        "\n",
        "🔹 **2. Runtime Patterns:**\n",
        "\n",
        "---\n",
        "Movies generally have higher runtimes but tighter clustering, while TV Shows display more spread, due to varying episode lengths.\n",
        "\n",
        "🔹**3. Correlation Observation:**\n",
        "\n",
        "---\n",
        "There’s a mild positive correlation between IMDb score and TMDb popularity — titles with good IMDb ratings often show higher popularity, but exceptions exist.\n"
      ],
      "metadata": {
        "id": "uPQ8RGwHveiV"
      }
    },
    {
      "cell_type": "markdown",
      "source": [
        "## **5. Solution to Business Objective**"
      ],
      "metadata": {
        "id": "JcMwzZxoAimU"
      }
    },
    {
      "cell_type": "markdown",
      "source": [
        "#### What do you suggest the client to achieve Business Objective ?\n",
        "Explain Briefly."
      ],
      "metadata": {
        "id": "8G2x9gOozGDZ"
      }
    },
    {
      "cell_type": "markdown",
      "source": [
        "**🎯 Final Insights**\n",
        "\n",
        "---\n",
        "\n",
        "1️⃣ Movies dominate over TV shows on Amazon Prime.\n",
        "\n",
        "2️⃣ Drama, Comedy, and Action are the most popular genres.\n",
        "\n",
        "3️⃣ U.S. and India lead in content production; other regions are underrepresented.\n",
        "\n",
        "4️⃣ High IMDb/TMDB ratings strongly correlate with votes and popularity.\n",
        "\n",
        "5️⃣ TV-MA and 16+ rated content prevails, showing focus on mature audiences.\n",
        "\n",
        "6️⃣ A few top titles drive the majority of overall popularity.\n",
        "\n",
        "**💡 Business Recommendations:**\n",
        "\n",
        "---\n",
        "**🎬 Focus on Top Genres** – Invest in Drama, Comedy, and Action for higher engagement.\n",
        "\n",
        "**🌍 Expand Globally** – Produce or acquire more regional content beyond U.S. and India.\n",
        "\n",
        "**🏆 Prioritize Quality** – Emphasize high-rated, high-impact titles over volume.\n",
        "\n",
        "**🎯 Personalized Experience** – Use viewer age and genre data for smarter recommendations.\n",
        "\n",
        "**👥 Leverage Top Talent **– Promote and collaborate with popular actors/directors.\n",
        "\n",
        "In summary, the EDA reveals that focusing on popular genres, quality content, and regional diversity will help Amazon Prime Video enhance engagement, broaden its audience, and strengthen its global position."
      ],
      "metadata": {
        "id": "pASKb0qOza21"
      }
    },
    {
      "cell_type": "markdown",
      "source": [
        "# **Conclusion**"
      ],
      "metadata": {
        "id": "gCX9965dhzqZ"
      }
    },
    {
      "cell_type": "markdown",
      "source": [
        "This project analyzed Amazon Prime Video’s content to uncover trends in genres, ratings, and audience preferences.\n",
        "The analysis showed that movies dominate, with Drama, Comedy, and Action as top genres, and the U.S. and India leading in production.\n",
        " Higher ratings aligned with stronger engagement, and mature content prevailed.\n",
        "\n",
        "Overall, Amazon Prime should focus on high-demand genres, expand regional diversity, and prioritize quality content to boost viewer engagement and growth."
      ],
      "metadata": {
        "id": "Fjb1IsQkh3yE"
      }
    },
    {
      "cell_type": "markdown",
      "source": [
        "### ***Hurrah! You have successfully completed your EDA Capstone Project !!!***"
      ],
      "metadata": {
        "id": "gIfDvo9L0UH2"
      }
    }
  ]
}