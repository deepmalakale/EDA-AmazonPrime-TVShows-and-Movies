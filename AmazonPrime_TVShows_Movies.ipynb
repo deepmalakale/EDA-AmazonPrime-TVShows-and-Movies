{
  "nbformat": 4,
  "nbformat_minor": 0,
  "metadata": {
    "colab": {
      "private_outputs": true,
      "provenance": [],
      "collapsed_sections": [
        "dauF4eBmngu3",
        "GF8Ens_Soomf",
        "y-Ehk30pYrdP",
        "b0JNsNcRphqO"
      ],
      "include_colab_link": true
    },
    "kernelspec": {
      "name": "python3",
      "display_name": "Python 3"
    },
    "language_info": {
      "name": "python"
    }
  },
  "cells": [
    {
      "cell_type": "markdown",
      "metadata": {
        "id": "view-in-github",
        "colab_type": "text"
      },
      "source": [
        "<a href=\"https://colab.research.google.com/github/deepmalakale/EDA-AmazonPrime-TVShows-and-Movies/blob/main/AmazonPrime_TVShows_Movies.ipynb\" target=\"_parent\"><img src=\"https://colab.research.google.com/assets/colab-badge.svg\" alt=\"Open In Colab\"/></a>"
      ]
    },
    {
      "cell_type": "markdown",
      "source": [
        "# **Project Name**    - 🎬 Exploratory  Data Analysis on Amazon Prime TV Shows and Movies\n",
        "\n"
      ],
      "metadata": {
        "id": "vncDsAP0Gaoa"
      }
    },
    {
      "cell_type": "markdown",
      "source": [
        "##### **Project Type**    - EDA\n",
        "##### **Contribution**    - Group\n"
      ],
      "metadata": {
        "id": "beRrZCGUAJYm"
      }
    },
    {
      "cell_type": "markdown",
      "source": [
        "# **Project Summary -**"
      ],
      "metadata": {
        "id": "FJNUwmbgGyua"
      }
    },
    {
      "cell_type": "markdown",
      "source": [
        "The project **“Amazon Prime TV Shows and Movies”** focuses on conducting an in-depth analysis of Amazon Prime Video’s content library, with the objective of **uncovering meaningful trends, patterns, and actionable insights** related to its catalog of shows and movies.\n",
        "\n",
        "The entire analysis was performed using **Python in Google Colab, leveraging popular data analysis and visualization libraries such as Pandas, Matplotlib, Seaborn, and Plotly** to make the project interactive, I also developed a **Streamlit web application,** where users can dynamically explore Amazon Prime’s content through different plots categorized under Univariate, Bivariate, and Multivariate analysis\n",
        "\n",
        "📂 **Datasets Used**\n",
        "\n",
        "1️⃣ **Titles Dataset** (titles.csv)\n",
        "\n",
        "Contains metadata for 9,871 titles with 15 attributes, including title, type (movie or TV show), release year, age certification, runtime, genres, production countries, and performance metrics such as IMDb and TMDB ratings, votes, and popularity.\n",
        "\n",
        "2️⃣ **Credits Dataset** (credits.csv)\n",
        "\n",
        "Includes over 124,000 records detailing cast and crew members, capturing information such as person name, role (actor/director), and character associations with each title.\n",
        "\n",
        "🧹**Data Wrangling & Preprocessing**\n",
        "\n",
        "These datasets were carefully cleaned, standardized, and merged into a consolidated dataframe (df) through a structured process of data wrangling.\n",
        "This process involved handling missing values, addressing outliers, resolving redundancies, and normalizing categorical data to ensure a high-quality dataset for robust analysis.\n",
        "\n",
        "📊 **Exploratory Data Analysis (EDA)**\n",
        "\n",
        "Exploratory Data Analysis (EDA) was then carried out using a combination of statistical techniques and interactive visualizations.\n",
        "Tools like Seaborn and Plotly were employed to generate box plots, violin plots, donut charts, treemaps, bubble plots, correlation heatmaps, and pair plots.\n",
        "These visualizations provided clarity, interactivity, and deeper engagement with the data.\n",
        "\n",
        "💡 **Key Insights & Findings**\n",
        "\n",
        "The findings revealed key insights into:\n",
        "\n",
        "The distribution of TV shows vs. movies on the platform\n",
        "\n",
        "The dominant genres and regional production trends\n",
        "\n",
        "Runtime and age certification patterns across categories\n",
        "\n",
        "Shifts in Amazon Prime’s content catalog over the years\n",
        "\n",
        "The role of IMDb and TMDB ratings, votes, and popularity in shaping audience perception\n",
        "\n",
        "Contributions of actors and directors frequently appearing across titles\n",
        "\n",
        "🧭 **Strategic Impact**\n",
        "\n",
        "These insights support strategic decision-making for content acquisition, audience targeting, and recommendation systems.\n",
        "For instance, identifying genres with consistently high ratings can guide future investments, while analyzing production country trends highlights opportunities for market expansion.\n",
        "\n",
        "🏁 **Conclusion**\n",
        "\n",
        "In conclusion, this project demonstrates how raw datasets, when thoroughly cleaned and analyzed, can be transformed into data-driven insights that strengthen Amazon Prime Video’s content strategy, competitive positioning, and audience engagement."
      ],
      "metadata": {
        "id": "gWJa-s7GkFB3"
      }
    },
    {
      "cell_type": "markdown",
      "source": [
        "# **GitHub Link -**"
      ],
      "metadata": {
        "id": "w6K7xa23Elo4"
      }
    },
    {
      "cell_type": "markdown",
      "source": [
        "Github Link :https://colab.research.google.com/github/deepmalakale/EDA-AmazonPrime-TVShows-and-Movies/blob/main/AmazonPrime_TVShows_Movies.ipynb\n"
      ],
      "metadata": {
        "id": "h1o69JH3Eqqn"
      }
    },
    {
      "cell_type": "markdown",
      "source": [
        "# **Problem Statement**\n"
      ],
      "metadata": {
        "id": "yQaldy8SH6Dl"
      }
    },
    {
      "cell_type": "markdown",
      "source": [
        "The rapid expansion of video streaming platforms has created an environment where data-driven decision-making is critical for sustaining competitive advantage. Amazon Prime Video, with its vast library of movies and TV shows, faces the challenge of understanding its diverse catalog in terms of content diversity, audience preferences, and regional distribution.\n",
        "\n",
        "The key problems addressed in this project are:\n",
        "\n",
        "**Content Diversity & Trends** – What are the dominant genres, formats (movies vs. shows), and age certifications? How has the catalog evolved over the years?\n",
        "\n",
        "**Regional Analysis** – Which countries contribute the most to Amazon Prime’s content library? Are certain regions underrepresented or overrepresented?\n",
        "\n",
        "**Audience Reception & Popularity** – How do IMDb and TMDB ratings, votes, and popularity scores correlate, and what do they reveal about audience engagement?\n",
        "\n",
        "**Runtime & Release Insights** – What patterns emerge in terms of runtime, release years, and seasonal content availability?\n",
        "\n",
        "**Cast & Crew Contributions** – Who are the most frequently featured actors and directors, and how do they influence content success?\n",
        "\n",
        "By addressing these questions, the project aims to transform **raw datasets** (titles and credits) into a **clean, structured, and insightful analysis.** The insights generated will not only enhance the understanding of Amazon Prime’s current catalog but also **provide strategic guidance for content acquisition, audience targeting, and recommendation systems** in the competitive streaming industry."
      ],
      "metadata": {
        "id": "C-O96mgXlEK3"
      }
    },
    {
      "cell_type": "markdown",
      "source": [
        "#### **Define Your Business Objective?**"
      ],
      "metadata": {
        "id": "PH-0ReGfmX4f"
      }
    },
    {
      "cell_type": "markdown",
      "source": [
        "The objective of this project is to **leverage data analysis of Amazon Prime Video’s catalog to understand audience preferences, content diversity, and market trends.** By examining factors such as genres, regional production, release patterns, ratings, and cast/crew involvement, the project **aims to generate actionable insights** that can help:\n",
        "\n",
        "**Enhance content strategy** by identifying popular genres, formats, and regions.\n",
        "\n",
        "**Improve audience engagement** through data-driven recommendations.\n",
        "\n",
        "**Support business growth** by aligning content acquisition and investment with viewer demand."
      ],
      "metadata": {
        "id": "A70dX5n0lWsg"
      }
    },
    {
      "cell_type": "markdown",
      "source": [
        "# ***Let's Begin !***"
      ],
      "metadata": {
        "id": "O_i_v8NEhb9l"
      }
    },
    {
      "cell_type": "markdown",
      "source": [
        "## ***1. Know Your Data***"
      ],
      "metadata": {
        "id": "HhfV-JJviCcP"
      }
    },
    {
      "cell_type": "markdown",
      "source": [
        "### Import Libraries"
      ],
      "metadata": {
        "id": "Y3lxredqlCYt"
      }
    },
    {
      "cell_type": "code",
      "source": [
        "# Import Libraries\n",
        "#from google.colab import drive\n",
        "import os\n",
        "import numpy as np\n",
        "import pandas as pd\n",
        "import matplotlib.pyplot as plt\n",
        "import seaborn as sns"
      ],
      "metadata": {
        "id": "M8Vqi-pPk-HR"
      },
      "execution_count": null,
      "outputs": []
    },
    {
      "cell_type": "code",
      "source": [
        "'''try:\n",
        "  drive.mount('/content/drive')\n",
        "except Exception as e:\n",
        "  print('Error mounting google drive')'''"
      ],
      "metadata": {
        "id": "us0iJ9BSmDKG"
      },
      "execution_count": null,
      "outputs": []
    },
    {
      "cell_type": "markdown",
      "source": [
        "### Dataset Loading"
      ],
      "metadata": {
        "id": "3RnN4peoiCZX"
      }
    },
    {
      "cell_type": "code",
      "source": [
        "'''#creating file path\n",
        "directory = '/content/drive/MyDrive/Colab Notebooks/capston_project/mod2_capston/AmazonPrime'\n",
        "filename_titles = 'titles.csv'\n",
        "filename_credits = 'credits.csv'''"
      ],
      "metadata": {
        "id": "BqAuagN7n7tO"
      },
      "execution_count": null,
      "outputs": []
    },
    {
      "cell_type": "code",
      "source": [
        "'''try:\n",
        "  filepath_titles = os.path.join(directory, filename_titles)\n",
        "  filepath_credits = os.path.join(directory, filename_credits)\n",
        "except Exception as e:\n",
        "  print('Creation of filepath unsuccesful')'''\n",
        "filepath_titles='/content/titles.csv'\n",
        "filepath_credits='/content/credits.csv'"
      ],
      "metadata": {
        "id": "IQMye3wUoNqB"
      },
      "execution_count": null,
      "outputs": []
    },
    {
      "cell_type": "code",
      "source": [
        "# Load Dataset\n",
        "try:\n",
        "  titles = pd.read_csv(filepath_titles)\n",
        "  credits = pd.read_csv(filepath_credits)\n",
        "except Exception as e:\n",
        "  print('Error loading data')\n"
      ],
      "metadata": {
        "id": "4CkvbW_SlZ_R"
      },
      "execution_count": null,
      "outputs": []
    },
    {
      "cell_type": "markdown",
      "source": [
        "### Dataset First View"
      ],
      "metadata": {
        "id": "x71ZqKXriCWQ"
      }
    },
    {
      "cell_type": "code",
      "source": [
        "# Dataset First Look\n",
        "titles.head()"
      ],
      "metadata": {
        "id": "LWNFOSvLl09H"
      },
      "execution_count": null,
      "outputs": []
    },
    {
      "cell_type": "code",
      "source": [
        "\n",
        "credits.head()"
      ],
      "metadata": {
        "id": "4zL9hYSvqHi3"
      },
      "execution_count": null,
      "outputs": []
    },
    {
      "cell_type": "markdown",
      "source": [
        "### Dataset Rows & Columns count"
      ],
      "metadata": {
        "id": "7hBIi_osiCS2"
      }
    },
    {
      "cell_type": "code",
      "source": [
        "# Dataset Rows & Columns count\n",
        "print('Titles Dataset - ', titles.shape)\n",
        "print('----------------')\n",
        "print('Credits Dataset - ', credits.shape)"
      ],
      "metadata": {
        "id": "Kllu7SJgmLij"
      },
      "execution_count": null,
      "outputs": []
    },
    {
      "cell_type": "markdown",
      "source": [
        "### Dataset Information"
      ],
      "metadata": {
        "id": "JlHwYmJAmNHm"
      }
    },
    {
      "cell_type": "code",
      "source": [
        "# Dataset Info\n",
        "print('Titles Dataset Info:\\n')\n",
        "print(titles.info())\n",
        "print('----------------\\n')\n",
        "print('Credits Dataset Info:\\n')\n",
        "print(credits.info())"
      ],
      "metadata": {
        "id": "e9hRXRi6meOf"
      },
      "execution_count": null,
      "outputs": []
    },
    {
      "cell_type": "markdown",
      "source": [
        "#### Duplicate Values"
      ],
      "metadata": {
        "id": "35m5QtbWiB9F"
      }
    },
    {
      "cell_type": "code",
      "source": [
        "# Dataset Duplicate Value Count\n",
        "print('Titles Dataset Duplicate Values - ', titles.duplicated().sum())\n",
        "print('----------------')\n",
        "print('Credits Dataset Duplicate Values - ', credits.duplicated().sum())"
      ],
      "metadata": {
        "id": "1sLdpKYkmox0"
      },
      "execution_count": null,
      "outputs": []
    },
    {
      "cell_type": "code",
      "source": [
        "print('---------Visualising duplicates in titles dataset--------')\n",
        "titles[titles.duplicated()].sort_values(by = 'id')"
      ],
      "metadata": {
        "id": "6ZbhPfVxSvzG"
      },
      "execution_count": null,
      "outputs": []
    },
    {
      "cell_type": "code",
      "source": [
        "print('---------Visualising duplicates in credits dataset--------')\n",
        "credits[credits.duplicated()].sort_values(by = 'id')"
      ],
      "metadata": {
        "id": "Gew67-D6U-gY"
      },
      "execution_count": null,
      "outputs": []
    },
    {
      "cell_type": "markdown",
      "source": [
        "#### Missing Values/Null Values"
      ],
      "metadata": {
        "id": "PoPl-ycgm1ru"
      }
    },
    {
      "cell_type": "code",
      "source": [
        "# Missing Values/Null Values Count\n",
        "print('Titles Dataset Missing Values:\\n')\n",
        "print(titles.isnull().sum())\n",
        "print('----------------')\n",
        "print('Credits Dataset Missing Values:\\n')\n",
        "print(credits.isnull().sum())"
      ],
      "metadata": {
        "id": "GgHWkxvamxVg"
      },
      "execution_count": null,
      "outputs": []
    },
    {
      "cell_type": "code",
      "source": [
        "# Visualizing the missing values in Titles Data using heatmap\n",
        "plt.figure(figsize=(10, 6))\n",
        "sns.heatmap(titles.isnull(), cmap = 'viridis',cbar = False, yticklabels = False)\n",
        "plt.title('Missing values Heatmap')"
      ],
      "metadata": {
        "id": "OrwoYhYVXWmv"
      },
      "execution_count": null,
      "outputs": []
    },
    {
      "cell_type": "code",
      "source": [
        "# Visualizing the missing values in Credits Data using heatmap\n",
        "plt.figure(figsize=(10, 6))\n",
        "sns.heatmap(credits.isnull(), cmap = 'viridis',cbar = False, yticklabels = False)\n",
        "plt.title('Missing values Heatmap')"
      ],
      "metadata": {
        "id": "sRm36e1SYGoq"
      },
      "execution_count": null,
      "outputs": []
    },
    {
      "cell_type": "markdown",
      "source": [
        "### What did you know about your dataset?"
      ],
      "metadata": {
        "id": "H0kj-8xxnORC"
      }
    },
    {
      "cell_type": "markdown",
      "source": [
        "📊 Dataset Overview\n",
        "\n",
        "The dataset used in this project comes from Amazon Prime Video’s catalog (U.S. region) 🇺🇸 — originally in two raw files: titles.csv 📄 and credits.csv 🎭 — and later cleaned 🧼, transformed 🔄, and merged into a consolidated dataframe df 📊.\n",
        "\n",
        "📐 Dataset Size & Structure\n",
        "\n",
        "Titles Dataset: 9,871 unique shows 🎬 & movies 🍿 with 15 attributes.\n",
        "\n",
        "Credits Dataset: 124,235 records of cast 👥 and crew 🎥 with 5 attributes.\n",
        "\n",
        "Final Dataframe (df): Combines both datasets, enabling title-level and person-level insights 🔍.\n",
        "\n",
        "🧮 Types of Variables\n",
        "\n",
        "Categorical Variables: Content type (Movie/Show 🎞️📺), Age Certification 🔞, Genres 🎭, Production Countries 🌍, Role (Actor/Director 🎬).\n",
        "\n",
        "Numerical Variables: Release Year 📅, Runtime ⏱️, Number of Seasons 📺, IMDb/TMDB Ratings ⭐, IMDb Votes 🗳️, TMDB Popularity 🔥.\n",
        "\n",
        "Text Variables: Title 📖, Description 📝, Name 🧑‍💼, Character 🎭.\n",
        "\n",
        "🎭 Content Composition\n",
        "\n",
        "The catalog includes both movies 🎞️ and TV shows 📺.\n",
        "\n",
        "Genres are diverse (Drama 🎭, Comedy 😂, Action 💥, Thriller 😱, Documentary 🎥).\n",
        "\n",
        "Content originates from multiple production countries 🌎, with the U.S. 🇺🇸 being dominant.\n",
        "\n",
        "⭐ Ratings & Popularity\n",
        "\n",
        "Most titles feature IMDb and TMDB ratings ⭐ — allowing assessment of audience reception.\n",
        "\n",
        "TMDB popularity scores 🔥 offer insights into trending content.\n",
        "\n",
        "👥 Cast & Crew Data\n",
        "\n",
        "The credits dataset enriches analysis by linking actors 🎭 and directors 🎬 to titles.\n",
        "\n",
        "This enables identification of the most frequent actors/directors and collaboration patterns 🔄.\n",
        "\n",
        "🧹 Data Quality & Cleaning\n",
        "\n",
        "Raw datasets had missing values 🚫, outliers 📌 and inconsistencies (e.g., missing runtimes ⏱️, null age certifications 🔞, duplicate records 🔁).\n",
        "\n",
        "Wrangling steps included:\n",
        "\n",
        "Handling null values (imputation or removal) 🧼.\n",
        "\n",
        "Removing or capping outliers (extreme runtimes ⏱️ or unrealistic ratings ⭐).\n",
        "\n",
        "Standardising categorical variables (genres 🎭, countries 🌍).\n",
        "\n",
        "Merging duplicates and ensuring consistency across datasets 🔄.\n",
        "\n",
        "📊 Final Dataset (df)\n",
        "\n",
        "The final dataframe is structured and reliable, capturing:\n",
        "\n",
        "Title metadata (name 📖, type 🎞️📺, genres 🎭, ratings ⭐, popularity 🔥).\n",
        "\n",
        "Cast & crew information (actors 🎭, directors 🎬, roles 🎭).\n",
        "\n",
        "It serves as a comprehensive foundation for Exploratory Data Analysis (EDA) 🔍 and deriving business insights 💡."
      ],
      "metadata": {
        "id": "gfoNAAC-nUe_"
      }
    },
    {
      "cell_type": "markdown",
      "source": [
        "## ***2. Understanding Your Variables***"
      ],
      "metadata": {
        "id": "nA9Y7ga8ng1Z"
      }
    },
    {
      "cell_type": "code",
      "source": [
        "# Dataset Columns\n",
        "print('Titles Dataset Columns:\\n')\n",
        "print(titles.columns)\n",
        "print('----------------')\n",
        "print('Credits Dataset Columns:\\n')\n",
        "print(credits.columns)"
      ],
      "metadata": {
        "id": "j7xfkqrt5Ag5"
      },
      "execution_count": null,
      "outputs": []
    },
    {
      "cell_type": "code",
      "source": [
        "# Dataset Describe\n",
        "print('Titles Dataset Describe:\\n')\n",
        "print(titles.describe())\n",
        "print('----------------')\n",
        "print('Credits Dataset Describe:\\n')\n",
        "print(credits.describe(include = 'all'))"
      ],
      "metadata": {
        "id": "DnOaZdaE5Q5t"
      },
      "execution_count": null,
      "outputs": []
    },
    {
      "cell_type": "markdown",
      "source": [
        "### Variables Description"
      ],
      "metadata": {
        "id": "PBTbrJXOngz2"
      }
    },
    {
      "cell_type": "markdown",
      "source": [
        "The dataset consists of two files — titles.csv and credits.csv — which were merged into a consolidated dataframe (df) for analysis. Below is the description of the key variables:\n",
        "\n",
        "**Titles Dataset (titles.csv)**\n",
        "\n",
        "> Contains metadata of TV shows and movies available on Amazon Prime.\n",
        "\n",
        "- id : Unique identifier of the title (`on JustWatch`).\n",
        "\n",
        "- title : Name of the movie or TV show.\n",
        "\n",
        "- type : Content type: Movie or TV Show.\n",
        "\n",
        "- description : Brief synopsis of the title.\n",
        "\n",
        "- release_year : Year in which the title was released.\n",
        "\n",
        "- age_certification : Age rating (`e.g., PG, R, 18+`).\n",
        "\n",
        "- runtime : Duration of the movie or average length of an episode (`in minutes`).\n",
        "\n",
        "- genres : List of genres (`Drama, Comedy, Action, etc.`).\n",
        "\n",
        "- production_countries : Countries involved in producing the title.\n",
        "\n",
        "- seasons : Number of seasons (`only for TV shows`).\n",
        "\n",
        "- imdb_id : Unique IMDb identifier.\n",
        "\n",
        "- imdb_score : IMDb rating score (`0–10`).\n",
        "\n",
        "- imdb_votes : Number of IMDb user votes.\n",
        "\n",
        "- tmdb_popularity : Popularity score from TMDB.\n",
        "\n",
        "- tmdb_score : TMDB rating score.\n",
        "\n",
        "**Credits Dataset (credits.csv)**\n",
        "\n",
        "> Contains cast and crew details for each title.\n",
        "\n",
        "- person_id : Unique identifier for an actor/director.\n",
        "\n",
        "- id : Title ID (`to link with titles dataset`).\n",
        "\n",
        "- name : Name of the person (`actor or director`).\n",
        "\n",
        "- character : Character played (`if actor`).\n",
        "\n",
        "- role : Role in the production (`ACTOR or DIRECTOR`)."
      ],
      "metadata": {
        "id": "aJV4KIxSnxay"
      }
    },
    {
      "cell_type": "markdown",
      "source": [
        "### Check Unique Values for each variable."
      ],
      "metadata": {
        "id": "u3PMJOP6ngxN"
      }
    },
    {
      "cell_type": "code",
      "source": [
        "#Check count of unique values for each variable\n",
        "print('Count of unique values in Titles Dataset--------')\n",
        "for col in titles.columns:\n",
        "  count = titles[col].nunique()\n",
        "  print(f'{col} : {count}')\n",
        "\n",
        "print('----------------')\n",
        "\n",
        "print('Count of unique values in Credits Dataset')\n",
        "for col in credits.columns:\n",
        "  count = credits[col].nunique()\n",
        "  print(f'{col} : {count}')"
      ],
      "metadata": {
        "id": "YTKgHfkxD3dT"
      },
      "execution_count": null,
      "outputs": []
    },
    {
      "cell_type": "code",
      "source": [
        "# Check Unique Values for each variable.\n",
        "print('Unique Values in Titles Dataset-------')\n",
        "for col in titles.columns:\n",
        "  print(f\"{col} : {titles[col].unique()}\")\n"
      ],
      "metadata": {
        "id": "zms12Yq5n-jE"
      },
      "execution_count": null,
      "outputs": []
    },
    {
      "cell_type": "code",
      "source": [
        "print('Unique values in Credits Dataset--------')\n",
        "for col in credits.columns:\n",
        "  print(f'{col} : {credits[col].unique()}')"
      ],
      "metadata": {
        "id": "NDgcl3RpD1si"
      },
      "execution_count": null,
      "outputs": []
    },
    {
      "cell_type": "markdown",
      "source": [
        "## 3. ***Data Wrangling***"
      ],
      "metadata": {
        "id": "dauF4eBmngu3"
      }
    },
    {
      "cell_type": "markdown",
      "source": [
        "## Initial Preprocessing\n"
      ],
      "metadata": {
        "id": "xTbLdZqEImq9"
      }
    },
    {
      "cell_type": "code",
      "source": [
        "#Remove Duplicated Values\n",
        "try:\n",
        "  titles.drop_duplicates(inplace = True)\n",
        "  credits.drop_duplicates(inplace = True)\n",
        "except Exception as e:\n",
        "  print('Could not delete duplicates')"
      ],
      "metadata": {
        "id": "h3anc7ATE2Cq"
      },
      "execution_count": null,
      "outputs": []
    },
    {
      "cell_type": "code",
      "source": [
        "print('Duplicate Count after processing')\n",
        "print(f'Duplicate count in Titles Dataset: {titles.duplicated().sum()}')\n",
        "print('-----------')\n",
        "print(f'Duplicate count in Credits Dataset: {credits.duplicated().sum()}')\n"
      ],
      "metadata": {
        "id": "OIldHWQMFJyC"
      },
      "execution_count": null,
      "outputs": []
    },
    {
      "cell_type": "markdown",
      "source": [
        "### Drop columns with 70% or more null values"
      ],
      "metadata": {
        "id": "UgvSbK_4I3X7"
      }
    },
    {
      "cell_type": "code",
      "source": [
        "#Checking % of null values for each column\n",
        "\n",
        "titlesLen = titles.shape[0]\n",
        "for col in titles.columns:\n",
        "  null_count = titles[col].isnull().sum()\n",
        "  print(f'% null values in {col} : {(null_count * 100 / titlesLen):.2f}%')"
      ],
      "metadata": {
        "id": "kAZMqT-GJBJe"
      },
      "execution_count": null,
      "outputs": []
    },
    {
      "cell_type": "code",
      "source": [
        "#We can see that seasons column has more than 70% null values\n",
        "#So we will drop these columns\n",
        "\n",
        "try:\n",
        "  titles = titles.drop(columns = ['seasons'])\n",
        "except Exception as e:\n",
        "  print(f'Error dropping columns')\n"
      ],
      "metadata": {
        "id": "OC7rK7NHKOtN"
      },
      "execution_count": null,
      "outputs": []
    },
    {
      "cell_type": "code",
      "source": [
        "#Remaining columns after dropping seasons\n",
        "titles.columns"
      ],
      "metadata": {
        "id": "HwkaWv8eQ9hl"
      },
      "execution_count": null,
      "outputs": []
    },
    {
      "cell_type": "code",
      "source": [
        "#Check Null values in other columns for insights\n",
        "titles[titles['description'].isnull() & titles['imdb_score'].isnull() & titles['imdb_votes'].isnull() & titles['tmdb_popularity'].isnull() & titles['tmdb_score'].isnull()]"
      ],
      "metadata": {
        "id": "4dAZwG5Vvtvo"
      },
      "execution_count": null,
      "outputs": []
    },
    {
      "cell_type": "code",
      "source": [
        "#Since we can see that there are 69 rows with all null column values\n",
        "# We can drop these rows as well\n",
        "\n",
        "rowIndex = list(titles[titles['description'].isnull() & titles['imdb_score'].isnull() & titles['imdb_votes'].isnull() & titles['tmdb_popularity'].isnull() & titles['tmdb_score'].isnull()].index)\n",
        "titles = titles.drop(index= rowIndex)"
      ],
      "metadata": {
        "id": "ZF-5_6zv1ze5"
      },
      "execution_count": null,
      "outputs": []
    },
    {
      "cell_type": "markdown",
      "source": [
        "# Clean Description Column"
      ],
      "metadata": {
        "id": "lys7EVe39bS7"
      }
    },
    {
      "cell_type": "code",
      "source": [
        "#Since we cannot use any statistical method to fill null values for description column, we will instead fill it with 'Unknown'\n",
        "#This will help us to keep track for further processing and analysis\n",
        "\n",
        "titles['description'] = titles['description'].fillna('Unknown')"
      ],
      "metadata": {
        "id": "Yvj56_AG4Jli"
      },
      "execution_count": null,
      "outputs": []
    },
    {
      "cell_type": "code",
      "source": [
        "titles['description'].isnull().sum()"
      ],
      "metadata": {
        "id": "VrmsCGXg-iD4"
      },
      "execution_count": null,
      "outputs": []
    },
    {
      "cell_type": "markdown",
      "source": [
        "# Clean Age-Certification Column"
      ],
      "metadata": {
        "id": "JJ2ddBZ1EVmp"
      }
    },
    {
      "cell_type": "code",
      "source": [
        "# We will fill the null values with 'Unknown'\n",
        "# The remaining values will give us insights to analyse this column\n",
        "# Cleaning any leading/trailig whitespaces as well\n",
        "\n",
        "titles['age_certification'] = titles['age_certification'].fillna('Unknown').str.strip()\n"
      ],
      "metadata": {
        "id": "CzVPHVE9EZRz"
      },
      "execution_count": null,
      "outputs": []
    },
    {
      "cell_type": "code",
      "source": [
        "titles['age_certification'].isnull().sum()"
      ],
      "metadata": {
        "id": "ttBOdornE7nH"
      },
      "execution_count": null,
      "outputs": []
    },
    {
      "cell_type": "markdown",
      "source": [
        "# Clean Imdb-ID Column"
      ],
      "metadata": {
        "id": "k4RM6SGOFfUU"
      }
    },
    {
      "cell_type": "code",
      "source": [
        "\n",
        "# We will fill the null values with 'Unknown'\n",
        "# Cleaning any leading/trailig whitespaces as well\n",
        "\n",
        "titles['imdb_id'] = titles['imdb_id'].fillna('Unknown').str.strip()"
      ],
      "metadata": {
        "id": "8R-NsOZzG7Gs"
      },
      "execution_count": null,
      "outputs": []
    },
    {
      "cell_type": "code",
      "source": [
        "titles['imdb_id'].isnull().sum()"
      ],
      "metadata": {
        "id": "zAR0oe4QHLNl"
      },
      "execution_count": null,
      "outputs": []
    },
    {
      "cell_type": "markdown",
      "source": [
        "# Clean imdb score"
      ],
      "metadata": {
        "id": "QX4v4xHo-m7H"
      }
    },
    {
      "cell_type": "code",
      "source": [
        "#Check DataType of the imdb column to use appropriate statistical model\n",
        "titles['imdb_score'].dtype"
      ],
      "metadata": {
        "id": "6VWuNs9J_M3I"
      },
      "execution_count": null,
      "outputs": []
    },
    {
      "cell_type": "code",
      "source": [
        "#Check the skewness of the column\n",
        "titles['imdb_score'].skew()"
      ],
      "metadata": {
        "id": "AfsPR-NS_sdA"
      },
      "execution_count": null,
      "outputs": []
    },
    {
      "cell_type": "code",
      "source": [
        "#The column data is normally skewed, visualizing this through a histogram\n",
        "plt.title('Visualization of imdb_score (includes Null)')\n",
        "sns.histplot(data = titles, x = 'imdb_score', kde = True)"
      ],
      "metadata": {
        "id": "MTba7029_ajY"
      },
      "execution_count": null,
      "outputs": []
    },
    {
      "cell_type": "code",
      "source": [
        "titles[\"type\"].head()"
      ],
      "metadata": {
        "id": "KQeIRYGlLasR"
      },
      "execution_count": null,
      "outputs": []
    },
    {
      "cell_type": "code",
      "source": [
        "#Using mean on groupby 'type' column to fill null values\n",
        "titles['imdb_score'] = titles['imdb_score'].fillna(titles.groupby('type')['imdb_score'].transform('mean'))"
      ],
      "metadata": {
        "id": "4fXpbvPTAh7p"
      },
      "execution_count": null,
      "outputs": []
    },
    {
      "cell_type": "code",
      "source": [
        "#Rounding the mean values to 2 decimal places\n",
        "titles['imdb_score'] = titles['imdb_score'].apply(lambda x: round(x,2))"
      ],
      "metadata": {
        "id": "kpVChU_rxD0M"
      },
      "execution_count": null,
      "outputs": []
    },
    {
      "cell_type": "code",
      "source": [
        "titles['imdb_score'].isnull().sum()"
      ],
      "metadata": {
        "id": "RzfmsIuPJYFj"
      },
      "execution_count": null,
      "outputs": []
    },
    {
      "cell_type": "markdown",
      "source": [
        "# Clean imdb_votes"
      ],
      "metadata": {
        "id": "eR8l4_79g-Q6"
      }
    },
    {
      "cell_type": "code",
      "source": [
        "#Check column datatype\n",
        "titles['imdb_votes'].dtype"
      ],
      "metadata": {
        "id": "d6rYOnnjhEU5"
      },
      "execution_count": null,
      "outputs": []
    },
    {
      "cell_type": "code",
      "source": [
        "#Check column skewness\n",
        "titles['imdb_score'].skew()"
      ],
      "metadata": {
        "id": "R7_kg48DhaQA"
      },
      "execution_count": null,
      "outputs": []
    },
    {
      "cell_type": "code",
      "source": [
        "#Visualising column skewness through histplot\n",
        "plt.title('Visualization of imdb_votes (includes null)')\n",
        "plt.xscale(\"log\")\n",
        "sns.histplot(data = titles, x = 'imdb_votes', kde = True)\n"
      ],
      "metadata": {
        "id": "56C0-lB4jibR"
      },
      "execution_count": null,
      "outputs": []
    },
    {
      "cell_type": "code",
      "source": [
        "#Column is normally skewed, so we fill the values with mean\n",
        "titles['imdb_votes'] = titles['imdb_votes'].fillna(titles.groupby('type')['imdb_votes'].transform('mean'))"
      ],
      "metadata": {
        "id": "eOkr6Rfhk-Jv"
      },
      "execution_count": null,
      "outputs": []
    },
    {
      "cell_type": "code",
      "source": [
        "titles['imdb_votes'].isnull().sum()"
      ],
      "metadata": {
        "id": "O2CdCvNMmIoa"
      },
      "execution_count": null,
      "outputs": []
    },
    {
      "cell_type": "code",
      "source": [
        "#Since votes cannot be in fraction, we will convert this column datatype to int\n",
        "titles['imdb_votes'] = titles['imdb_votes'].astype(int)"
      ],
      "metadata": {
        "id": "g7VxRdvGhqxS"
      },
      "execution_count": null,
      "outputs": []
    },
    {
      "cell_type": "markdown",
      "source": [
        "# Clean tmdb_popularity"
      ],
      "metadata": {
        "id": "2cODfYwOql6Z"
      }
    },
    {
      "cell_type": "code",
      "source": [
        "titles['tmdb_popularity'].dtype"
      ],
      "metadata": {
        "id": "Oko3I_pbqpt5"
      },
      "execution_count": null,
      "outputs": []
    },
    {
      "cell_type": "code",
      "source": [
        "#Check column skewness\n",
        "titles['tmdb_popularity'].skew()"
      ],
      "metadata": {
        "id": "4kKKdkCbq2QL"
      },
      "execution_count": null,
      "outputs": []
    },
    {
      "cell_type": "code",
      "source": [
        "#The column values are right skewed by a large margin\n",
        "#Visualising it through a histplot\n",
        "\n",
        "plt.title('Visualization of tmdb_popularity (includes Null)')\n",
        "plt.xscale(\"symlog\") #Symmetric log scale to visualize wide range of skewed data\n",
        "sns.histplot(data = titles, x = 'tmdb_popularity', kde = True)"
      ],
      "metadata": {
        "id": "ay7LVzxgq8Ol"
      },
      "execution_count": null,
      "outputs": []
    },
    {
      "cell_type": "code",
      "source": [
        "titles['tmdb_popularity'].isnull().sum()"
      ],
      "metadata": {
        "id": "TRf8mpPltag_"
      },
      "execution_count": null,
      "outputs": []
    },
    {
      "cell_type": "code",
      "source": [
        "#Since the column is right skewed\n",
        "#We will fill the null values with median within each type group\n",
        "\n",
        "titles['tmdb_popularity'] = titles['tmdb_popularity'].fillna(titles.groupby('type')['tmdb_popularity'].transform('median'))"
      ],
      "metadata": {
        "id": "xpQFELi9td2I"
      },
      "execution_count": null,
      "outputs": []
    },
    {
      "cell_type": "code",
      "source": [
        "#After cleaning null values\n",
        "print(titles['tmdb_popularity'].isnull().sum())\n",
        "print('-----------------')\n",
        "print('tmdb_popularity values after processing null values')\n",
        "print(titles['tmdb_popularity'].head(10))"
      ],
      "metadata": {
        "id": "bhhQ44Ogt6PP"
      },
      "execution_count": null,
      "outputs": []
    },
    {
      "cell_type": "markdown",
      "source": [
        "# Clean tmdb_score"
      ],
      "metadata": {
        "id": "FNE-wc2UwT1D"
      }
    },
    {
      "cell_type": "code",
      "source": [
        "titles['tmdb_score'].isnull().sum()"
      ],
      "metadata": {
        "id": "yP2Hlc5Uwnjc"
      },
      "execution_count": null,
      "outputs": []
    },
    {
      "cell_type": "code",
      "source": [
        "#Find skewness of the tmdb_score column\n",
        "titles['tmdb_score'].skew()"
      ],
      "metadata": {
        "id": "gl40lmbG5hgF"
      },
      "execution_count": null,
      "outputs": []
    },
    {
      "cell_type": "code",
      "source": [
        "#Visualising skewness through histplot\n",
        "plt.title(\"Visualising tmdb_score (Includes Null)\")\n",
        "sns.histplot(data = titles, x ='tmdb_score', kde = True)"
      ],
      "metadata": {
        "id": "D7oe9dEI5q6n"
      },
      "execution_count": null,
      "outputs": []
    },
    {
      "cell_type": "code",
      "source": [
        "#Tmdb_score is normally skewed so we replace the null values with mean based on type\n",
        "titles['tmdb_score'] = titles['tmdb_score'].fillna(titles.groupby('type')['tmdb_score'].transform('mean'))"
      ],
      "metadata": {
        "id": "_mflprmP6IWm"
      },
      "execution_count": null,
      "outputs": []
    },
    {
      "cell_type": "code",
      "source": [
        "titles['tmdb_score'].isnull().sum()"
      ],
      "metadata": {
        "id": "ZVhbkHHuCTB0"
      },
      "execution_count": null,
      "outputs": []
    },
    {
      "cell_type": "code",
      "source": [
        "titles.info()"
      ],
      "metadata": {
        "id": "phiYL-BXCkv_"
      },
      "execution_count": null,
      "outputs": []
    },
    {
      "cell_type": "markdown",
      "source": [
        "# Preprocess Credits Dataset"
      ],
      "metadata": {
        "id": "SLLDts8wfrxo"
      }
    },
    {
      "cell_type": "markdown",
      "source": [
        "## Clean Character Column"
      ],
      "metadata": {
        "id": "81WcjCg5i91T"
      }
    },
    {
      "cell_type": "code",
      "source": [
        "credits.isnull().sum()"
      ],
      "metadata": {
        "id": "F62svYLXjA0f"
      },
      "execution_count": null,
      "outputs": []
    },
    {
      "cell_type": "code",
      "source": [
        "# Filling the null character values with Unknown\n",
        "credits['character'] = credits['character'].fillna('Unknown')"
      ],
      "metadata": {
        "id": "va8R5oywjJ0y"
      },
      "execution_count": null,
      "outputs": []
    },
    {
      "cell_type": "code",
      "source": [
        "titles.isnull().sum()"
      ],
      "metadata": {
        "id": "VAFZq0gWrBrC"
      },
      "execution_count": null,
      "outputs": []
    },
    {
      "cell_type": "code",
      "source": [
        "credits.isnull().sum()"
      ],
      "metadata": {
        "id": "npTdaRR2rFgR"
      },
      "execution_count": null,
      "outputs": []
    },
    {
      "cell_type": "markdown",
      "source": [
        "# Merging Titles and Credits Dataset on common 'id' column"
      ],
      "metadata": {
        "id": "2p-DC53coAAf"
      }
    },
    {
      "cell_type": "code",
      "source": [
        "titles.head()"
      ],
      "metadata": {
        "id": "5pPSuGk_oH92"
      },
      "execution_count": null,
      "outputs": []
    },
    {
      "cell_type": "code",
      "source": [
        "credits.head()"
      ],
      "metadata": {
        "id": "h5Dmw_FKoMYU"
      },
      "execution_count": null,
      "outputs": []
    },
    {
      "cell_type": "code",
      "source": [
        "#Now that both the dataset is clean, we can merge them on common 'id' column for final analysis and visualization\n",
        "#We will merge on Left Outer Join, keeping all the values from titles dataset and matching values from credits dataset\n",
        "\n",
        "ct_dataset = pd.merge(titles, credits, how = 'left', on = 'id')"
      ],
      "metadata": {
        "id": "fuoUH-lHoTM1"
      },
      "execution_count": null,
      "outputs": []
    },
    {
      "cell_type": "code",
      "source": [
        "ct_dataset.shape"
      ],
      "metadata": {
        "id": "ZlMVm9FrsMyL"
      },
      "execution_count": null,
      "outputs": []
    },
    {
      "cell_type": "code",
      "source": [
        "#First look of merged dataset\n",
        "\n",
        "ct_dataset.head()"
      ],
      "metadata": {
        "id": "BIK_9l2kpYbi"
      },
      "execution_count": null,
      "outputs": []
    },
    {
      "cell_type": "code",
      "source": [
        "# Checking for any null values after merging\n",
        "ct_dataset.isnull().sum()"
      ],
      "metadata": {
        "id": "quTCLecopyh7"
      },
      "execution_count": null,
      "outputs": []
    },
    {
      "cell_type": "code",
      "source": [
        "ct_dataset[\"release_year\"].dtype"
      ],
      "metadata": {
        "id": "mNSklqIdgzGd"
      },
      "execution_count": null,
      "outputs": []
    },
    {
      "cell_type": "code",
      "source": [
        "# First look at the null data\n",
        "\n",
        "ct_dataset[ct_dataset['person_id'].isnull() & ct_dataset['name'].isnull() & ct_dataset['character'].isnull() & ct_dataset['role'].isnull()]"
      ],
      "metadata": {
        "id": "6m_Zz43uuCx6"
      },
      "execution_count": null,
      "outputs": []
    },
    {
      "cell_type": "code",
      "source": [
        "# From this data we can figure out that several other columns have values such as 'Unknown' or mean / median processed values\n",
        "# Narrowing the data based on these metrics to possibly drop from the table\n",
        "temp = ct_dataset[ct_dataset['person_id'].isnull() & ct_dataset['name'].isnull() & ct_dataset['character'].isnull() & ct_dataset['role'].isnull()]\n",
        "temp[(temp['age_certification'] == 'Unknown')]"
      ],
      "metadata": {
        "id": "OkbDl6K7vhYk"
      },
      "execution_count": null,
      "outputs": []
    },
    {
      "cell_type": "code",
      "source": [
        "# Checking if there are any duplicate values in the merged dataset\n",
        "\n",
        "ct_dataset.duplicated().sum()"
      ],
      "metadata": {
        "id": "zq4wMLtpzCBb"
      },
      "execution_count": null,
      "outputs": []
    },
    {
      "cell_type": "code",
      "source": [
        "# Removing rows where most values are NAN and other columns are 'Unknown'\n",
        "rows = temp[(temp['age_certification'] == 'Unknown')].index\n",
        "ct_dataset.drop(index = rows, inplace = True)"
      ],
      "metadata": {
        "id": "ax36gVeizROE"
      },
      "execution_count": null,
      "outputs": []
    },
    {
      "cell_type": "markdown",
      "source": [
        "### Filling Null values in merged dataset with 'Unknown' since these are categorical data"
      ],
      "metadata": {
        "id": "CDGXwUmwz4Tq"
      }
    },
    {
      "cell_type": "code",
      "source": [
        "# Final processing\n",
        "# Applying directly to all the null column values\n",
        "\n",
        "df = ct_dataset.fillna('Unknown')"
      ],
      "metadata": {
        "id": "7yHICXOV0CnH"
      },
      "execution_count": null,
      "outputs": []
    },
    {
      "cell_type": "code",
      "source": [
        "\n",
        "# Last check for any null values\n",
        "df.isnull().sum()"
      ],
      "metadata": {
        "id": "GsZI_ahy0V9W"
      },
      "execution_count": null,
      "outputs": []
    },
    {
      "cell_type": "markdown",
      "source": [
        "**Remove Outliers**"
      ],
      "metadata": {
        "id": "OBHS0PiAkuZm"
      }
    },
    {
      "cell_type": "code",
      "source": [
        "#Outlier visualisation code using Box Plot\n",
        "import seaborn as sns\n",
        "import matplotlib.pyplot as plt\n",
        "import pandas as pd\n",
        "\n",
        "\n",
        "# Get numeric columns\n",
        "numeric_cols = df.select_dtypes(include='number').columns.tolist()\n",
        "num_cols = len(numeric_cols)\n",
        "\n",
        "# Compute number of rows needed, 3 plots per row\n",
        "n_cols_per_row = 3\n",
        "n_rows = (num_cols + n_cols_per_row - 1) // n_cols_per_row\n",
        "\n",
        "# Create subplots grid\n",
        "fig, axes = plt.subplots(n_rows, n_cols_per_row, figsize=(6 * n_cols_per_row, 4 * n_rows), squeeze=False)\n",
        "\n",
        "# Flatten axes for easy indexing\n",
        "axes_flat = axes.flatten()\n",
        "\n",
        "# Set Seaborn style\n",
        "sns.set(style=\"whitegrid\")\n",
        "\n",
        "# Use a color palette\n",
        "colors = sns.color_palette(\"Set2\", num_cols)  # Enough colors for all plots\n",
        "\n",
        "for idx, col in enumerate(numeric_cols):\n",
        "    ax = axes_flat[idx]\n",
        "    sns.boxplot(\n",
        "        x=df[col],\n",
        "        orient='h',\n",
        "        ax=ax,\n",
        "        width=0.6,\n",
        "        whis=1.5,\n",
        "        fliersize=5,\n",
        "        linewidth=1.2,\n",
        "        color=colors[idx]  # Use color instead of palette to avoid warning\n",
        "    )\n",
        "    ax.set_title(col, fontsize=12)\n",
        "    ax.set_yticks([])         # Hide y-axis ticks\n",
        "    sns.despine(ax=ax, left=True)\n",
        "\n",
        "# Turn off unused subplots, if any\n",
        "for idx in range(num_cols, len(axes_flat)):\n",
        "    fig.delaxes(axes_flat[idx])\n",
        "\n",
        "plt.tight_layout(pad=3)\n",
        "plt.show()"
      ],
      "metadata": {
        "id": "Y0ADy-NOkxxW"
      },
      "execution_count": null,
      "outputs": []
    },
    {
      "cell_type": "code",
      "source": [],
      "metadata": {
        "id": "jK_LqG-c5ZaS"
      },
      "execution_count": null,
      "outputs": []
    },
    {
      "cell_type": "code",
      "source": [
        "#Outlier Removal code based on IQR\n",
        "#MARK\n",
        "import pandas as pd\n",
        "\n",
        "def remove_outliers_iqr(df):\n",
        "    df_clean = df.copy()\n",
        "    num_cols = df_clean.select_dtypes(include='number').columns\n",
        "\n",
        "    for col in num_cols:\n",
        "        Q1 = df_clean[col].quantile(0.25)\n",
        "        Q3 = df_clean[col].quantile(0.75)\n",
        "        IQR = Q3 - Q1\n",
        "        lower_bound = Q1 - 1.5 * IQR\n",
        "        upper_bound = Q3 + 1.5 * IQR\n",
        "\n",
        "        # Keep only rows within bounds\n",
        "        df_clean = df_clean[(df_clean[col] >= lower_bound) & (df_clean[col] <= upper_bound)]\n",
        "\n",
        "    return df_clean\n",
        "\n",
        "# Apply function\n",
        "df_cleaned = remove_outliers_iqr(df)\n",
        "\n",
        "\n",
        "print(\"Original shape:\", df.shape)\n",
        "df = remove_outliers_iqr(df)"
      ],
      "metadata": {
        "id": "IRgLhlyxk2em"
      },
      "execution_count": null,
      "outputs": []
    },
    {
      "cell_type": "code",
      "source": [
        "#Box plot Visualization after removal of Outliers\n",
        "\n",
        "import matplotlib.pyplot as plt\n",
        "import seaborn as sns\n",
        "import numpy as np\n",
        "\n",
        "\n",
        "\n",
        "# Select numeric columns\n",
        "num_cols = df.select_dtypes(include=np.number).columns.tolist()\n",
        "\n",
        "# Define subplot layout: 3 plots per row\n",
        "n_cols = 3\n",
        "n_rows = int(np.ceil(len(num_cols) / n_cols))\n",
        "\n",
        "# Seaborn style and color palette\n",
        "sns.set(style=\"whitegrid\")\n",
        "colors = sns.color_palette(\"Set2\", len(num_cols))\n",
        "\n",
        "# Create subplots\n",
        "fig, axes = plt.subplots(n_rows, n_cols, figsize=(6 * n_cols, 4 * n_rows))\n",
        "axes = axes.flatten()  # Flatten in case of multiple rows\n",
        "\n",
        "# Plot each numeric column as horizontal boxplot\n",
        "for i, col in enumerate(num_cols):\n",
        "    sns.boxplot(x=df[col], ax=axes[i], color=colors[i], orient='h')\n",
        "    axes[i].set_title(f'Boxplot of {col}', fontsize=12)\n",
        "    axes[i].set_xlabel('')\n",
        "    axes[i].set_ylabel('')\n",
        "\n",
        "# Remove any unused subplots\n",
        "for j in range(i + 1, len(axes)):\n",
        "    fig.delaxes(axes[j])\n",
        "\n",
        "plt.tight_layout(pad=3)  # Good spacing between subplots\n",
        "plt.show()"
      ],
      "metadata": {
        "id": "IIqgnKsZk7KM"
      },
      "execution_count": null,
      "outputs": []
    },
    {
      "cell_type": "markdown",
      "source": [
        "### What all manipulations have you done and insights you found?"
      ],
      "metadata": {
        "id": "MSa1f5Uengrz"
      }
    },
    {
      "cell_type": "markdown",
      "source": [
        "🛠️ Data Manipulations Performed\n",
        "\n",
        "To ensure the dataset was ready for analysis, several data cleaning and transformation steps were performed:\n",
        "\n",
        "🔗 Merging Datasets\n",
        "\n",
        "Combined the titles dataset (titles.csv) and credits dataset (credits.csv) on the common key (id).\n",
        "\n",
        "Resulted in a consolidated dataframe (df) containing both title-level metadata and cast/crew details.\n",
        "\n",
        "🧹 Handling Missing Values\n",
        "\n",
        "Removed duplicate entries.\n",
        "\n",
        "Imputed or dropped missing values for fields like description, runtime, age certification, and ratings (imdb_score, tmdb_score).\n",
        "\n",
        "📉 Outlier Treatment\n",
        "\n",
        "Identified and removed outliers in runtime, ratings, and popularity scores using the IQR method.\n",
        "\n",
        "Ensured unrealistic entries (e.g., extremely high runtimes) were corrected or excluded.\n",
        "\n",
        "🔄 Data Standardization\n",
        "\n",
        "Normalized categorical variables like genres, production countries, and age certification.\n",
        "\n",
        "Set id as a unique index where appropriate.\n",
        "\n",
        "🧠 Feature Engineering\n",
        "\n",
        "Derived year-wise distributions of titles.\n",
        "\n",
        "Classified content into Movies vs. TV Shows.\n",
        "\n",
        "Counted actor/director frequency to study cast/crew prominence.\n",
        "\n",
        "📊 Visualization & EDA\n",
        "\n",
        "Created box plots, bar plots, violin plots, treemaps, bubble plots, heatmaps, pie/donut charts, and correlation plots using Seaborn and Plotly for interactivity.\n",
        "\n",
        "🔍 Insights Found\n",
        "🎬 Content Composition\n",
        "\n",
        "Amazon Prime hosts more movies than TV shows.\n",
        "\n",
        "Certain genres (Drama, Comedy, Action) dominate the catalog, while niche genres are less represented.\n",
        "\n",
        "📈 Trends Over Time\n",
        "\n",
        "Significant growth in content release after 2010, showing Prime’s rapid expansion.\n",
        "\n",
        "Recent years show diversification in genres and international productions.\n",
        "\n",
        "🌍 Regional Distribution\n",
        "\n",
        "Majority of titles are produced in the United States, but strong representation also comes from India, UK, and Canada.\n",
        "\n",
        "⏱️ Runtime Analysis\n",
        "\n",
        "Movies generally fall within the 90–120 minute range.\n",
        "\n",
        "Outliers were present (very short or very long movies), which were filtered during cleaning.\n",
        "\n",
        "⭐ Audience Ratings & Popularity\n",
        "\n",
        "High IMDb/TMDB ratings correlate with higher popularity scores.\n",
        "\n",
        "A few low-rated titles still have high popularity, suggesting marketing or trending factors.\n",
        "\n",
        "🔞 Age Certification\n",
        "\n",
        "A significant proportion of content is rated 18+ or PG-13, highlighting Prime’s focus on adult and teen audiences.\n",
        "\n",
        "🎭 Cast & Crew Insights\n",
        "\n",
        "Frequent actors and directors were identified (through credits dataset).\n",
        "\n",
        "Certain directors and actors are repeatedly associated with highly-rated content."
      ],
      "metadata": {
        "id": "LbyXE7I1olp8"
      }
    },
    {
      "cell_type": "code",
      "source": [
        "# Save DataFrame as CSV\n",
        "df.to_csv('mydata.csv', index=False)"
      ],
      "metadata": {
        "id": "XYWHQUD9svgD"
      },
      "execution_count": null,
      "outputs": []
    },
    {
      "cell_type": "markdown",
      "source": [
        "## ***4. Data Vizualization, Storytelling & Experimenting with charts : Understand the relationships between variables***"
      ],
      "metadata": {
        "id": "GF8Ens_Soomf"
      }
    },
    {
      "cell_type": "markdown",
      "source": [
        "## Chart - 1 :Histogram\n",
        "## Univatiate Analysis"
      ],
      "metadata": {
        "id": "EtRU3OhPZuK2"
      }
    },
    {
      "cell_type": "code",
      "source": [
        "# Histogram visualization code\n",
        "\n",
        "import pandas as pd\n",
        "import seaborn as sns\n",
        "import matplotlib.pyplot as plt\n",
        "import math\n",
        "import warnings\n",
        "\n",
        "# Suppress warnings\n",
        "warnings.filterwarnings(\"ignore\", category=UserWarning)\n",
        "\n",
        "# Seaborn style\n",
        "sns.set_style(\"whitegrid\")\n",
        "\n",
        "numeric_cols = ['release_year', 'runtime', 'imdb_score', 'tmdb_score']\n",
        "\n",
        "# Choose a categorical column as hue\n",
        "hue_col = 'type'  # change to any meaningful categorical column in your dataset\n",
        "\n",
        "# Determine plots per row for better visibility\n",
        "plots_per_row = 2\n",
        "n_rows = math.ceil(len(numeric_cols) / plots_per_row)\n",
        "plt.figure(figsize=(16, 6 * n_rows))\n",
        "\n",
        "for idx, col in enumerate(numeric_cols):\n",
        "    plt.subplot(n_rows, plots_per_row, idx + 1)\n",
        "\n",
        "    # Dynamic palette for hue\n",
        "    n_hue_levels = df[hue_col].nunique()\n",
        "    palette = sns.color_palette(\"Set2\", n_hue_levels)\n",
        "\n",
        "    sns.histplot(\n",
        "        data=df,\n",
        "        x=col,\n",
        "        hue=hue_col,\n",
        "        kde=True,\n",
        "        bins=30,\n",
        "        palette=palette,\n",
        "        alpha=0.7\n",
        "    )\n",
        "\n",
        "    plt.xlabel(col)\n",
        "    plt.ylabel('Count')\n",
        "    plt.title(f'Histogram of {col} by {hue_col}', fontsize=14, weight='bold')\n",
        "\n",
        "plt.tight_layout()\n",
        "plt.show()"
      ],
      "metadata": {
        "id": "-HcVJIXrqkQI"
      },
      "execution_count": null,
      "outputs": []
    },
    {
      "cell_type": "markdown",
      "source": [
        "### **1. Why did you pick the specific chart?**"
      ],
      "metadata": {
        "id": "K5QZ13OEpz2H"
      }
    },
    {
      "cell_type": "markdown",
      "source": [
        "**Histograms reveal distributions clearly**\n",
        "\n",
        "\n",
        "---\n",
        "\n",
        "\n",
        "Histograms split numerical data into bins and show how frequently values occur in each range. This makes it easy to see patterns such as skewness, symmetry, or multimodality.\n",
        "\n",
        "For example, imdb_score or runtime may not be uniformly distributed, and histograms reveal that directly.\n",
        "\n",
        "**KDE (Kernel Density Estimate) adds smooth insight**\n",
        "\n",
        "\n",
        "---\n",
        "\n",
        "\n",
        "KDE overlays a smooth curve on the histogram. It helps see the underlying probability distribution, which is particularly useful for large datasets (like ours with 87k rows).Peaks, valleys, and modes are easier to identify than with bars alone.\n",
        "\n",
        "**Hue shows categorical separation**\n",
        "\n",
        "\n",
        "---\n",
        "\n",
        "\n",
        "Using hue (like type) allows comparison of distributions across categories.\n",
        "For instance, comparing runtime for Movies vs. TV Shows in one plot is immediate and visual.\n",
        "Without hue, we would need separate plots for each category, which is less efficient.\n"
      ],
      "metadata": {
        "id": "XESiWehPqBRc"
      }
    },
    {
      "cell_type": "markdown",
      "source": [
        "### **2. What is/are the insight(s) found from the chart?**"
      ],
      "metadata": {
        "id": "lQ7QKXXCp7Bj"
      }
    },
    {
      "cell_type": "markdown",
      "source": [
        "**IMDb Score (imdb_score)**\n",
        "\n",
        "\n",
        "---\n",
        "\n",
        "\n",
        "Most titles are rated 5–7 ⭐, showing generally good quality.\n",
        "Very few extremely low (<4) or very high (9–10) ratings 😮.\n",
        "Peak around 6 👍, indicating most content is above average.\n",
        "Movies vs TV shows (hue) may show slight differences.\n",
        "\n",
        "**Runtime (runtime)**\n",
        "\n",
        "\n",
        "---\n",
        "\n",
        "\n",
        "Two peaks:\n",
        "\n",
        "Short runtimes (TV shows 📺)\n",
        "\n",
        "Longer runtimes (Movies 🎬)\n",
        "\n",
        "Hue shows TV shows tend to be shorter, movies longer ⏳.\n",
        "\n",
        "**TMDb Score (tmdb_score)**\n",
        "\n",
        "\n",
        "---\n",
        "\n",
        "\n",
        "Similar to IMDb scores, clustering around 6–7 🎯.\n",
        "Shows content quality is generally good, few extreme scores 😅.\n",
        "\n",
        "**Release Year (release_year)**\n",
        "\n",
        "\n",
        "---\n",
        "\n",
        "\n",
        "Histogram shows production trends over time ⏰.\n",
        "Peaks indicate years with more content created 📈.\n",
        "Hue reveals whether Movies or TV shows dominated those years.\n",
        "\n",
        "**Overall Insights**\n",
        "\n",
        "\n",
        "---\n",
        "\n",
        "\n",
        "1) Most content is well-rated 👍\n",
        "\n",
        "2) Runtime and votes are skewed, showing most content is shorter and less voted ⏳.\n",
        "\n",
        "3) Movies vs TV shows differ in runtime, votes, and scores 📺🎬.\n",
        "\n",
        "4) Popularity is concentrated in a few hit titles 🌟.\n",
        "\n",
        "5) Production trends show booms in certain years ⏰."
      ],
      "metadata": {
        "id": "C_j1G7yiqdRP"
      }
    },
    {
      "cell_type": "markdown",
      "source": [
        "## **3. Will the gained insights help creating a positive business impact?**\n",
        "*Are there any insights that lead to negative growth? Justify with specific reason.*"
      ],
      "metadata": {
        "id": "448CDAPjqfQr"
      }
    },
    {
      "cell_type": "markdown",
      "source": [
        "### Positive Growth\n",
        "\n",
        "**Understanding Ratings (IMDb/TMDb scores)** ⭐\n",
        "\n",
        "\n",
        "---\n",
        "\n",
        "\n",
        "Most content is rated 6–8, meaning viewers generally like it 👍.\n",
        "\n",
        "- **Business impact:** Focus marketing on titles with high scores to attract more viewers. You could also analyze what makes top-rated content successful and replicate it.\n",
        "\n",
        "**Runtime Trends ⏳**\n",
        "\n",
        "\n",
        "---\n",
        "\n",
        "\n",
        "Movies are longer 🎬, TV shows shorter 📺.\n",
        "\n",
        "- **Business impact:** Helps content planning, knowing audience prefers shorter formats for TV and longer for movies allows efficient resource allocation.\n",
        "\n",
        "**Temporal Trends (Release Year) ⏰**\n",
        "\n",
        "\n",
        "---\n",
        "\n",
        "\n",
        "Peaks in certain years show production booms.\n",
        "\n",
        "- **Business impact:** Planning release schedules around high engagement periods can maximize reach and revenue. Historical trends help forecast future production strategies.\n",
        "\n",
        "\n",
        "---\n",
        "\n",
        "\n",
        "\n",
        "###Potential negative growth\n",
        "\n",
        "**Heavy Reliance on High Ratings (IMDb/TMDb) ⭐**\n",
        "\n",
        "\n",
        "---\n",
        "\n",
        "\n",
        "- **Observation:** Most content clusters around moderate-to-high ratings (6–8).\n",
        "\n",
        "- **Negative growth risk:** Overconfidence in existing content quality could ignore underperforming or niche segments. New content in unexplored genres or formats may be neglected.\n",
        "\n",
        "- **Justification:** Focusing only on “safe” content may stifle innovation and audience diversification.\n",
        "\n",
        "**Bimodal Runtime Trends ⏳**\n",
        "\n",
        "\n",
        "---\n",
        "\n",
        "\n",
        "- **Observation:** TV shows are short, movies are long.\n",
        "\n",
        "- **Negative growth risk:**\n",
        "If the platform produces only one type (e.g., long movies), it may miss the binge-watching audience that prefers shorter content.\n",
        "\n",
        "- **Justification:** Not catering to audience format preferences can reduce engagement and subscriptions."
      ],
      "metadata": {
        "id": "3cspy4FjqxJW"
      }
    },
    {
      "cell_type": "markdown",
      "source": [
        "## Chart - 2  Bar plot\n",
        "## Univatiate Analysis"
      ],
      "metadata": {
        "id": "krHWtKhVZ2-1"
      }
    },
    {
      "cell_type": "code",
      "source": [
        "# Bar plot visualization code\n",
        "import pandas as pd\n",
        "import seaborn as sns\n",
        "import matplotlib.pyplot as plt\n",
        "import math\n",
        "import warnings\n",
        "\n",
        "# Suppress UserWarnings (like palette mismatch)\n",
        "warnings.filterwarnings(\"ignore\", category=UserWarning)\n",
        "\n",
        "# Seaborn style\n",
        "sns.set_style(\"whitegrid\")\n",
        "\n",
        "# Parameters\n",
        "MAX_UNIQUE = 30   # Threshold to show top 20\n",
        "TOP_N = 10        # Number of top categories to show if > MAX_UNIQUE\n",
        "n_cols_per_row = 2\n",
        "\n",
        "categorical_cols = ['genres', 'production_countries', 'name', 'character']\n",
        "\n",
        "n_rows = math.ceil(len(categorical_cols) / n_cols_per_row)\n",
        "plt.figure(figsize=(20, 5 * n_rows))\n",
        "\n",
        "for idx, col in enumerate(categorical_cols):\n",
        "    plt.subplot(n_rows, n_cols_per_row, idx + 1)\n",
        "\n",
        "    hue_col = 'type'\n",
        "\n",
        "    # Handle columns with too many unique values\n",
        "    if df[col].nunique() > MAX_UNIQUE:\n",
        "        top_categories = df[col].value_counts().nlargest(TOP_N).index\n",
        "        plot_data = df[df[col].isin(top_categories) & (df[col] != 'Unknown')]\n",
        "    else:\n",
        "        plot_data = df[df[col]!= 'Unknown'].copy()\n",
        "\n",
        "    # Dynamically adjust palette length to match hue levels\n",
        "    n_hue_levels = plot_data[hue_col].nunique()\n",
        "    palette = sns.color_palette(\"Set2\", n_hue_levels)\n",
        "    sns.countplot(data=plot_data, x=col, hue=hue_col, palette=palette, order= plot_data[col].value_counts().index)\n",
        "    plt.legend(title=hue_col, loc='upper right')\n",
        "\n",
        "    plt.xticks(rotation=45, ha='right')\n",
        "    plt.xlabel('')\n",
        "    plt.ylabel('Count')\n",
        "    plt.title(f'{col}', fontsize=14, weight='bold')\n",
        "\n",
        "plt.tight_layout()\n",
        "plt.show()\n"
      ],
      "metadata": {
        "id": "YZ7im5G2rLH7"
      },
      "execution_count": null,
      "outputs": []
    },
    {
      "cell_type": "markdown",
      "source": [
        "## **1. Why did you pick the specific chart?**"
      ],
      "metadata": {
        "id": "t6dVpIINYklI"
      }
    },
    {
      "cell_type": "markdown",
      "source": [
        "**Show frequency of categories clearly 📊**\n",
        "\n",
        "\n",
        "---\n",
        "\n",
        "\n",
        "Bar plots display how many times each category appears.\n",
        "This is critical for understanding class imbalance, popular categories, or rare categories.\n",
        "\n",
        "> **Example:** If a “genre” column has 50% “Drama” and 5% “Horror,” a bar plot makes this immediately visible.\n",
        "\n",
        "\n",
        "\n",
        "**Works well with hue for comparisons 🌈**\n",
        "\n",
        "\n",
        "---\n",
        "\n",
        "\n",
        "By adding hue, we can compare subgroups within each category.\n",
        "\n",
        "> **Example:** “Movies vs TV shows” within each genre — we can see which type dominates.\n",
        "\n",
        "**Handles high-cardinality columns with top N 🎯**\n",
        "\n",
        "\n",
        "---\n",
        "\n",
        "\n",
        "For columns with too many unique values (like names, IDs), plotting all categories would be messy.\n",
        "Using top 20 categories keeps plots clean and interpretable.\n",
        "\n",
        "**Supports log scale for skewed data 📉**\n",
        "\n",
        "\n",
        "---\n",
        "\n",
        "\n",
        "Some categories may have very high counts compared to others.\n",
        "Applying log scaling makes the smaller categories visible without losing the big ones.\n",
        "\n",
        "**Subplots maximize readability 🖼️**\n",
        "\n",
        "\n",
        "---\n",
        "\n",
        "\n",
        "Using 2 or 3 plots per row ensures the plots are large enough to read while showing all relevant columns."
      ],
      "metadata": {
        "id": "5aaW0BYyYklI"
      }
    },
    {
      "cell_type": "markdown",
      "source": [
        "## **2. What is/are the insight(s) found from the chart?**"
      ],
      "metadata": {
        "id": "ijmpgYnKYklI"
      }
    },
    {
      "cell_type": "markdown",
      "source": [
        "**Movies Dominate Shows**\n",
        "\n",
        "\n",
        "---\n",
        "\n",
        "\n",
        "The dataset is heavily skewed toward movies across genres, actors, and roles.\n",
        "\n",
        "**Genres – Drama Leads Strongly**\n",
        "\n",
        "\n",
        "---\n",
        "\n",
        "\n",
        "Drama is the most common genre by a large margin, followed by comedy and documentaries.\n",
        "\n",
        "Multi-genre blends (Drama+Romance, Thriller+Drama, etc.) are also well-represented.\n",
        "\n",
        "**Production – US-Centric**\n",
        "\n",
        "\n",
        "---\n",
        "\n",
        "\n",
        "Nearly all productions are US-based (~48k), with India, UK, Canada, and France trailing far behind.\n",
        "\n",
        "Co-productions exist but are minimal in volume.\n",
        "\n",
        "**Actors & Characters – Classic & Generic**\n",
        "\n",
        "\n",
        "---\n",
        "\n",
        "\n",
        "Frequent actors are largely from classic Hollywood (e.g., Roy Rogers, Gene Autry).\n",
        "\n",
        "Character roles are often generic (Himself, Nurse, Sheriff, Waitress), pointing to many documentaries and background roles."
      ],
      "metadata": {
        "id": "PSx9atu2YklI"
      }
    },
    {
      "cell_type": "markdown",
      "source": [
        "## **3. Will the gained insights help creating a positive business impact?**\n",
        "*Are there any insights that lead to negative growth? Justify with specific reason.*"
      ],
      "metadata": {
        "id": "-JiQyfWJYklI"
      }
    },
    {
      "cell_type": "markdown",
      "source": [
        "### Positive Impact\n",
        "\n",
        "**Focus on high-demand categories 🌟**\n",
        "\n",
        "\n",
        "---\n",
        "\n",
        "\n",
        "\n",
        "*   **Observation:** The tallest bars indicate the most frequent or popular categories.\n",
        "*   **Business impact:** You can invest more in popular genres, regions, or product types to maximize ROI, engagement, or sales.\n",
        "\n",
        "\n",
        "\n",
        "\n",
        "\n",
        "\n",
        "**Explore underserved categories 🌱**\n",
        "\n",
        "\n",
        "---\n",
        "\n",
        "\n",
        "\n",
        "*   **Observation:** Short bars show underrepresented categories.\n",
        "*   **Business impact:** These represent growth opportunities. Investing in niche or emerging categories can capture untapped market segments.\n",
        "\n",
        "\n",
        "\n",
        "\n",
        "\n",
        "\n",
        "**Subgroup strategies with hue 🌈**\n",
        "\n",
        "---\n",
        "\n",
        "*   **Observation:** Hue comparisons reveal patterns within subgroups (e.g., Movies vs TV Shows).\n",
        "*   **Business impact:** Enables tailored strategies for different audiences, improving user satisfaction and retention.\n",
        "\n",
        "\n",
        "\n",
        "\n",
        "**Early detection of issues ⚠️**\n",
        "\n",
        "---\n",
        "\n",
        "*   **Observation:** Tiny or unexpected categories can indicate data inconsistencies.\n",
        "*   **Business impact:** Fixing data quality issues early prevents wrong business decisions based on flawed data.\n",
        "\n",
        "\n",
        "\n",
        "\n",
        "\n",
        "### Negative Impacts\n",
        "\n",
        "**Over-reliance on dominant categories ⚠️**\n",
        "\n",
        "---\n",
        "\n",
        "*   **Observation:** Some categories dominate the dataset (very tall bars), while others are rare.\n",
        "*   **Negative impact:** Focusing too much on the top categories may ignore emerging or niche markets. Competitors could capture these underserved segments, leading to missed growth opportunities.\n",
        "\n",
        "\n",
        "**Skewed subgroups with hue 🌈**\n",
        "\n",
        "---\n",
        "\n",
        "*   **Observation:** If a hue category (e.g., “TV Shows” within “Comedy”) is underrepresented, certain audience preferences may be neglected.\n",
        "*   **Negative impact:** Ignoring these subgroups can reduce customer satisfaction in specific segments, potentially causing churn or declining engagement.\n",
        "\n",
        "\n",
        "**High-cardinality categories with insufficient focus 🔍**\n",
        "\n",
        "---\n",
        "\n",
        "*   **Observation:** Columns with many unique values (e.g., production countries, creators) may have some categories barely represented.\n",
        "*   **Negative impact:** Without targeted strategies, these low-frequency categories may never gain traction, limiting expansion opportunities.\n",
        "\n",
        "\n",
        "**Hidden data quality issues 🛑**\n",
        "\n",
        "---\n",
        "\n",
        "*   **Observation:** Unexpected or empty categories appear as tiny bars.\n",
        "*   **Negative impact:** Poor data quality can mislead decision-making, causing investments in wrong areas, inefficiency, or reputational risk.\n",
        "\n",
        "\n",
        "**Overcrowded focus on niche categories without ROI 💸**\n",
        "\n",
        "---\n",
        "\n",
        "*   **Observation:** Some rare categories are small but tempting to invest in.\n",
        "*   **Negative impact:** Spending too much on very low-frequency categories may drain resources without sufficient return.\n",
        "\n",
        "\n"
      ],
      "metadata": {
        "id": "BcBbebzrYklV"
      }
    },
    {
      "cell_type": "markdown",
      "source": [
        "#### Chart - 3: Pie plot\n",
        "\n",
        "## Univariate Analysis"
      ],
      "metadata": {
        "id": "EM7whBJCYoAo"
      }
    },
    {
      "cell_type": "code",
      "source": [
        "# Chart - 3 visualization code\n",
        "#Pie plot visualization code\n",
        "# Pie chart visualization code\n",
        "import matplotlib.pyplot as plt\n",
        "import seaborn as sns\n",
        "import pandas as pd\n",
        "import math\n",
        "\n",
        "# Seaborn style\n",
        "sns.set_style(\"whitegrid\")\n",
        "\n",
        "# Thresholds\n",
        "max_unique_for_plot = 50      # skip columns with too many unique values\n",
        "top_categories = 15           # show top N categories in pie chart\n",
        "\n",
        "# Choose hue column (categorical with 2-8 unique values)\n",
        "hue_col = 'type'\n",
        "\n",
        "# Count total plots: For age_certification, we make 2 pie charts for each hue type\n",
        "total_plots = 2\n",
        "\n",
        "# Subplot layout: 2 per row\n",
        "n_cols_per_row = 2\n",
        "n_rows = math.ceil(total_plots / n_cols_per_row)\n",
        "fig, axes = plt.subplots(n_rows, n_cols_per_row, figsize=(10 * n_cols_per_row, 8 * n_rows))\n",
        "axes = axes.flatten()\n",
        "\n",
        "# Color palette\n",
        "colors = sns.color_palette(\"Set2\", top_categories)\n",
        "\n",
        "plot_idx = 0\n",
        "for hue_val in df[hue_col].unique():\n",
        "    data = df[df[hue_col] == hue_val]['age_certification'].value_counts().sort_values(ascending=False)\n",
        "\n",
        "    axes[plot_idx].pie(data, labels=data.index, autopct='%1.1f%%', startangle=140,\n",
        "                        colors=colors, shadow=False)\n",
        "    axes[plot_idx].set_title(f\"{col} distribution for {hue_col} = {hue_val}\",\n",
        "                              fontsize=13, fontweight='bold')\n",
        "    plot_idx += 1\n",
        "\n",
        "plt.tight_layout()\n",
        "plt.show()"
      ],
      "metadata": {
        "id": "t6GMdE67YoAp"
      },
      "execution_count": null,
      "outputs": []
    },
    {
      "cell_type": "markdown",
      "source": [
        "## **1. Why did you pick the specific chart?**"
      ],
      "metadata": {
        "id": "fge-S5ZAYoAp"
      }
    },
    {
      "cell_type": "markdown",
      "source": [
        "\n",
        "**Why Pie Charts Are Useful for This Dataset**  \n",
        "\n",
        "---  \n",
        "\n",
        "**Quick Comparison Across Categories 📊**  \n",
        "\n",
        "---  \n",
        "- With hue applied (when a small secondary categorical variable is available), we can compare distributions across subgroups without creating multiple separate charts.  \n",
        "\n",
        "**Top Categories Emphasis ✨**  \n",
        "\n",
        "---  \n",
        "- By limiting to top N categories (e.g., top 15), the charts focus on the most meaningful data and avoid clutter.  \n",
        "\n",
        "**Immediate Visual Impact 🎨**  \n",
        "\n",
        "---  \n",
        "- Pie charts provide an instant visual sense of dominance\n",
        "\n",
        "**Overall Insight**  \n",
        "\n",
        "---  \n",
        "- Pie charts make it easy to see proportions and categorical distributions at a glance.  \n",
        "- With careful handling (top categories, hue, clean labels), they are highly effective for your dataset 😎.\n"
      ],
      "metadata": {
        "id": "5dBItgRVYoAp"
      }
    },
    {
      "cell_type": "markdown",
      "source": [
        "## **2. What is/are the insight(s) found from the chart?**"
      ],
      "metadata": {
        "id": "85gYPyotYoAp"
      }
    },
    {
      "cell_type": "markdown",
      "source": [
        "**Type Distribution (Movies vs TV Shows) 🎬**  \n",
        "\n",
        "---  \n",
        "\n",
        "- Movies dominate the dataset, making up the majority of entries, while TV shows are fewer.  \n",
        "- Suggests that most of the content is movie-focused.  \n",
        "\n",
        "**Summary Insight**  \n",
        "\n",
        "---  \n",
        "\n",
        "- Most content is movies, focused on teen/adult ratings.  \n",
        "- Helps in targeting production, marketing, and audience strategies."
      ],
      "metadata": {
        "id": "4jstXR6OYoAp"
      }
    },
    {
      "cell_type": "markdown",
      "source": [
        "## **3. Will the gained insights help creating a positive business impact?**\n",
        "*Are there any insights that lead to negative growth? Justify with specific reason.*"
      ],
      "metadata": {
        "id": "RoGjAbkUYoAp"
      }
    },
    {
      "cell_type": "markdown",
      "source": [
        "### Positives  \n",
        "\n",
        "**Focus on Popular Content Types 🎬**  \n",
        "\n",
        "---  \n",
        "\n",
        "- **Observation:** Movies dominate the dataset.  \n",
        "- **Positive growth opportunity:** Investing in movie production or promotion will likely maximize audience engagement and revenue.  \n",
        "> ✅ Positive impact: Strategically producing or marketing content in these ratings can increase viewership and retention focused on teen/adult ratings.  \n",
        "\n",
        "\n",
        "\n",
        "### Negatives  \n",
        "\n",
        "**Over-reliance on Movies**  \n",
        "\n",
        "---  \n",
        "\n",
        "- **Observation:** TV shows are underrepresented.  \n",
        "- **Negative growth risk:** Neglecting TV content could limit audience engagement, especially for viewers who prefer series.  \n",
        "> ❌ Potential impact: May reduce overall platform engagement.  \n",
        "\n",
        "\n",
        "**Overall Insight**  \n",
        "\n",
        "---  \n",
        "\n",
        "> Focus on popular content types can maximize growth, but over-reliance on a few categories may pose risks to engagement and diversity."
      ],
      "metadata": {
        "id": "PPBqkK0EXgps"
      }
    },
    {
      "cell_type": "markdown",
      "source": [
        "#### Chart - 4 :Box plot\n",
        "\n",
        "## Univariate Analysis"
      ],
      "metadata": {
        "id": "4Of9eVA-YrdM"
      }
    },
    {
      "cell_type": "code",
      "source": [
        "#Box plot Visualization Code\n",
        "import matplotlib.pyplot as plt\n",
        "import seaborn as sns\n",
        "import numpy as np\n",
        "\n",
        "# Suppress warnings\n",
        "warnings.filterwarnings(\"ignore\", category=UserWarning)\n",
        "\n",
        "# Select numeric columns\n",
        "num_cols = ['imdb_votes', 'tmdb_popularity']\n",
        "\n",
        "# Define subplot layout: 3 plots per row\n",
        "n_cols = 2\n",
        "n_rows = int(np.ceil(len(num_cols) / n_cols))\n",
        "\n",
        "# Seaborn style and color palette\n",
        "sns.set(style=\"whitegrid\")\n",
        "colors = sns.color_palette(\"Set2\", len(num_cols))\n",
        "\n",
        "# Create subplots\n",
        "fig, axes = plt.subplots(n_rows, n_cols, figsize=(10 * n_cols, 4 * n_rows))\n",
        "axes = axes.flatten()  # Flatten in case of multiple rows\n",
        "\n",
        "# Plot each numeric column as horizontal boxplot\n",
        "for i, col in enumerate(num_cols):\n",
        "    sns.boxplot(x=df[col], ax=axes[i], color=colors[i], orient='h')\n",
        "    axes[i].set_title(f'Boxplot of {col}', fontsize=12)\n",
        "    axes[i].set_xlabel('')\n",
        "    axes[i].set_ylabel('')\n",
        "\n",
        "# Remove any unused subplots\n",
        "for j in range(i + 1, len(axes)):\n",
        "    fig.delaxes(axes[j])\n",
        "\n",
        "plt.tight_layout(pad=15)  # Good spacing between subplots\n",
        "plt.show()\n"
      ],
      "metadata": {
        "id": "irlUoxc8YrdO"
      },
      "execution_count": null,
      "outputs": []
    },
    {
      "cell_type": "markdown",
      "source": [
        "## **1. Why did you pick the specific chart?**"
      ],
      "metadata": {
        "id": "iky9q4vBYrdO"
      }
    },
    {
      "cell_type": "markdown",
      "source": [
        "Box plots are specifically designed for numeric/continuous data. They help summarize large datasets in a compact and visual way.\n",
        "\n",
        "- Show the distribution of data clearly (median, quartiles, range).\n",
        "\n",
        "- Reveal skewness in numeric features (e.g., imdb_votes may be highly skewed).\n",
        "\n",
        "- Highlight outliers such as extremely long movies or unusually high vote counts.\n",
        "\n",
        "- Enable comparisons across categories using hue or categorical axes (e.g., runtime of Movies vs. TV Shows).\n",
        "\n",
        "- Work well for multiple numeric columns when arranged in subplots, offering a cleaner comparison than histograms or line plots.\n",
        "\n",
        "Using box plots provides both clarity and efficiency, making them ideal for exploratory data analysis."
      ],
      "metadata": {
        "id": "aJRCwT6DYrdO"
      }
    },
    {
      "cell_type": "markdown",
      "source": [
        "## **2. What is/are the insight(s) found from the chart?**"
      ],
      "metadata": {
        "id": "F6T5p64dYrdO"
      }
    },
    {
      "cell_type": "markdown",
      "source": [
        "**Distribution of Numeric Columns**  \n",
        "\n",
        "---  \n",
        "\n",
        "**imdb_votes**  \n",
        "Most ratings cluster in the mid-to-high range. Some extremely low or high scores appear as outliers, highlighting highly unpopular or extremely well-rated content.  \n",
        "\n",
        "**tmdb_popularity**  \n",
        "Highly skewed distribution: a few titles get massive attention (outliers), while most get moderate votes/popularity.  \n",
        "\n",
        "**Skewness and Spread**  \n",
        "\n",
        "---  \n",
        "\n",
        "imdb_votes and tmdb_popularity are right-skewed, indicating most content has moderate attention, and few are extremely popular.  \n",
        "\n",
        "imdb_score might have a tighter spread, showing most content falls in a typical rating range.  \n",
        "\n",
        "\n",
        "\n"
      ],
      "metadata": {
        "id": "Xx8WAJvtYrdO"
      }
    },
    {
      "cell_type": "markdown",
      "source": [
        "## **3. Will the gained insights help creating a positive business impact?**\n",
        "*Are there any insights that lead to negative growth? Justify with specific reason.*"
      ],
      "metadata": {
        "id": "y-Ehk30pYrdP"
      }
    },
    {
      "cell_type": "markdown",
      "source": [
        "## **Positive Business Impact**\n",
        "\n",
        "Understanding Content Performance\n",
        "\n",
        "\n",
        "---\n",
        "\n",
        "\n",
        "IMDB/TMDB scores and votes show which content is most liked and engaged with.\n",
        "\n",
        "**Actionable insight**: Invest more in content types or genres that consistently receive high scores and popularity. ✅\n",
        "\n",
        "Outlier Identification\n",
        "\n",
        "\n",
        "---\n",
        "\n",
        "\n",
        "Extremely long or short content, or highly unpopular content, is visible as outliers.\n",
        "\n",
        "**Actionable insight**: Avoid producing extremely long content unless it’s proven to engage audiences; similarly, identify why some content fails to gain votes/popularity. ✅\n",
        "\n",
        "Skewed Popularity Metrics\n",
        "\n",
        "\n",
        "---\n",
        "\n",
        "\n",
        "tmdb_popularity are right-skewed, showing that a few titles dominate attention.\n",
        "\n",
        "**Actionable insight:** Strategically promote underperforming but high-quality content to balance audience engagement. ✅\n",
        "\n",
        "## **Negative Impact**\n",
        "\n",
        "Skewed Popularity Metrics\n",
        "\n",
        "\n",
        "---\n",
        "\n",
        "\n",
        "**Observation:** Columns like imdb_votes and tmdb_popularity are highly right-skewed.\n",
        "\n",
        "**Negative impact:** Most content gets low engagement while only a few titles dominate popularity.\n",
        "\n",
        "**Risk:** Relying on the same top-performing content repeatedly could lead to over-dependence on a few hits, leaving most content underperforming.\n",
        "\n",
        "Low Ratings\n",
        "\n",
        "\n",
        "---\n",
        "\n",
        "\n",
        "**Observation:** Outliers with very low imdb_score or tmdb_score appear in the box plots.\n",
        "\n",
        "**Negative impact:**\n",
        "\n",
        "Low-rated content can damage brand perception if such content is frequent. May reduce subscriber retention or discourage engagement.\n"
      ],
      "metadata": {
        "id": "jLNxxz7MYrdP"
      }
    },
    {
      "cell_type": "markdown",
      "source": [
        "#### Chart - 5: Scatter Plot\n",
        "## Bi-Variate Analysis ( IMDB Score Vs TMDB Score )"
      ],
      "metadata": {
        "id": "bamQiAODYuh1"
      }
    },
    {
      "cell_type": "code",
      "source": [
        "# Scatter Plot visualization code\n",
        "\n",
        "import pandas as pd\n",
        "import seaborn as sns\n",
        "import matplotlib.pyplot as plt\n",
        "\n",
        "\n",
        "# Suppress warnings\n",
        "warnings.filterwarnings(\"ignore\", category=UserWarning)\n",
        "\n",
        "# Seaborn style\n",
        "sns.set_style(\"whitegrid\")\n",
        "palette = [\"green\", \"orange\"]  # custom palette\n",
        "\n",
        "# Choose a hue column (categorical with few categories)\n",
        "hue_col = 'type'\n",
        "x_col = 'imdb_score'\n",
        "y_col = 'tmdb_score'\n",
        "\n",
        "sns.scatterplot(\n",
        "        data=df,\n",
        "        x=x_col,\n",
        "        y=y_col,\n",
        "        hue=hue_col,\n",
        "        palette=palette,\n",
        "        alpha=0.7,\n",
        "        edgecolor=\"black\",\n",
        "        s=40,\n",
        ")\n",
        "\n",
        "\n",
        "plt.title(f\"{x_col} vs {y_col}\" + (f\" by {hue_col}\"), fontsize=14, weight=\"bold\")\n",
        "plt.xlabel(x_col, fontsize=12)\n",
        "plt.ylabel(y_col, fontsize=12)\n",
        "\n",
        "plt.legend(title=hue_col, fontsize=9, title_fontsize=10, loc=\"best\", frameon=True)\n",
        "\n",
        "plt.show()"
      ],
      "metadata": {
        "id": "kuRf4wtuphqN"
      },
      "execution_count": null,
      "outputs": []
    },
    {
      "cell_type": "markdown",
      "source": [
        "## **1. Why did you pick the specific chart?**"
      ],
      "metadata": {
        "id": "bbFf2-_FphqN"
      }
    },
    {
      "cell_type": "markdown",
      "source": [
        "Scatter plots are the most effective way to visualize the relationship between two numeric variables (e.g., budget vs revenue, duration vs rating). They allow trends, clusters, and outliers to be seen clearly in two-dimensional space.\n",
        "\n",
        "- Detect correlations and patterns such as positive, negative, or no relationship. For example, if budget increases and revenue also increases, the plot shows an upward trend.\n",
        "\n",
        "- Highlight outliers like movies with unusually high revenue compared to the average.\n",
        "\n",
        "- Add a categorical column as hue (e.g., genre, type) to compare how groups behave in relation to numeric pairs.\n",
        "\n",
        "- Scale easily to many numeric column pairs, making them systematic tools for exploratory data analysis.\n",
        "\n",
        "- Scatter plots are chosen because they are the most informative for analyzing numeric relationships, while still allowing categorical insights through hue."
      ],
      "metadata": {
        "id": "loh7H2nzphqN"
      }
    },
    {
      "cell_type": "markdown",
      "source": [
        "## **2. What is/are the insight(s) found from the chart?**"
      ],
      "metadata": {
        "id": "_ouA3fa0phqN"
      }
    },
    {
      "cell_type": "markdown",
      "source": [
        "**imdb_score vs tmdb_score by type**\n",
        "\n",
        "\n",
        "---\n",
        "\n",
        "\n",
        "There is a positive correlation between IMDb scores and TMDB scores. Content rated highly on IMDb generally receives higher ratings on TMDB as well.\n",
        "\n",
        "Most titles cluster in the mid-to-high range, specifically between IMDb scores 5–8 and TMDB scores 5–7.5, showing that the majority of movies and shows fall in this typical band.\n",
        "\n",
        "**Movies vs Shows**\n",
        "\n",
        "- Movies dominate the dataset (green points far outnumber yellow).\n",
        "\n",
        "- Shows tend to cluster more consistently toward higher IMDb ratings (6–8), suggesting stronger audience approval for series compared to movies.\n",
        "\n",
        "**Outliers**\n",
        "\n",
        "- A few titles have very low IMDb scores (~3–4) but moderate TMDB ratings.\n",
        "\n",
        "- Some titles show the reverse: high IMDb scores (~8–9) but relatively lower TMDB ratings.\n",
        "\n",
        "**Overall**\n",
        "\n",
        "IMDb and TMDB scores are strongly aligned, most content sits in the 5–8 range, and while movies dominate in number, shows often achieve slightly stronger consistency in ratings."
      ],
      "metadata": {
        "id": "VECbqPI7phqN"
      }
    },
    {
      "cell_type": "markdown",
      "source": [
        "## **3. Will the gained insights help creating a positive business impact?**\n",
        "*Are there any insights that lead to negative growth? Justify with specific reason.*"
      ],
      "metadata": {
        "id": "Seke61FWphqN"
      }
    },
    {
      "cell_type": "markdown",
      "source": [
        "### Positives  \n",
        "\n",
        "**Risk Management ⚖️**  \n",
        "\n",
        "---  \n",
        "\n",
        "- **Observation:** Outlier analysis pinpoints projects with higher chances of failure (e.g., high budget but low audience interest).  \n",
        "- **Positive growth opportunity:** Helps avoid risky investments.  \n",
        "- **Justification:** Learning from past flops improves financial planning and reduces losses.  \n",
        "\n",
        "**Market Segmentation 🛒**  \n",
        "\n",
        "---  \n",
        "\n",
        "- **Observation:** Clustering in scatter plots reveals distinct market segments (indie films, blockbusters, streaming content).  \n",
        "- **Positive growth opportunity:** Enables targeted marketing and distribution strategies.  \n",
        "- **Justification:** Better segmentation drives audience engagement and revenue growth.  \n",
        "\n",
        "**Overall Insight**  \n",
        "\n",
        "- Scatter plots provide actionable insights for smarter investment, risk mitigation, and audience targeting.  \n",
        "- Applying these findings can improve profitability, reduce losses, and optimize content strategies.  \n",
        "\n",
        "---\n",
        "\n",
        "### Negatives  \n",
        "\n",
        "**Over investment Risk 🚨**  \n",
        "\n",
        "---  \n",
        "\n",
        "- **Observation:** Very high-budget movies don’t always generate proportional revenue.  \n",
        "- **Negative growth risk:** Excessive spending may reduce profitability.  \n",
        "- **Justification:** Over-investment in large projects can harm ROI and limit overall growth.  \n",
        "\n",
        "**Genre Saturation 📉**  \n",
        "\n",
        "---  \n",
        "\n",
        "- **Observation:** Certain genres consistently show low or stagnant performance.  \n",
        "- **Negative growth risk:** Heavy investment in underperforming genres drains resources.  \n",
        "- **Justification:** Ignoring performance trends can reduce profitability and market relevance.  \n",
        "\n",
        "**Inefficient Resource Allocation 🔄**  \n",
        "\n",
        "---  \n",
        "\n",
        "- **Observation:** Smaller projects may outperform big-budget productions.  \n",
        "- **Negative growth risk:** Over-prioritizing large budgets could miss opportunities in mid/low-budget hits.  \n",
        "- **Justification:** Misallocation limits returns and reduces portfolio efficiency.  \n",
        "\n",
        "**Audience Shift Trends ⏩**  \n",
        "\n",
        "---  \n",
        "\n",
        "- **Observation:** Declining trends in certain categories (e.g., theatrical releases vs streaming).  \n",
        "- **Negative growth risk:** Ignoring changing audience preferences can reduce competitiveness.  \n",
        "- **Justification:** Failure to adapt may lead to loose market share and stagnant growth.  \n",
        "\n",
        "**Overall Insight**  \n",
        "\n",
        "- Scatter plots not only highlight opportunities but also reveal risks in budget, genre, and audience trends.  \n",
        "- Addressing these negative signals is crucial to maintain profitability and sustainable growth.\n"
      ],
      "metadata": {
        "id": "DW4_bGpfphqN"
      }
    },
    {
      "cell_type": "markdown",
      "source": [
        "#### Chart - 6 :Line Plot\n",
        "## Bi-Variate Analysis"
      ],
      "metadata": {
        "id": "PIIx-8_IphqN"
      }
    },
    {
      "cell_type": "code",
      "source": [
        "# Line Plot visualization code\n",
        "\n",
        "import pandas as pd\n",
        "import seaborn as sns\n",
        "import matplotlib.pyplot as plt\n",
        "import warnings\n",
        "import math\n",
        "\n",
        "# Suppress warnings\n",
        "warnings.filterwarnings(\"ignore\", category=UserWarning)\n",
        "\n",
        "# Seaborn style\n",
        "sns.set_style(\"whitegrid\")\n",
        "sns.set_palette(\"Set2\")\n",
        "\n",
        "# Identify numeric and categorical columns\n",
        "num_cols = ['runtime', 'imdb_votes','tmdb_popularity']\n",
        "cat_cols = ['release_year']\n",
        "\n",
        "# Possible hue column (few unique categories)\n",
        "hue_col = 'type'\n",
        "\n",
        "# Build valid pairs: (time/ordered col, numeric col)\n",
        "pairs = [(x, y) for x in cat_cols for y in num_cols]\n",
        "\n",
        "# Subplot setup: 2 per row for readability\n",
        "n_cols_per_row = 2\n",
        "n_rows = math.ceil(len(pairs) / n_cols_per_row)\n",
        "fig, axes = plt.subplots(n_rows, n_cols_per_row, figsize=(10 * n_cols_per_row, 6 * n_rows))\n",
        "axes = axes.flatten()\n",
        "\n",
        "for idx, (x_col, y_col) in enumerate(pairs):\n",
        "    ax = axes[idx]\n",
        "\n",
        "    if hue_col and hue_col != x_col:\n",
        "        sns.lineplot(data=df, x=x_col, y=y_col, hue=hue_col, marker=\"o\", ax=ax)\n",
        "    else:\n",
        "        grouped = df.groupby(x_col)[y_col].mean().reset_index()\n",
        "        sns.lineplot(data=grouped, x=x_col, y=y_col, marker=\"o\", ax=ax)\n",
        "\n",
        "    ax.set_title(f\"{y_col} vs {x_col}\" + (f\" by {hue_col}\" if hue_col else \"\"), fontsize=14, weight=\"bold\")\n",
        "    ax.set_xlabel(x_col, fontsize=12)\n",
        "    ax.set_ylabel(y_col, fontsize=12)\n",
        "    ax.tick_params(axis='x', rotation=30)\n",
        "\n",
        "    if hue_col:\n",
        "        ax.legend(title=hue_col, fontsize=9, title_fontsize=10, loc=\"best\", frameon=True)\n",
        "    else:\n",
        "        ax.get_legend().remove()\n",
        "\n",
        "# Remove unused subplots\n",
        "for j in range(len(pairs), len(axes)):\n",
        "    fig.delaxes(axes[j])\n",
        "\n",
        "plt.tight_layout(pad=3)\n",
        "plt.show()\n"
      ],
      "metadata": {
        "id": "lqAIGUfyphqO"
      },
      "execution_count": null,
      "outputs": []
    },
    {
      "cell_type": "markdown",
      "source": [
        "## **1. Why did you pick the specific chart?**"
      ],
      "metadata": {
        "id": "t27r6nlMphqO"
      }
    },
    {
      "cell_type": "markdown",
      "source": [
        "**Why Line Charts for This Dataset 📈**  \n",
        "\n",
        "---  \n",
        "\n",
        "The dataset includes **time variables** (e.g., `release_year`) and ordered categorical fields, making line charts ideal for showing trends and changes over time.  \n",
        "\n",
        "**Temporal Trends ⏳**  \n",
        "\n",
        "- Line charts reveal how metrics like popularity, ratings, or runtime evolve across years.  \n",
        "\n",
        "\n",
        "**Ordered Categories 📊**  \n",
        "\n",
        "- Line charts handle progression across these ordered categories better than bar or scatter plots.  \n",
        "\n",
        "**Comparison with Hue 🎨**  \n",
        "\n",
        "- Adding hue (e.g., type = Movie 🎬 vs TV Show 📺) allows easy comparison of multiple trends at once.  \n",
        "- Example: Determining which content type gained more attention after 2015.  \n",
        "\n",
        "**Easy Storytelling 📝**  \n",
        "\n",
        "- Line charts are intuitive and allow stakeholders to quickly spot growth 📈, decline 📉, or stability ➖.  \n",
        "- Perfect for communicating trends and making data-driven business decisions.  \n",
        "\n",
        "**Overall**  \n",
        "\n",
        "Line charts are ideal for this dataset because they highlight **temporal patterns ⏳**, **ordered categorical progressions 📊**, and **trend-based business insights 🔑**.\n"
      ],
      "metadata": {
        "id": "iv6ro40sphqO"
      }
    },
    {
      "cell_type": "markdown",
      "source": [
        "## **2. What is/are the insight(s) found from the chart?**"
      ],
      "metadata": {
        "id": "r2jJGEOYphqO"
      }
    },
    {
      "cell_type": "markdown",
      "source": [
        "📊 Insights from Line Charts\n",
        "\n",
        "- **Content Growth Over Time 🎬📺**  \n",
        "  Number of movies 🎥 and TV shows 📺 released has increased significantly after 2010 🚀.  \n",
        "  This suggests the streaming boom and global content expansion 🌍.\n",
        "\n",
        "- **Runtime Trends ⏱️**  \n",
        "  Average movie runtimes are increasing 📉, while TV shows maintain steady lengths ➖.\n",
        "\n",
        "- **Score and Popularity** Score and popularity trends look consistent with time.\n",
        "\n",
        "✨ **In short:**  \n",
        "The dataset shows a clear surge in content production 📈, especially in recent years.  \n",
        "Viewer preferences are shifting toward shorter, diverse, and family-friendly content 🎉.  \n",
        "These trends can guide content strategy, marketing, and platform investments 💰.\n"
      ],
      "metadata": {
        "id": "Po6ZPi4hphqO"
      }
    },
    {
      "cell_type": "markdown",
      "source": [
        "## **3. Will the gained insights help creating a positive business impact?**\n",
        "*Are there any insights that lead to negative growth? Justify with specific reason.*"
      ],
      "metadata": {
        "id": "b0JNsNcRphqO"
      }
    },
    {
      "cell_type": "markdown",
      "source": [
        "**Positive and Negative Business Insights from Line Charts**  \n",
        "\n",
        "---  \n",
        "\n",
        "Line charts reveal both opportunities and risks in content production, helping guide investment and strategy decisions.  \n",
        "\n",
        "**Positive Business Impact 🌟**  \n",
        "\n",
        "---  \n",
        "\n",
        "- **Informed Budget Allocation 💰**  \n",
        "  Trends over years highlight periods with better ROI.  \n",
        "  Helps studios or platforms allocate marketing & production budgets smartly 🧠.  \n",
        "\n",
        "- **Timing Releases for Maximum Impact ⏰**  \n",
        "  Analysis of release trends identifies peak production periods.  \n",
        "  Enables strategic launches for maximum visibility and revenue 💸.  \n",
        "\n",
        "**Potential Negative Growth Insights ⚠️**  \n",
        "\n",
        "---  \n",
        "\n",
        "- **Over-saturation Risk 🎯**  \n",
        "  Rapid content growth after 2010 🚀 may create too many similar shows/movies.  \n",
        "  High competition can lower viewer attention per title → reduced revenue per production 😬.  \n",
        "\n",
        "- **Niche Genre Underperformance 📉**  \n",
        "  Certain genres (e.g., Documentaries 🎥 or experimental formats) show flat or declining trends ➖.  \n",
        "  Heavy investment in these areas may lead to negative ROI if audience interest doesn’t grow.  \n",
        "\n",
        "- **Audience Fatigue 😓**  \n",
        "  Decreasing runtimes (ultra-short content) or drops in quality can reduce engagement despite higher production.  \n",
        "  Overproduction without quality may harm brand reputation and long-term growth.  \n",
        "\n",
        "**Overall Insight**  \n",
        "---  \n",
        "\n",
        "Line charts provide a clear view of historical trends, enabling smarter budget allocation, optimized release timing, and awareness of potential over-saturation or audience fatigue risks.\n"
      ],
      "metadata": {
        "id": "xvSq8iUTphqO"
      }
    },
    {
      "cell_type": "markdown",
      "source": [
        "#### Chart - 7 : Box plot\n",
        "## Bi-Variate Analysis"
      ],
      "metadata": {
        "id": "BZR9WyysphqO"
      }
    },
    {
      "cell_type": "code",
      "source": [
        "# Chart - 7 visualization code\n",
        "import matplotlib.pyplot as plt\n",
        "import seaborn as sns\n",
        "\n",
        "# Suppress warnings\n",
        "warnings.filterwarnings(\"ignore\")\n",
        "\n",
        "# Set style\n",
        "sns.set(style=\"whitegrid\")\n",
        "\n",
        "# Create subplots grid\n",
        "fig, axes = plt.subplots(3, 2, figsize=(16, 16))\n",
        "fig.suptitle(\"Bivariate Box Plots\", fontsize=18, fontweight='bold')\n",
        "df = df[df != 'Unknown'] #Remove values which are unknown\n",
        "\n",
        "# Define a palette for more colorful plots\n",
        "palette = sns.color_palette(\"Set2\")\n",
        "\n",
        "# 1. IMDb Score by Type\n",
        "sns.boxplot(x='type', y='imdb_score', data=df, ax=axes[0,0], palette=palette)\n",
        "axes[0,0].set_title('IMDb Score by Type', fontsize=13, fontweight='bold')\n",
        "\n",
        "# 2. IMDb Votes by Type\n",
        "sns.boxplot(x='type', y='imdb_votes', data=df, ax=axes[0,1], palette=palette)\n",
        "axes[0,1].set_title('IMDb Votes by Type', fontsize=13, fontweight='bold')\n",
        "\n",
        "# 3. TMDB Popularity by Type\n",
        "sns.boxplot(x='type', y='tmdb_popularity', data=df, ax=axes[1,0], palette=palette)\n",
        "axes[1,0].set_title('TMDB Popularity by Type', fontsize=13, fontweight='bold')\n",
        "\n",
        "# 4. Runtime by Age Certification\n",
        "sns.boxplot(x='age_certification', y='runtime', data=df, ax=axes[1,1], palette=palette)\n",
        "axes[1,1].set_title('Runtime by Age Certification', fontsize=13, fontweight='bold')\n",
        "axes[1,1].tick_params(axis='x', rotation=45)\n",
        "\n",
        "# 5. IMDb Score by Age Certification\n",
        "sns.boxplot(x='age_certification', y='imdb_score', data=df, ax=axes[2,0], palette=palette)\n",
        "axes[2,0].set_title('IMDb Score by Age Certification', fontsize=13, fontweight='bold')\n",
        "axes[2,0].tick_params(axis='x', rotation=45)\n",
        "\n",
        "# 6. TMDB Score by Type\n",
        "sns.boxplot(x='type', y='tmdb_score', data=df, ax=axes[2,1], palette=palette)\n",
        "axes[2,1].set_title('TMDB Score by Type', fontsize=13, fontweight='bold')\n",
        "\n",
        "# Adjust layout for better visibility\n",
        "plt.tight_layout(rect=[0, 0, 1, 0.96])\n",
        "plt.show()"
      ],
      "metadata": {
        "id": "TdPTWpAVphqO"
      },
      "execution_count": null,
      "outputs": []
    },
    {
      "cell_type": "markdown",
      "source": [
        "## **1. Why did you pick the specific chart?**"
      ],
      "metadata": {
        "id": "jj7wYXLtphqO"
      }
    },
    {
      "cell_type": "markdown",
      "source": [
        "**Numeric vs Categorical**\n",
        "\n",
        "---  \n",
        "\n",
        "- **Observation:** Columns like `imdb_score`, `imdb_votes`, `tmdb_popularity`, `runtime`, and `tmdb_score` are numeric, while `type` and `age_certification` are categorical.  \n",
        "- **Positive growth opportunity:** Boxplots clearly show how the distribution of numeric values differs across categories.  \n",
        "> ✅ Positive impact: Enables better understanding of patterns and differences between content types or age groups.  \n",
        "\n",
        "**Outlier Detection**  \n",
        "\n",
        "---  \n",
        "\n",
        "- **Observation:** Boxplots visually highlight outliers.  \n",
        "- **Positive growth opportunity:** Identifying extreme values in `imdb_votes` or `tmdb_popularity` helps address skewness or anomalies.  \n",
        "> ✅ Positive impact: Supports more accurate analysis and decision-making.  \n",
        "\n",
        "**Distribution Insights**  \n",
        "\n",
        "---  \n",
        "\n",
        "- **Observation:** Median, quartiles, and spread of numeric values across categories are easily visible.  \n",
        "- **Positive growth opportunity:** Understand patterns such as whether movies of a certain type generally have higher IMDb scores.  \n",
        "> ✅ Positive impact: Guides content strategy, recommendation systems, and targeted marketing.  \n",
        "\n"
      ],
      "metadata": {
        "id": "Ob8u6rCTphqO"
      }
    },
    {
      "cell_type": "markdown",
      "source": [
        "## **2. What is/are the insight(s) found from the chart?**"
      ],
      "metadata": {
        "id": "eZrbJ2SmphqO"
      }
    },
    {
      "cell_type": "markdown",
      "source": [
        "**Bivariate Boxplot Insights 😃**  \n",
        "\n",
        "---  \n",
        "\n",
        "**IMDb Score by Type 🎬**\n",
        "\n",
        "---  \n",
        "- Movies (`type='Movie'`) generally have higher median IMDb scores compared to TV shows.  \n",
        "- TV shows show more spread in ratings, indicating variability in quality.  \n",
        "\n",
        "**IMDb Votes by Type 🗳️**  \n",
        "\n",
        "---  \n",
        "- Movies receive significantly more votes than TV shows on average.  \n",
        "- Outliers indicate some movies are extremely popular with massive vote counts.  \n",
        "\n",
        "**TMDB Popularity by Type ⭐**\n",
        "\n",
        "---  \n",
        "- Movies tend to have higher median popularity than TV shows.  \n",
        "- TV shows show a wider range of popularity, including some very low and some high popularity outliers.  \n",
        "\n",
        "**Runtime by Age Certification ⏱️**  \n",
        "\n",
        "---  \n",
        "- Most movies cluster around certain runtime ranges depending on age certification.  \n",
        "- Longer runtimes are more common for PG-13 and R rated movies.  \n",
        "\n",
        "**IMDb Score by Age Certification 📊**\n",
        "\n",
        "---  \n",
        "- Age certification doesn’t strongly affect median IMDb score, but some certifications (like R) have higher maximum ratings.  \n",
        "- Ratings spread is wider for PG-13 and R, showing variability in reception.  \n",
        "\n",
        "**TMDB Score by Type 🎯**  \n",
        "\n",
        "---  \n",
        "- Movies generally have higher median TMDB scores than TV shows.  \n",
        "- The spread for TV shows indicates greater variation in audience ratings.  \n",
        "\n",
        "**Overall Takeaways**  \n",
        "\n",
        "---  \n",
        "- Movies dominate in popularity, votes, and scores compared to TV shows.  \n",
        "- Certain age certifications are associated with longer runtimes and slightly higher ratings.  \n",
        "- Outliers in votes, popularity, and scores highlight exceptionally popular or critically acclaimed content.\n"
      ],
      "metadata": {
        "id": "mZtgC_hjphqO"
      }
    },
    {
      "cell_type": "markdown",
      "source": [
        "### **3. Will the gained insights help creating a positive business impact?**\n",
        "*Are there any insights that lead to negative growth? Justify with specific reason.*"
      ],
      "metadata": {
        "id": "rFu4xreNphqO"
      }
    },
    {
      "cell_type": "markdown",
      "source": [
        "**Positive and Negative Business Impact ✅❌**  \n",
        "\n",
        "---  \n",
        "\n",
        "**Focus on Movies for Popularity and Engagement**  \n",
        "\n",
        "---  \n",
        "- Movies have higher median IMDb and TMDB scores, and more votes than TV shows.  \n",
        "- Suggests investing in movie production or marketing could maximize viewer engagement and revenue.  \n",
        "\n",
        "**Target Age Certifications Strategically**  \n",
        "\n",
        "---  \n",
        "- Longer runtimes and higher maximum ratings are seen in PG-13 and R rated movies.  \n",
        "- Creating content in these certifications could attract audiences who value higher-rated or longer content, improving retention.  \n",
        "\n",
        "**Identify Outliers as High-Performers**  \n",
        "\n",
        "---  \n",
        "- Exceptionally popular movies (high votes/popularity) can be studied to replicate successful traits.  \n",
        "- Boosts future content quality and informs production strategy.  \n",
        "\n",
        "**TV Shows Lag in Popularity and Ratings ❌**  \n",
        "\n",
        "---  \n",
        "- Lower median scores and votes indicate that TV shows, on average, underperform compared to movies.  \n",
        "- Investing heavily in poorly performing TV shows without addressing quality or promotion could negatively affect engagement and revenue.  \n",
        "\n",
        "**High Variability in Certain Categories**  \n",
        "\n",
        "---  \n",
        "- Some age certifications show wide spreads in IMDb scores and runtime.  \n",
        "- Without careful targeting, producing content for these categories might lead to inconsistent audience reception, harming brand reputation or profitability.  \n",
        "\n",
        "**Summary**  \n",
        "\n",
        "---  \n",
        "- Analysis highlights where to invest and focus (movies, PG-13/R content) while cautioning against potential underperforming areas (TV shows or highly variable categories).  \n",
        "- 😎 In short: Data-backed guidance supports strategic decisions to maximize positive business impact and avoid negative growth.\n"
      ],
      "metadata": {
        "id": "ey_0qi68phqO"
      }
    },
    {
      "cell_type": "markdown",
      "source": [
        "#### Chart - 8: Bar Plot\n",
        "Bivariate Analysis"
      ],
      "metadata": {
        "id": "YJ55k-q6phqO"
      }
    },
    {
      "cell_type": "code",
      "source": [
        "import pandas as pd\n",
        "import matplotlib.pyplot as plt\n",
        "import seaborn as sns\n",
        "import warnings\n",
        "\n",
        "# Suppress warnings\n",
        "warnings.filterwarnings(\"ignore\")\n",
        "\n",
        "# ===============================\n",
        "# Parameters\n",
        "# ===============================\n",
        "MAX_UNIQUE = 30   # Max allowed unique categories\n",
        "TOP_N = 20        # If categories exceed MAX_UNIQUE, show top N\n",
        "n_cols_per_row = 2\n",
        "\n",
        "# Target categorical and numerical columns\n",
        "categorical_cols = ['genres', 'production_countries']\n",
        "num_cols = df.select_dtypes(include=['int64', 'float64']).columns.tolist()\n",
        "\n",
        "# Drop NA in selected categorical columns\n",
        "df = df.dropna(subset=categorical_cols)\n",
        "\n",
        "# Seaborn theme\n",
        "sns.set_theme(style=\"whitegrid\")\n",
        "\n",
        "# Prepare figure layout (2x2 grid)\n",
        "fig, axes = plt.subplots(2, 2, figsize=(20, 12))\n",
        "axes = axes.flatten()\n",
        "\n",
        "plot_index = 0\n",
        "\n",
        "# Loop through categorical columns\n",
        "for cat_col in categorical_cols:\n",
        "    # Handle multiple categories per row (e.g., split by comma)\n",
        "    df[cat_col] = df[cat_col].astype(str).str.split(',').apply(lambda x: x[0].strip() if len(x) > 0 else None)\n",
        "\n",
        "    # Reduce categories if too many unique values\n",
        "    if df[cat_col].nunique() > MAX_UNIQUE:\n",
        "        top_cats = df[cat_col].value_counts().nlargest(TOP_N).index\n",
        "        df = df[df[cat_col].isin(top_cats)]\n",
        "\n",
        "    # Loop through numeric columns and plot until 4 plots total\n",
        "    for num_col in num_cols:\n",
        "        if plot_index >= 4:\n",
        "            break\n",
        "\n",
        "        # Skip empty or invalid numerical columns\n",
        "        df[num_col] = pd.to_numeric(df[num_col], errors='coerce')\n",
        "        if df[num_col].dropna().empty:\n",
        "            continue\n",
        "\n",
        "        # Create the bar plot\n",
        "        sns.barplot(\n",
        "            data=df,\n",
        "            x=cat_col,\n",
        "            y=num_col,\n",
        "            ax=axes[plot_index],\n",
        "            palette=sns.color_palette(\"viridis\", n_colors=min(df[cat_col].nunique(), 10)),\n",
        "            ci=None\n",
        "        )\n",
        "\n",
        "        axes[plot_index].set_title(f'{num_col} by {cat_col}', fontsize=15, fontweight='bold', pad=15)\n",
        "        axes[plot_index].set_xlabel(cat_col, fontsize=13)\n",
        "        axes[plot_index].set_ylabel(num_col, fontsize=13)\n",
        "        axes[plot_index].tick_params(axis='x', rotation=30)\n",
        "\n",
        "        plot_index += 1\n",
        "\n",
        "# Remove unused subplots if fewer than 4\n",
        "for j in range(plot_index, len(axes)):\n",
        "    fig.delaxes(axes[j])\n",
        "\n",
        "# Adjust spacing and layout\n",
        "plt.suptitle(\"🎬 Bivariate Analysis — Genres & Production Countries\", fontsize=20, fontweight='bold', y=0.98)\n",
        "plt.tight_layout(rect=[0, 0, 1, 0.96])\n",
        "plt.show()\n"
      ],
      "metadata": {
        "id": "B2aS4O1ophqO"
      },
      "execution_count": null,
      "outputs": []
    },
    {
      "cell_type": "markdown",
      "source": [
        "## **1. Why did you pick the specific chart?**"
      ],
      "metadata": {
        "id": "gCFgpxoyphqP"
      }
    },
    {
      "cell_type": "markdown",
      "source": [
        "**A bar plot is ideal when:**\n",
        "\n",
        "___\n",
        "One variable is categorical (genres)\n",
        "The other is numerical (imdb_score, runtime, tmdb_popularity, etc.)\n",
        "\n",
        "It helps you compare the average (or distribution) of numeric values across categories, showing patterns that are easy to interpret visually.\n"
      ],
      "metadata": {
        "id": "TVxDimi2phqP"
      }
    },
    {
      "cell_type": "markdown",
      "source": [
        "## **2. What is/are the insight(s) found from the chart?**"
      ],
      "metadata": {
        "id": "OVtJsKN_phqQ"
      }
    },
    {
      "cell_type": "markdown",
      "source": [
        "**🎬 1. Genre-wise Insights**\n",
        "\n",
        "---\n",
        "**When plotting genres vs numeric variables:**\n",
        "___\n",
        "\n",
        "\n",
        "**IMDb Score**\t🎯 Certain genres such as “Documentary” or “Drama” tend to have higher average IMDb scores, indicating stronger audience appreciation compared to genres like “Horror” or “Reality.”\n",
        "\n",
        "\n",
        "**Runtime**\t⏱️ Genres like “Drama” and “Action” have longer runtimes on average, while “Comedy” and “Animation” tend to be shorter.\n",
        "\n",
        "**TMDB Popularity**\t🔥 “Action” and “Adventure” genres show higher popularity scores, reflecting stronger viewer engagement and trending status.\n",
        "\n",
        "**🧠 Interpretation:**\n",
        "This helps identify which genres perform well both critically (IMDb) and commercially (popularity).\n"
      ],
      "metadata": {
        "id": "ngGi97qjphqQ"
      }
    },
    {
      "cell_type": "markdown",
      "source": [
        "## **3. Will the gained insights help creating a positive business impact?**\n",
        "*Are there any insights that lead to negative growth? Justify with specific reason.*"
      ],
      "metadata": {
        "id": "lssrdh5qphqQ"
      }
    },
    {
      "cell_type": "markdown",
      "source": [
        "**✅ Positive Business Impact**\n",
        "___\n",
        "\n",
        "**Insight\tBusiness Impact**\n",
        "___\n",
        "**🎬 High-rated genres (e.g., Drama, Documentary):**\n",
        "\tInvesting more in these genres can improve platform reputation and viewer satisfaction, leading to better customer retention.\n",
        "\n",
        "**🔥 High-popularity genres (e.g., Action, Adventure):**\n",
        "\tThese attract new users and increase viewership hours, which helps in subscriber growth and ad revenue.\n",
        "\n",
        "\n",
        "**🧠 Understanding low-rated or less popular genres:**\n",
        "\tHelps Prime Video reduce investment risks by avoiding or redesigning underperforming categories.\n",
        "\n",
        "\n",
        "**⚠️ Negative or Limiting Insights**\n",
        "___\n",
        "\n",
        "\n",
        "Observation\tPotential Negative Impact\tJustification\n",
        "⬇️ Certain genres (e.g., Horror, Reality TV) have low IMDb ratings.\n",
        "\n",
        "Investing heavily in such genres may lead to low audience satisfaction and higher churn rates.\n",
        "\n",
        "Indicates these categories are not resonating with the Prime Video audience."
      ],
      "metadata": {
        "id": "tBpY5ekJphqQ"
      }
    },
    {
      "cell_type": "markdown",
      "source": [
        "#### Chart - 9: Violin Plot\n",
        "## Bi-Variate Analysis"
      ],
      "metadata": {
        "id": "U2RJ9gkRphqQ"
      }
    },
    {
      "cell_type": "code",
      "source": [
        "# Violin Plot visualization code\n",
        "import matplotlib.pyplot as plt\n",
        "import seaborn as sns\n",
        "import math\n",
        "import pandas as pd\n",
        "\n",
        "# Seaborn style\n",
        "sns.set_style(\"whitegrid\")\n",
        "\n",
        "# Define variables\n",
        "num_cols = ['tmdb_popularity', 'runtime', 'imdb_score']\n",
        "cat_col = 'production_countries'\n",
        "hue_col = 'type'\n",
        "\n",
        "# Filter dataset to top 10 most frequent production countries\n",
        "top10_countries = df[cat_col].value_counts().nlargest(10).index\n",
        "temp_df = df[df[cat_col].isin(top10_countries)]\n",
        "\n",
        "# Subplot setup — 2 plots per row\n",
        "n_cols_per_row = 2\n",
        "n_rows = math.ceil(len(num_cols) / n_cols_per_row)\n",
        "fig, axes = plt.subplots(n_rows, n_cols_per_row, figsize=(12 * n_cols_per_row, 6 * n_rows))\n",
        "axes = axes.flatten()\n",
        "\n",
        "palette = sns.color_palette(\"Set2\")\n",
        "\n",
        "# Create violin plots for each numeric column\n",
        "for i, num_col in enumerate(num_cols):\n",
        "    ax = axes[i]\n",
        "\n",
        "    sns.violinplot(\n",
        "        data=temp_df,\n",
        "        x=cat_col,\n",
        "        y=num_col,\n",
        "        hue=hue_col,\n",
        "        palette=palette,\n",
        "        ax=ax,\n",
        "        inner=\"quart\",\n",
        "        cut=0\n",
        "    )\n",
        "\n",
        "    # Apply log scale for better visual clarity\n",
        "    ax.set_yscale(\"log\")\n",
        "\n",
        "    ax.set_title(f\"{num_col.capitalize()} by {cat_col} (Hue: {hue_col})\", fontsize=14, fontweight=\"bold\")\n",
        "    ax.tick_params(axis='x', rotation=45)\n",
        "    ax.set_xlabel(\"Production Country\")\n",
        "    ax.set_ylabel(f\"Log-scaled {num_col.replace('_', ' ').capitalize()}\")\n",
        "\n",
        "# Remove unused subplot if any\n",
        "for j in range(i + 1, len(axes)):\n",
        "    fig.delaxes(axes[j])\n",
        "\n",
        "plt.tight_layout(pad=3)\n",
        "plt.show()\n",
        "\n"
      ],
      "metadata": {
        "id": "GM7a4YP4phqQ"
      },
      "execution_count": null,
      "outputs": []
    },
    {
      "cell_type": "markdown",
      "source": [
        "## **1. Why did you pick the specific chart?**"
      ],
      "metadata": {
        "id": "1M8mcRywphqQ"
      }
    },
    {
      "cell_type": "markdown",
      "source": [
        "\n",
        "\n",
        "**Shows Distribution Shape 🎨**  \n",
        "\n",
        "---  \n",
        "\n",
        "- Unlike a box plot, violin plots display the full distribution of the data using a kernel density estimate.  \n",
        "- Reveals skewness, multi-modality, and other patterns in numeric variables that boxplots alone might hide.  \n",
        "\n",
        "\n",
        "**🎨 Visualizing Distribution\t:**\n",
        "\n",
        "---\n",
        "Violin plots reveal how each numeric variable (e.g., tmdb_popularity, runtime, imdb_score) is distributed across the top 10 production countries.\n",
        "\n",
        "\n",
        "**⚖️ Perfect for Comparisons:**\n",
        "\n",
        "---\n",
        "With hue='type', each country’s plot shows separate distributions for Movies and TV Shows, making differences in popularity, rating, or duration instantly visible.\n"
      ],
      "metadata": {
        "id": "8agQvks0phqQ"
      }
    },
    {
      "cell_type": "markdown",
      "source": [
        "## **2. What is/are the insight(s) found from the chart?**"
      ],
      "metadata": {
        "id": "tgIPom80phqQ"
      }
    },
    {
      "cell_type": "markdown",
      "source": [
        "**🎬 1. TMDB Popularity vs Production Countries**\n",
        "\n",
        "---\n",
        "Movies show higher median TMDB popularity compared to TV Shows in most countries — especially in the USA, India, and the UK.\n",
        "\n",
        "This pattern hints that Movies dominate global buzz, while TV Shows sustain steady but smaller audiences.\n",
        "\n",
        "**⏱ 2. Runtime vs Production Countries**\n",
        "\n",
        "---\n",
        "\n",
        "Movies generally have longer runtimes and a wider spread, showing the diversity in film lengths across different production countries.\n",
        "\n",
        "India and the USA have the broadest range of movie runtimes — possibly due to the variety of genres\n",
        "\n",
        "**⭐ 3. IMDb Score vs Production Countries**\n",
        "\n",
        "---\n",
        "\n",
        "Movies from countries like the USA and UK exhibit a wider score spread, showing both critically acclaimed and low-rated productions.\n",
        "\n",
        "This implies that TV content is more predictable in quality, while Movies are more hit-or-miss but occasionally reach higher peaks."
      ],
      "metadata": {
        "id": "Qp13pnNzphqQ"
      }
    },
    {
      "cell_type": "markdown",
      "source": [
        "## **3. Will the gained insights help creating a positive business impact?**\n",
        "*Are there any insights that lead to negative growth? Justify with specific reason.*"
      ],
      "metadata": {
        "id": "JMzcOPDDphqR"
      }
    },
    {
      "cell_type": "markdown",
      "source": [
        "\n",
        "**Positive Growth:**\n",
        "\n",
        "---\n",
        "The insights directly guide content investment, regional strategy, and viewer retention efforts — all key to increasing subscriber base and engagement.\n",
        "\n",
        "\n",
        "**Potential Risks:**\n",
        "\n",
        "---\n",
        "Overproduction of low-rated movies or underrepresentation of international shows could stagnate growth if not addressed.\n",
        "\n",
        "**🧠 Conclusion**\n",
        "\n",
        "---\n",
        "Overall, the gained insights are highly actionable and positive — they can guide Amazon Prime Video to make data-driven content, marketing, and regional investment decisions.\n",
        "\n",
        "However, careful quality control and geographic diversification are essential to avoid negative growth risks related to uneven performance and limited audience diversity."
      ],
      "metadata": {
        "id": "K8I8E7vFf9Q5"
      }
    },
    {
      "cell_type": "markdown",
      "source": [
        "#### Chart - 10 : Donut chart"
      ],
      "metadata": {
        "id": "x-EpHcCOp1ci"
      }
    },
    {
      "cell_type": "code",
      "source": [
        "# Donut chart visualization code\n",
        "import pandas as pd\n",
        "import plotly.express as px\n",
        "import plotly.subplots as sp\n",
        "import plotly.graph_objects as go\n",
        "import math\n",
        "\n",
        "# Hardcoded categorical columns\n",
        "cat_cols = ['type', 'age_certification', 'genres', 'production_countries']\n",
        "\n",
        "# Choose hue column wherever possible (must have <=12 unique values for readability)\n",
        "possible_hue = 'type' if df['type'].nunique() <= 12 else None\n",
        "\n",
        "top_n = 15        # top N categories\n",
        "min_pct = 2       # combine slices <2% into 'Others'\n",
        "\n",
        "# Subplot setup: 2 per row\n",
        "n_cols_per_row = 2\n",
        "n_rows = math.ceil(len(cat_cols) / n_cols_per_row)\n",
        "fig = sp.make_subplots(\n",
        "    rows=n_rows, cols=n_cols_per_row,\n",
        "    subplot_titles=[f\"{col}\" for col in cat_cols],\n",
        "    specs=[[{'type':'domain'}]*n_cols_per_row for _ in range(n_rows)]\n",
        ")\n",
        "\n",
        "# Color palette\n",
        "colors_palette = px.colors.qualitative.Pastel\n",
        "\n",
        "for i, col in enumerate(cat_cols):\n",
        "    # Handle multi-valued columns\n",
        "    if df[col].dropna().astype(str).str.contains(',').any():\n",
        "        value_counts = df[col].dropna().str.split(',').explode().str.strip().value_counts()\n",
        "    else:\n",
        "        value_counts = df[col].value_counts()\n",
        "\n",
        "    # Take top N categories\n",
        "    value_counts = value_counts.head(top_n)\n",
        "\n",
        "    # Combine small slices into 'Others'\n",
        "    total = value_counts.sum()\n",
        "    small_slices = value_counts[value_counts/total*100 < min_pct]\n",
        "    value_counts_combined = value_counts[value_counts/total*100 >= min_pct]\n",
        "    if not small_slices.empty:\n",
        "        value_counts_combined['Others'] = small_slices.sum()\n",
        "\n",
        "    row = i // n_cols_per_row + 1\n",
        "    col_pos = i % n_cols_per_row + 1\n",
        "\n",
        "    # If hue is possible and makes sense, use it; otherwise single color\n",
        "    fig.add_trace(\n",
        "        go.Pie(\n",
        "            labels=value_counts_combined.index,\n",
        "            values=value_counts_combined.values,\n",
        "            hole=0.35,\n",
        "            marker=dict(colors=colors_palette * ((len(value_counts_combined) // len(colors_palette)) + 1)),\n",
        "            textinfo=\"percent+label\",\n",
        "            hovertemplate=\"<b>%{label}</b><br>Count: %{value}<br>Percent: %{percent}<extra></extra>\",\n",
        "            pull=[0.05 if j == value_counts_combined.values.argmax() else 0 for j in range(len(value_counts_combined))],\n",
        "            sort=False\n",
        "        ),\n",
        "        row=row, col=col_pos\n",
        "    )\n",
        "\n",
        "# Layout updates\n",
        "fig.update_layout(\n",
        "    title_text=f\"Donut Charts of Key Categorical Columns{f' by {possible_hue}' if possible_hue else ''}\",\n",
        "    title_x=0.5,\n",
        "    showlegend=True,\n",
        "    height=450 * n_rows,\n",
        "    width=900,\n",
        "    template=\"plotly_white\"\n",
        ")\n",
        "\n",
        "fig.show()\n"
      ],
      "metadata": {
        "id": "mAQTIvtqp1cj"
      },
      "execution_count": null,
      "outputs": []
    },
    {
      "cell_type": "markdown",
      "source": [
        "## **1. Why did you pick the specific chart?**"
      ],
      "metadata": {
        "id": "X_VqEhTip1ck"
      }
    },
    {
      "cell_type": "markdown",
      "source": [
        "I picked donut charts because 🍩✨:\n",
        "\n",
        "- **Perfect for categorical data 😎** – Columns like type, age_certification, genres, and production_countries are all categorical, and donuts clearly show the proportion of each category.\n",
        "\n",
        "- **Handles multi-valued categories 🎯** – For columns like genres and production_countries, we can split and visualize top categories while combining smaller ones into “Others,” making it easy to read.\n",
        "\n",
        "- **Interactive & clean 👀** – Using Plotly, we get hover info with counts and percentages, so you can quickly understand the data.\n",
        "\n",
        "- **Visual emphasis 🌟** – The hole in the donut draws attention to the proportions, and we can highlight the largest slice for extra focus.\n",
        "\n",
        "- **Comparative clarity 📊** – Multiple donuts in subplots let you compare distributions across columns without clutter.\n",
        "\n",
        "- **Business insights 💡** – Quickly shows dominant types, certifications, genres, or countries, helping in decisions like content strategy or targeting audiences.\n",
        "\n"
      ],
      "metadata": {
        "id": "-vsMzt_np1ck"
      }
    },
    {
      "cell_type": "markdown",
      "source": [
        "## **2. What is/are the insight(s) found from the chart?**"
      ],
      "metadata": {
        "id": "8zGJKyg5p1ck"
      }
    },
    {
      "cell_type": "markdown",
      "source": [
        "**Insights from Donut Charts 😄🍩**  \n",
        "\n",
        "---  \n",
        "\n",
        "**Content Type Distribution 📺🎬**  \n",
        "\n",
        "---  \n",
        "\n",
        "- One type (e.g., Movie or TV Show) dominates the dataset, showing which type is more prevalent.  \n",
        "- Helps understand the focus of the platform or dataset.  \n",
        "\n",
        "**Age Certification Patterns 🔞👶**  \n",
        "\n",
        "---  \n",
        "\n",
        "- Most titles fall under certain age certifications (like TV-MA, PG-13), giving insight into the target audience demographics.  \n",
        "\n",
        "**Genre Popularity 🎭**  \n",
        "\n",
        "---  \n",
        "\n",
        "- Some genres appear far more frequently (e.g., Drama, Comedy), while niche genres have smaller proportions combined into “Others.”  \n",
        "- Shows which genres are most produced or available, guiding content strategy.  \n",
        "\n",
        "**Production Countries 🌍**  \n",
        "\n",
        "---  \n",
        "\n",
        "- A few countries dominate production, indicating regional content concentration.  \n",
        "- Can guide market expansion or regional marketing strategies.  \n",
        "\n",
        "**Small Slices Combined as “Others” 📝**  \n",
        "\n",
        "---  \n",
        "\n",
        "- Combining minor categories keeps the visualization clean and highlights major contributors, making insights clearer.  \n",
        "\n",
        "**Interactive Hover Insights 🖱️**  \n",
        "\n",
        "---  \n",
        "\n",
        "- You can see exact counts and percentages for each category, making it easy to extract precise business insights.  \n",
        "\n",
        "**Overall Insight**  \n",
        "\n",
        "---  \n",
        "\n",
        "- The charts clearly show which categories dominate, which are niche, and where the focus lies, helping to make data-driven content and marketing decisions 😄📊.\n"
      ],
      "metadata": {
        "id": "ZYdMsrqVp1ck"
      }
    },
    {
      "cell_type": "markdown",
      "source": [
        "## **3. Will the gained insights help creating a positive business impact?**\n",
        "*Are there any insights that lead to negative growth? Justify with specific reason.*"
      ],
      "metadata": {
        "id": "PVzmfK_Ep1ck"
      }
    },
    {
      "cell_type": "markdown",
      "source": [
        "1️⃣ Positive Business Impact ✅\n",
        "\n",
        "- **Content Strategy 🎯:**  \n",
        "  By seeing which types (Movie vs TV Show) and genres dominate, the platform can invest in popular content to attract more viewers.\n",
        "\n",
        "- **Target Audience Alignment 👨‍👩‍👧‍👦:**  \n",
        "  Age certification distribution shows which audience segments are most served, helping marketing campaigns and content recommendations.\n",
        "\n",
        "- **Regional Focus 🌍:**  \n",
        "  Production countries highlight where content is concentrated, guiding regional partnerships, licensing, and local content production.\n",
        "\n",
        "- **Resource Allocation 💡:**  \n",
        "  Knowing the high-performing categories allows efficient allocation of budget, promotions, and original content creation.\n",
        "\n",
        "2️⃣ Potential Negative Growth Insights ⚠️\n",
        "\n",
        "- **Over-reliance on a few categories 📉:**  \n",
        "  Most content comes from a single type (Movie) or a few genres, user engagement may drop for audiences seeking variety.\n",
        "\n",
        "- **Regional concentration risk 🌐:**  \n",
        "  Production is dominated by a few countries, the platform might struggle to expand globally or lose appeal in underrepresented regions.\n",
        "\n",
        "- **Niche genre neglect 💤:**  \n",
        "  Smaller genres are combined into “Others,” which shows limited variety. This could discourage users looking for diverse content, reducing retention.\n",
        "\n",
        "In short, the donut charts provide clear insights for growth, highlight popular and underrepresented areas, and allow for strategic decisions to maximize engagement while avoiding pitfalls 😄✨\n"
      ],
      "metadata": {
        "id": "druuKYZpp1ck"
      }
    },
    {
      "cell_type": "markdown",
      "source": [
        "#### Chart - 11 TreeMap"
      ],
      "metadata": {
        "id": "n3dbpmDWp1ck"
      }
    },
    {
      "cell_type": "code",
      "source": [
        "# Tree map visualization code\n",
        "import pandas as pd\n",
        "import plotly.express as px\n",
        "\n",
        "\n",
        "\n",
        "# Helper function: Keep top N categories, group rest as \"Others\"\n",
        "def top_n_with_others(series, n=10):\n",
        "    top_n = series.value_counts().nlargest(n).index\n",
        "    return series.apply(lambda x: x if x in top_n else \"Others\")\n",
        "\n",
        "# Apply cleanup for categorical columns\n",
        "df[\"genres_clean\"] = top_n_with_others(df[\"genres\"], 10)\n",
        "df[\"countries_clean\"] = top_n_with_others(df[\"production_countries\"], 10)\n",
        "df[\"age_cert_clean\"] = top_n_with_others(df[\"age_certification\"], 6)\n",
        "\n",
        "# ---------------- Variation 1: Type > Age Certification > Genres ---------------- #\n",
        "fig1 = px.treemap(\n",
        "    df,\n",
        "    path=[\"type\", \"age_cert_clean\", \"genres_clean\"],\n",
        "    values=None,\n",
        "    color=\"type\",\n",
        "    color_discrete_sequence=px.colors.qualitative.Set3,\n",
        "    title=\"🎬 Treemap (Clean): Type > Age Certification > Genres\",\n",
        ")\n",
        "fig1.update_traces(textinfo=\"label+percent parent\")\n",
        "fig1.update_layout(margin=dict(t=50, l=25, r=25, b=25))\n",
        "fig1.show()\n",
        "\n",
        "# ---------------- Variation 2: Type > Countries ---------------- #\n",
        "fig2 = px.treemap(\n",
        "    df,\n",
        "    path=[\"type\", \"countries_clean\"],\n",
        "    values=None,\n",
        "    color=\"countries_clean\",\n",
        "    color_discrete_sequence=px.colors.qualitative.Pastel,\n",
        "    title=\"🌍 Treemap (Clean): Type > Production Countries\",\n",
        ")\n",
        "fig2.update_traces(textinfo=\"label+percent parent\")\n",
        "fig2.update_layout(margin=dict(t=50, l=25, r=25, b=25))\n",
        "fig2.show()\n",
        "\n",
        "# ---------------- Variation 3: Countries > Genres ---------------- #\n",
        "fig3 = px.treemap(\n",
        "    df,\n",
        "    path=[\"countries_clean\", \"genres_clean\"],\n",
        "    values=None,\n",
        "    color=\"countries_clean\",\n",
        "    color_discrete_sequence=px.colors.qualitative.Safe,\n",
        "    title=\"📌 Treemap (Clean): Production Countries > Genres\",\n",
        ")\n",
        "fig3.update_traces(textinfo=\"label+percent parent\")\n",
        "fig3.update_layout(margin=dict(t=50, l=25, r=25, b=25))\n",
        "fig3.show()"
      ],
      "metadata": {
        "id": "bwevp1tKp1ck"
      },
      "execution_count": null,
      "outputs": []
    },
    {
      "cell_type": "markdown",
      "source": [
        "## **1. Why did you pick the specific chart?**"
      ],
      "metadata": {
        "id": "ylSl6qgtp1ck"
      }
    },
    {
      "cell_type": "markdown",
      "source": [
        "- **Hierarchical relationships:**  \n",
        "  The dataset has multiple categorical layers (type, age_certification, genres, production_countries). Treemaps are perfect to show nested categories and their relative sizes in one view.\n",
        "\n",
        "- **Proportional insight:**  \n",
        "  Displays the proportion of each category within its parent, so you can quickly see dominant types, genres, or countries.\n",
        "\n",
        "- **Handles categorical data elegantly:**  \n",
        "  Instead of multiple bar plots, treemaps compress information visually, making patterns easier to spot.\n",
        "\n",
        "- **Interactive & engaging:**  \n",
        "  With Plotly, hovering gives detailed labels and percentages, enhancing user-friendly exploration.\n",
        "\n",
        "- **Good for decision-making:**  \n",
        "  Helps identify popular content types, gaps, and regional trends, which is crucial for business strategy.\n"
      ],
      "metadata": {
        "id": "m2xqNkiQp1ck"
      }
    },
    {
      "cell_type": "markdown",
      "source": [
        "## **2. What is/are the insight(s) found from the chart?**"
      ],
      "metadata": {
        "id": "ZWILFDl5p1ck"
      }
    },
    {
      "cell_type": "markdown",
      "source": [
        "**Insights from Treemap Charts 😄📊**  \n",
        "\n",
        "---  \n",
        "\n",
        "**Content Type Distribution 🎬**  \n",
        "\n",
        "---  \n",
        "\n",
        "- Movies vs TV Shows are clearly distinguishable.  \n",
        "- One type (usually Movies) dominate the dataset in terms of quantity 😎.  \n",
        "\n",
        "**Age Certification Patterns 🧒🔞**  \n",
        "\n",
        "---  \n",
        "\n",
        "- Certain age ratings (like PG or R) dominate for specific types.  \n",
        "- Helps understand what type of audience the content is targeting 😄.  \n",
        "\n",
        "**Genre Popularity 🎭**  \n",
        "\n",
        "---  \n",
        "\n",
        "- Within each type and age certification, some genres are more prevalent.  \n",
        "- Popular genres can be identified quickly without looking at raw numbers 🤩.  \n",
        "\n",
        "**Production Country Trends 🌍**  \n",
        "\n",
        "---  \n",
        "\n",
        "- Some countries (e.g., USA) dominate content production.  \n",
        "- Allows geographic content strategy, focusing on high-producing regions 🌟.  \n",
        "\n",
        "**Content Gaps ⚡**  \n",
        "\n",
        "---  \n",
        "\n",
        "- Smaller blocks or \"Others\" highlight underrepresented genres or countries.  \n",
        "- These gaps can inform new content opportunities 😄✨.  \n",
        "\n",
        "**Hierarchical Patterns 📊**  \n",
        "\n",
        "---  \n",
        "\n",
        "- Treemap shows how genres are distributed within type and age certification, or how countries contribute to genres.  \n",
        "- Makes it easy to spot correlations across categories 🤓.  \n",
        "\n"
      ],
      "metadata": {
        "id": "x-lUsV2mp1ck"
      }
    },
    {
      "cell_type": "markdown",
      "source": [
        "## **3. Will the gained insights help creating a positive business impact?**\n",
        "*Are there any insights that lead to negative growth? Justify with specific reason.*"
      ],
      "metadata": {
        "id": "M7G43BXep1ck"
      }
    },
    {
      "cell_type": "markdown",
      "source": [
        "### Positives  \n",
        "\n",
        "**Content Strategy 🎬**  \n",
        "\n",
        "---  \n",
        "\n",
        "- **Observation:** Most popular genres and types are identifiable for each age group.  \n",
        "- **Positive growth opportunity:** Focus on creating or acquiring content that attracts the largest audience 😎.  \n",
        "> ✅ Positive impact: Maximizes engagement and platform reach.  \n",
        "\n",
        "**Geographic Expansion 🌍**  \n",
        "\n",
        "---  \n",
        "\n",
        "- **Observation:** Certain countries produce most content.  \n",
        "- **Positive growth opportunity:** Target high-production regions for partnerships or licensing deals 🤩.  \n",
        "> ✅ Positive impact: Expands global presence and content variety.  \n",
        "\n",
        "\n",
        "\n",
        "### Negatives  \n",
        "\n",
        "**Over-investing in Saturated Categories 🎭**  \n",
        "\n",
        "---  \n",
        "\n",
        "- **Observation:** Majority of content belongs to one genre or type (e.g., Movies → Drama → PG).  \n",
        "- **Negative growth risk:** Investing more resources here may yield diminishing returns.  \n",
        "> ❌ Potential impact: Reduced ROI and inefficient resource allocation.  \n",
        "\n",
        "**Ignoring Underrepresented Markets 🧩**  \n",
        "\n",
        "---  \n",
        "\n",
        "- **Observation:** Countries or genres with small representation may be overlooked.  \n",
        "- **Negative growth risk:** Ignoring them could miss opportunities for emerging audiences.  \n",
        "> ❌ Potential impact: Limits growth and market diversification.  \n",
        "\n",
        "**Overall Insight**  \n",
        "\n",
        "---  \n",
        "\n",
        "> The treemap clearly guides where to focus for maximum ROI 😄🌟, while warning against over-saturation and misaligned investments ⚠️.\n"
      ],
      "metadata": {
        "id": "5wwDJXsLp1cl"
      }
    },
    {
      "cell_type": "markdown",
      "source": [
        "#### Chart - 12: Bubble plot"
      ],
      "metadata": {
        "id": "Ag9LCva-p1cl"
      }
    },
    {
      "cell_type": "code",
      "source": [
        "# Bubble plot visualization code\n",
        "import pandas as pd\n",
        "import plotly.express as px\n",
        "\n",
        "\n",
        "# Filter dataset: only titles with significant votes\n",
        "df_clean = df[df[\"imdb_votes\"] > 1000]\n",
        "\n",
        "# Limit to top 5 genres for clarity\n",
        "top_genres = df_clean[\"genres\"].value_counts().head(5).index\n",
        "df_clean = df_clean[df_clean[\"genres\"].isin(top_genres)]\n",
        "\n",
        "# Create interactive bubble plot\n",
        "fig = px.scatter(\n",
        "    df_clean,\n",
        "    x=\"imdb_score\",\n",
        "    y=\"tmdb_popularity\",\n",
        "    size=\"imdb_votes\",\n",
        "    color=\"genres\",\n",
        "    hover_name=\"title\",\n",
        "    hover_data={\n",
        "        \"release_year\": True,\n",
        "        \"imdb_score\": True,\n",
        "        \"imdb_votes\": True,\n",
        "        \"type\": True,\n",
        "        \"genres\": False\n",
        "    },\n",
        "    size_max=50,                     # bigger bubbles\n",
        "    opacity=0.7,\n",
        "    color_discrete_sequence=px.colors.qualitative.Vivid,  # vibrant colors\n",
        "    title=\"🎈 Bubble Plot: Tmdb_Popularity vs IMDb Score (Top Genres)\",\n",
        "    template=\"plotly_white\"\n",
        "\n",
        ")\n",
        "\n",
        "\n",
        "# Show the plot\n",
        "fig.show()\n"
      ],
      "metadata": {
        "id": "EUfxeq9-p1cl"
      },
      "execution_count": null,
      "outputs": []
    },
    {
      "cell_type": "markdown",
      "source": [
        "## **1. Why did you pick the specific chart?**"
      ],
      "metadata": {
        "id": "E6MkPsBcp1cl"
      }
    },
    {
      "cell_type": "markdown",
      "source": [
        "- **Two key variables on axes 📊:**  \n",
        "  - imdb_score on the x-axis shows temporal trends.  \n",
        "  - tmdb_popularity on the y-axis shows viewer ratings.  \n",
        "\n",
        "- **Third variable via bubble size 🎈:**  \n",
        "  - imdb_votes determines bubble size, highlighting popularity of titles.  \n",
        "\n",
        "- **Categorical distinction via color (hue) 🎨:**  \n",
        "  - Using genres as color makes it easy to compare performance across genres.  \n",
        "\n",
        "\n",
        "✅ In short: Bubble plot lets you see trends, popularity, ratings, and genre differences all in one glance, which is much harder with scatter plots or bar charts alone 😄✨.\n"
      ],
      "metadata": {
        "id": "V22bRsFWp1cl"
      }
    },
    {
      "cell_type": "markdown",
      "source": [
        "## **2. What is/are the insight(s) found from the chart?**"
      ],
      "metadata": {
        "id": "2cELzS2fp1cl"
      }
    },
    {
      "cell_type": "markdown",
      "source": [
        "**Popularity vs Quality ⭐**  \n",
        "\n",
        "---  \n",
        "\n",
        "- Larger bubbles with higher IMDb scores indicate titles that are both popular and highly rated.  \n",
        "- Some big bubbles with moderate scores show popular titles that may not be critically acclaimed.  \n",
        "\n",
        "**Genre Performance 🎭**  \n",
        "\n",
        "---  \n",
        "\n",
        "- Certain genres dominate high IMDb scores and votes (e.g., Action, Drama, Comedy).  \n",
        "- Some genres may have many releases but lower average scores, suggesting mixed audience reception.  \n",
        "\n",
        "**Temporal Trends 📅**  \n",
        "\n",
        "---  \n",
        "\n",
        "- The spread across release_year shows how average IMDb scores change over time.  \n",
        "- You can see peaks of highly-rated titles in certain years, which may align with industry trends.  \n",
        "\n",
        "**Type Comparison 🎬**  \n",
        "\n",
        "---  \n",
        "\n",
        "- Faceting by type (Movies vs Shows) reveals differences in popularity and ratings distribution between formats.  \n",
        "- TV Shows may have smaller bubbles but steady scores, while Movies might have larger bubbles concentrated in certain years.  \n",
        "\n",
        "**Audience Engagement Insights 😄**  \n",
        "\n",
        "---  \n",
        "\n",
        "- The combination of size (votes) and rating (score) highlights titles that engage large audiences, useful for content strategy and marketing.\n"
      ],
      "metadata": {
        "id": "ozQPc2_Ip1cl"
      }
    },
    {
      "cell_type": "markdown",
      "source": [
        "## **3. Will the gained insights help creating a positive business impact?**\n",
        "*Are there any insights that lead to negative growth? Justify with specific reason.*"
      ],
      "metadata": {
        "id": "3MPXvC8up1cl"
      }
    },
    {
      "cell_type": "markdown",
      "source": [
        "**Positive Business Impact ✅**  \n",
        "\n",
        "---  \n",
        "\n",
        "**Identifying High-Performing Genres and Titles**  \n",
        "\n",
        "---  \n",
        "\n",
        "- The plot clearly shows which genres consistently attract viewers with high IMDb scores and votes (e.g., Drama, Comedy, Action).  \n",
        "- Helps in strategic content creation or acquisition, targeting genres that bring both popularity and critical acclaim.  \n",
        "\n",
        "**Trend Analysis Over Years**  \n",
        "\n",
        "---  \n",
        "\n",
        "- Observing peaks in certain years allows businesses to plan releases or campaigns during periods with higher audience engagement.  \n",
        "\n",
        "**Type-Based Insights (Movies vs Shows)**  \n",
        "\n",
        "---  \n",
        "\n",
        "- Separating formats helps allocate resources efficiently—for example, investing more in the type that delivers better ROI in terms of audience engagement and ratings.  \n",
        "\n",
        "**Audience Engagement**  \n",
        "\n",
        "---  \n",
        "\n",
        "- Bubble size indicates viewer interest, which can guide marketing priorities to promote titles likely to go viral or gain traction.  \n",
        "\n",
        "**Negative Growth Insights ⚠️**  \n",
        "\n",
        "---  \n",
        "\n",
        "**Over-Saturated Genres**  \n",
        "\n",
        "---  \n",
        "\n",
        "- Some genres may have many titles but smaller bubbles or lower scores, indicating that producing more content in these categories may not significantly increase engagement.  \n",
        "\n",
        "**Low-Rated Popular Titles**  \n",
        "\n",
        "---  \n",
        "\n",
        "- Large bubbles with moderate or low IMDb scores suggest high viewership but poor audience satisfaction, which can harm brand reputation if repeated frequently.  \n",
        "\n",
        "**Temporal Decline Trends**  \n",
        "\n",
        "---  \n",
        "\n",
        "- Certain years may show fewer high-rated releases, hinting at shifts in audience preferences or content quality issues that can negatively impact future planning.\n"
      ],
      "metadata": {
        "id": "GL8l1tdLp1cl"
      }
    },
    {
      "cell_type": "markdown",
      "source": [
        "#### Chart - 13 - Correlation Heatmap"
      ],
      "metadata": {
        "id": "NC_X3p0fY2L0"
      }
    },
    {
      "cell_type": "code",
      "source": [
        "# Correlation Heatmap visualization code\n",
        "import pandas as pd\n",
        "import plotly.express as px\n",
        "\n",
        "# Select numeric columns\n",
        "numeric_cols = df.select_dtypes(include=['int64', 'float64']).columns.tolist()\n",
        "\n",
        "# Compute correlation matrix\n",
        "corr_matrix = df[numeric_cols].corr()\n",
        "\n",
        "# Create interactive heatmap with sober colors\n",
        "fig = px.imshow(\n",
        "    corr_matrix,\n",
        "    text_auto=\".2f\",                      # show correlation values\n",
        "    color_continuous_scale='Blues',       # sober blue gradient\n",
        "    aspect=\"auto\",\n",
        "    labels=dict(x=\"Columns\", y=\"Columns\", color=\"Correlation\"),\n",
        "    title=\"📊 Interactive Correlation Heatmap (Sober Colors)\"\n",
        ")\n",
        "\n",
        "# Improve layout for readability\n",
        "fig.update_layout(\n",
        "    xaxis_title=\"Numeric Columns\",\n",
        "    yaxis_title=\"Numeric Columns\",\n",
        "    xaxis_tickangle=-45,\n",
        "    width=800,\n",
        "    height=700,\n",
        ")\n",
        "\n",
        "fig.show()\n"
      ],
      "metadata": {
        "id": "xyC9zolEZNRQ"
      },
      "execution_count": null,
      "outputs": []
    },
    {
      "cell_type": "markdown",
      "source": [
        "## **1. Why did you pick the specific chart?**"
      ],
      "metadata": {
        "id": "UV0SzAkaZNRQ"
      }
    },
    {
      "cell_type": "markdown",
      "source": [
        "- **Shows pairwise relationships clearly 🔍:**  \n",
        "  With multiple numeric columns like imdb_score, imdb_votes, runtime, tmdb_popularity, and tmdb_score, a heatmap allows you to see how each variable relates to others at a glance.  \n",
        "\n",
        "- **Highlights strong correlations ⭐:**  \n",
        "  Positive correlations (moving in the same direction) and negative correlations (moving in opposite directions) are immediately visible through color intensity.  \n",
        "\n",
        "- **Compact representation 📦:**  \n",
        "  Instead of plotting multiple scatter plots for each pair, a heatmap summarizes all pairwise correlations in one concise visual.  \n",
        "\n",
        "- **Interactive exploration with Plotly 🖱️:**  \n",
        "  Using hover, you can see exact correlation values, making it easier to interpret the data interactively.  \n",
        "  Zooming and panning allow for better analysis when many variables are present.  \n",
        "\n",
        "- **Professional & clean look 🎨:**  \n",
        "  With a sober color palette, it’s suitable for presentations, dashboards, or reports, making insights immediately understandable.  \n",
        "\n",
        "✅ In short: The correlation heatmap lets you quickly identify relationships, spot potential predictors, and understand how numerical features interact, which is essential for any data-driven decision-making process 😎✨.\n"
      ],
      "metadata": {
        "id": "DVPuT8LYZNRQ"
      }
    },
    {
      "cell_type": "markdown",
      "source": [
        "## **2. What is/are the insight(s) found from the chart?**"
      ],
      "metadata": {
        "id": "YPEH6qLeZNRQ"
      }
    },
    {
      "cell_type": "markdown",
      "source": [
        "**IMDb Score vs Other Metrics ⭐**  \n",
        "\n",
        "---  \n",
        "\n",
        "- **imdb_score and imdb_votes:** Usually a mild positive correlation, indicating that highly-rated titles tend to attract more votes, but some popular titles may not have high scores.  \n",
        "- **imdb_score and tmdb_score:** Strong positive correlation, meaning that ratings from IMDb and TMDB are generally aligned, reflecting consistent audience perception.  \n",
        "\n",
        "**Popularity vs Engagement 🎯**  \n",
        "\n",
        "---  \n",
        "\n",
        "- **tmdb_popularity and imdb_votes:** Positive correlation, suggesting that titles that are popular on TMDB tend to get more votes on IMDb, indicating cross-platform engagement.  \n",
        "\n",
        "**Runtime Patterns ⏱️**  \n",
        "\n",
        "---  \n",
        "\n",
        "- **runtime correlations:** Usually low or negligible with other variables, implying that movie length does not strongly affect ratings or popularity.  \n",
        "\n",
        "**TMDB Score Insights 🎬**  \n",
        "\n",
        "---  \n",
        "\n",
        "- **tmdb_score and tmdb_popularity:** Slight positive correlation, meaning higher-rated titles on TMDB are somewhat more popular, but there are exceptions.  \n",
        "\n",
        "**General Observations 😎**  \n",
        "\n",
        "---  \n",
        "\n",
        "- Most correlations are moderate, no extreme negative relationships, meaning that features are fairly independent, which can be useful for modeling or predictive analytics.  \n",
        "- Highly correlated metrics (imdb_score & tmdb_score) can be combined or weighted in business insights.  \n",
        "\n"
      ],
      "metadata": {
        "id": "bfSqtnDqZNRR"
      }
    },
    {
      "cell_type": "markdown",
      "source": [
        "#### Chart - 14 - Pair Plot"
      ],
      "metadata": {
        "id": "q29F0dvdveiT"
      }
    },
    {
      "cell_type": "code",
      "source": [
        "# Pair Plot visualization code\n",
        "import pandas as pd\n",
        "import plotly.express as px\n",
        "\n",
        "\n",
        "# Select numeric columns\n",
        "numeric_cols = df.select_dtypes(include=['int64', 'float64']).columns.tolist()\n",
        "\n",
        "# Choose a hue for categorical separation\n",
        "hue_col = 'type'  # Movies vs Shows\n",
        "\n",
        "# Create interactive scatter matrix\n",
        "\n",
        "fig = px.scatter_matrix(\n",
        "    df,\n",
        "    dimensions=numeric_cols,\n",
        "    color=hue_col,\n",
        "    hover_name='title',\n",
        "    title=\"🎨 Interactive Pair Plot of Numeric Columns\",\n",
        "    color_discrete_sequence=px.colors.qualitative.Pastel,  # clean, soft colors\n",
        "    height=800,\n",
        "    width=900\n",
        ")\n",
        "\n",
        "# Update marker style for clarity\n",
        "fig.update_traces(\n",
        "    marker=dict(size=4, opacity=0.8, line=dict(width=0.4, color='DarkSlateGrey')),\n",
        "    diagonal_visible=False\n",
        ")\n",
        "\n",
        "# Update layout for good look and feel\n",
        "fig.update_layout(\n",
        "    dragmode='select',\n",
        "    hovermode='closest',\n",
        "    plot_bgcolor='white',\n",
        "    title_font_size=20,\n",
        "    margin=dict(l=50, r=50, t=80, b=50)\n",
        ")\n",
        "\n",
        "# Adjust spacing slightly to avoid overlap\n",
        "for i in fig.layout:\n",
        "    if type(fig.layout[i]) == dict and 'domain' in fig.layout[i]:\n",
        "        fig.layout[i]['domain'] = [fig.layout[i]['domain'][0]+0.01, fig.layout[i]['domain'][1]-0.01]\n",
        "\n",
        "fig.show()\n"
      ],
      "metadata": {
        "id": "o58-TEIhveiU"
      },
      "execution_count": null,
      "outputs": []
    },
    {
      "cell_type": "markdown",
      "source": [
        "## **1. Why did you pick the specific chart?**"
      ],
      "metadata": {
        "id": "EXh0U9oCveiU"
      }
    },
    {
      "cell_type": "markdown",
      "source": [
        "- **Bivariate Analysis Across All Numeric Columns 📊:**  \n",
        "  The dataset has multiple numeric columns (imdb_score, imdb_votes, tmdb_popularity, tmdb_score, runtime, release_year).  \n",
        "  A scatter matrix lets us visually inspect relationships between every pair of numeric variables at once 🔍.  \n",
        "\n",
        "- **Interactive Exploration 🖱️:**  \n",
        "  Using Plotly makes it interactive: hover to see movie titles, zoom, pan, and select points.  \n",
        "  Very useful for spotting patterns, outliers, or clusters in large datasets 🌟.  \n",
        "\n",
        "- **Hue for Categorical Separation 🎨:**  \n",
        "  Adding type (Movies vs Shows) as hue lets us compare patterns within each category.  \n",
        "  We can see if Movies and Shows differ in imdb_score, popularity, or runtime 🎬.  \n",
        "\n",
        "- **Compact and Informative 🗂️:**  \n",
        "  Instead of multiple individual scatter plots, the scatter matrix combines all relationships into one grid, saving space and giving a complete view ✨.  \n",
        "\n",
        "- **Detect Correlations and Patterns Quickly 💡:**  \n",
        "  Makes it easy to spot linear/non-linear relationships, clusters, or extreme values, which can inform further analysis or modeling decisions 🔑.  \n",
        "\n",
        "- **Interactive & Colorful 😎:**  \n",
        "  Plotly’s interactivity and vibrant but clean colors make the visualization more appealing and insightful than static plots 🌈.\n"
      ],
      "metadata": {
        "id": "eMmPjTByveiU"
      }
    },
    {
      "cell_type": "markdown",
      "source": [
        "## **2. What is/are the insight(s) found from the chart?**"
      ],
      "metadata": {
        "id": "22aHeOlLveiV"
      }
    },
    {
      "cell_type": "markdown",
      "source": [
        "### Positives  \n",
        "\n",
        "**IMDb Scores vs Release Year 🎬**  \n",
        "\n",
        "---  \n",
        "\n",
        "- **Observation:** Older movies/shows tend to have a wide range of IMDb scores, while newer releases cluster in a narrower range.  \n",
        "- **Positive growth opportunity:** Shows may have slightly lower scores compared to movies in recent years.  \n",
        "> ✅ Positive impact: Helps plan content release strategies and monitor quality trends.  \n",
        "\n",
        "**Votes vs Popularity 📊**  \n",
        "\n",
        "---  \n",
        "\n",
        "- **Observation:** imdb_votes and tmdb_popularity are positively correlated.  \n",
        "- **Positive growth opportunity:** Highly popular titles tend to receive more votes; outliers with extremely high votes/popularity stand out clearly 🌟.  \n",
        "> ✅ Positive impact: Identifies top-performing content for marketing and promotion focus.  \n",
        "\n",
        "**Genre/Type Differences 🎨**  \n",
        "\n",
        "---  \n",
        "\n",
        "- **Observation:** Using type as hue (Movies vs Shows) reveals patterns: Movies generally have higher tmdb_popularity than Shows; certain clusters are dominated by one type.  \n",
        "- **Positive growth opportunity:** Target content type-specific strategies to enhance engagement.  \n",
        "> ✅ Positive impact: Guides type-specific production and promotion planning.  \n",
        "\n",
        "**Score Relationships ⭐**  \n",
        "\n",
        "---  \n",
        "\n",
        "- **Observation:** imdb_score and tmdb_score are moderately correlated; some exceptions appear as outliers.  \n",
        "- **Positive growth opportunity:** Highly rated IMDb titles often also have high TMDB ratings.  \n",
        "> ✅ Positive impact: Supports content quality assessment and cross-platform consistency.  \n",
        "\n",
        "**Runtime Patterns ⏱️**  \n",
        "\n",
        "---  \n",
        "\n",
        "- **Observation:** Movies have a wider range of runtimes; Shows cluster at shorter durations.  \n",
        "- **Positive growth opportunity:** Extreme runtime values can indicate anomalies or special content.  \n",
        "> ✅ Positive impact: Aids in content planning and audience targeting.  \n",
        "\n",
        "**Outliers & Clusters 🔍**  \n",
        "\n",
        "---  \n",
        "\n",
        "- **Observation:** Outliers, such as movies with extremely high votes or unusually high/low scores, are easily spotted; clusters reveal common patterns in popular, well-rated content 🎉.  \n",
        "- **Positive growth opportunity:** Leverage insights from clusters for content recommendations and marketing.  \n",
        "> ✅ Positive impact: Enables identification of high-value content and trends.  \n",
        "\n",
        "**Overall Insight**  \n",
        "\n",
        "---  \n",
        "\n",
        "> The scatter matrix allows visual exploration of relationships, detection of outliers, and observation of type-based patterns across multiple numeric features at once. It’s effective for spotting trends, anomalies, and correlations in the dataset 📽️✨.\n"
      ],
      "metadata": {
        "id": "uPQ8RGwHveiV"
      }
    },
    {
      "cell_type": "markdown",
      "source": [
        "## **5. Solution to Business Objective**"
      ],
      "metadata": {
        "id": "JcMwzZxoAimU"
      }
    },
    {
      "cell_type": "markdown",
      "source": [
        "#### What do you suggest the client to achieve Business Objective ?\n",
        "Explain Briefly."
      ],
      "metadata": {
        "id": "8G2x9gOozGDZ"
      }
    },
    {
      "cell_type": "markdown",
      "source": [
        "**From the analysis of Amazon Prime TV Shows and Movies dataset, we observed that**:\n",
        "\n",
        "\n",
        "1. Movies dominate the platform compared to TV shows.\n",
        "\n",
        "2. Drama, Comedy, and Action emerged as the most popular genres.\n",
        "\n",
        "3. United States and India lead in content production, while other countries contribute less.\n",
        "\n",
        "4. IMDb and TMDB scores correlate with votes and popularity, showing that higher-rated titles drive stronger engagement.\n",
        "\n",
        "5. Certain age certifications (like TV-MA/16+) dominate, indicating a preference for mature audience content.\n",
        "\n",
        "6. Bubble and Treemap plots highlighted that a small portion of titles contribute significantly to popularity.\n",
        "\n",
        "\n",
        "\n",
        "👉 **Based on these findings, the solution to achieve the business objective is**:\n",
        "\n",
        "1. Prioritize High-Demand Genres – Focus future acquisitions on Drama, Comedy, and Action as they attract the largest audience share.\n",
        "\n",
        "2. Invest in Regional Diversity – Strengthen content in emerging markets (beyond US & India) to capture untapped audiences.\n",
        "\n",
        "3. Quality Over Quantity – Since higher IMDb/TMDB-rated shows gain more traction, prioritize acquiring or producing high-quality titles instead of merely expanding volume.\n",
        "\n",
        "4. Targeted Recommendations – Use insights from age certifications and viewer preferences to improve recommendation systems for different age groups.\n",
        "\n",
        "5. Talent Strategy – Highlight top-performing directors/actors in promotions and collaborations to boost engagement."
      ],
      "metadata": {
        "id": "pASKb0qOza21"
      }
    },
    {
      "cell_type": "markdown",
      "source": [
        "# **Conclusion**"
      ],
      "metadata": {
        "id": "gCX9965dhzqZ"
      }
    },
    {
      "cell_type": "markdown",
      "source": [
        "This project provided valuable insights into Amazon Prime Video’s content library by analyzing both titles and credits data. Through systematic data cleaning, integration, and exploratory data analysis, we identified key patterns in content distribution, genres, ratings, and audience preferences. The findings revealed that movies dominate the platform, with Drama, Comedy, and Action being the most prevalent genres. The United States and India emerged as leading content producers, while higher IMDb and TMDB scores strongly correlated with popularity and engagement. Furthermore, the analysis highlighted that mature audience certifications are most common, reflecting a strategic focus on adult-oriented content.\n",
        "\n",
        "Overall, the analysis demonstrates that Amazon Prime’s growth strategy should focus on strengthening high-demand genres, expanding regional diversity, and prioritizing quality over quantity in content production. These insights not only inform content acquisition and recommendation strategies but also provide actionable guidance to enhance user engagement and drive subscription growth in the competitive streaming market."
      ],
      "metadata": {
        "id": "Fjb1IsQkh3yE"
      }
    },
    {
      "cell_type": "markdown",
      "source": [
        "### ***Hurrah! You have successfully completed your EDA Capstone Project !!!***"
      ],
      "metadata": {
        "id": "gIfDvo9L0UH2"
      }
    }
  ]
}